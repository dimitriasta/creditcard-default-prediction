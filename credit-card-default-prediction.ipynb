{
 "cells": [
  {
   "cell_type": "markdown",
   "metadata": {},
   "source": [
    "# **I. INTRODUCTION**\n",
    "\n",
    "Hello! Welcome to my Notebook.\n",
    "\n",
    "Notebook ini merupakan bagian dari tugas *Milestone 1* yang dibuat oleh **Asta Zeska Dimitri** dari Batch **001-HCK**."
   ]
  },
  {
   "cell_type": "markdown",
   "metadata": {},
   "source": [
    "## I.1. THE DATA\n",
    "\n",
    "Untuk data yang digunakan kali ini adalah data credit_card_default. Data ini tersedia di Google Cloud Platform dan merupakan bagian dari bigquery-public-data.ml_datasets. Untuk kolom tabel yang dipilih adalah limit_balance, sex, education_level, marital_status, age, pay_0, pay_2, pay_3, pay_4, pay_5, pay_6, bill_amt_1, bill_amt_2, bill_amt_3, bill_amt_4, bill_amt_5, bill_amt_6, pay_amt_1, pay_amt_2, pay_amt_3, pay_amt_4, pay_amt_5, pay_amt_6, default_payment_next_month.\n",
    "\n",
    "Tabel diambil dengan menggunakan kode query dibawah ini:\n",
    "\n",
    "~~~sql\n",
    "SELECT * EXCEPT (id, predicted_default_payment_next_month)\n",
    "FROM `bigquery-public-data.ml_datasets.credit_card_default`\n",
    "~~~\n",
    "\n",
    "Kemudian disimpan dalam format (*.csv).\n",
    "\n",
    "Keterangan setiap kolomnya:\n",
    "- limit_balance: Amount of given credit in dollars (includes individual and family/supplementary credit\n",
    "- sex: Gender (1=male, 2=female)\n",
    "- education_level: (1=graduate school, 2=university, 3=high school, 4=others, 5=unknown, 6=unknown)\n",
    "- marital_status: Marital status (1=married, 2=single, 3=others)\n",
    "- age: Age in years\n",
    "- pay_0: Repayment status in September, 2005 (-1=pay duly, 1=payment delay for one month, 2=payment delay for two months, ... 8=payment delay for eight months, 9=payment delay for nine months and above)\n",
    "- pay_2: Repayment status in August, 2005 (scale same as above)\n",
    "- pay_3: Repayment status in July, 2005 (scale same as above)\n",
    "- pay_4: Repayment status in June, 2005 (scale same as above)\n",
    "- pay_5: Repayment status in May, 2005 (scale same as above)\n",
    "- pay_6: Repayment status in April, 2005 (scale same as above)\n",
    "- bill_amt_1: Amount of bill statement in September, 2005 (dollar)\n",
    "- bill_amt_2: Amount of bill statement in August, 2005 (dollar)\n",
    "- bill_amt_3: Amount of bill statement in July, 2005 (dollar)\n",
    "- bill_amt_4: Amount of bill statement in June, 2005 (dollar)\n",
    "- bill_amt_5: Amount of bill statement in May, 2005 (dollar)\n",
    "- bill_amt_6: Amount of bill statement in April, 2005 (dollar)\n",
    "- pay_amt_1: Amount of previous payment in September, 2005 (dollar)\n",
    "- pay_amt_2: Amount of previous payment in August, 2005 (dollar)\n",
    "- pay_amt_3: Amount of previous payment in July, 2005 (dollar)\n",
    "- pay_amt_4: Amount of previous payment in June, 2005 (dollar)\n",
    "- pay_amt_5: Amount of previous payment in May, 2005 (dollar)\n",
    "- pay_amt_6: Amount of previous payment in April, 2005 (dollar)\n",
    "- default_payment_next_month: Default payment (1=yes, 0=no)"
   ]
  },
  {
   "cell_type": "markdown",
   "metadata": {},
   "source": [
    "## I.2.THE PROBLEM\n",
    "\n",
    "Penulis ingin memprediksi nasabah mana yang memiliki kecenderungan untuk menunggak cicilan (default) pada bulan depan dengan menggunakan beberapa model machine learning classification untuk membantu proses analisisnya."
   ]
  },
  {
   "cell_type": "markdown",
   "metadata": {},
   "source": [
    "# **II. IMPORT LIBRARIES**\n",
    "\n",
    "Memasukkan semua library yang akan digunakan dalam pengolahan data kali ini."
   ]
  },
  {
   "cell_type": "code",
   "execution_count": 3,
   "metadata": {},
   "outputs": [],
   "source": [
    "import pandas as pd\n",
    "import numpy as np\n",
    "import matplotlib.pyplot as plt\n",
    "import seaborn as sns\n",
    "import phik\n",
    "\n",
    "from sklearn.model_selection import train_test_split\n",
    "from sklearn.preprocessing import MinMaxScaler\n",
    "from sklearn.linear_model import LogisticRegression\n",
    "from sklearn.svm import SVC\n",
    "from sklearn.tree import DecisionTreeClassifier\n",
    "from sklearn.ensemble import RandomForestClassifier\n",
    "from sklearn.neighbors import KNeighborsClassifier\n",
    "from sklearn.naive_bayes import GaussianNB\n",
    "from sklearn.ensemble import GradientBoostingClassifier\n",
    "from sklearn.ensemble import AdaBoostClassifier\n",
    "from sklearn.model_selection import KFold\n",
    "from sklearn.model_selection import StratifiedKFold\n",
    "from sklearn.model_selection import GridSearchCV\n",
    "from sklearn.model_selection import cross_val_score\n",
    "from sklearn.metrics import classification_report, accuracy_score, ConfusionMatrixDisplay, confusion_matrix\n",
    "\n",
    "from feature_engine.outliers import Winsorizer "
   ]
  },
  {
   "cell_type": "markdown",
   "metadata": {},
   "source": [
    "# **III. DATA LOADING & OVERVIEW**\n",
    "\n",
    "Memasukkan data yang akan digunakan dalam pengerjaan analisis kali ini sekaligus melakukan sedikit overview mengenai data yang digunakan."
   ]
  },
  {
   "cell_type": "code",
   "execution_count": 4,
   "metadata": {},
   "outputs": [],
   "source": [
    "df = pd.read_csv('h8dsft_P1M1_Asta_Dimitri.csv')"
   ]
  },
  {
   "cell_type": "code",
   "execution_count": 5,
   "metadata": {},
   "outputs": [],
   "source": [
    "pd.set_option('display.max_columns', None)"
   ]
  },
  {
   "cell_type": "code",
   "execution_count": 7,
   "metadata": {},
   "outputs": [
    {
     "data": {
      "text/html": [
       "<div>\n",
       "<style scoped>\n",
       "    .dataframe tbody tr th:only-of-type {\n",
       "        vertical-align: middle;\n",
       "    }\n",
       "\n",
       "    .dataframe tbody tr th {\n",
       "        vertical-align: top;\n",
       "    }\n",
       "\n",
       "    .dataframe thead th {\n",
       "        text-align: right;\n",
       "    }\n",
       "</style>\n",
       "<table border=\"1\" class=\"dataframe\">\n",
       "  <thead>\n",
       "    <tr style=\"text-align: right;\">\n",
       "      <th></th>\n",
       "      <th>limit_balance</th>\n",
       "      <th>sex</th>\n",
       "      <th>education_level</th>\n",
       "      <th>marital_status</th>\n",
       "      <th>age</th>\n",
       "      <th>pay_0</th>\n",
       "      <th>pay_2</th>\n",
       "      <th>pay_3</th>\n",
       "      <th>pay_4</th>\n",
       "      <th>pay_5</th>\n",
       "      <th>pay_6</th>\n",
       "      <th>bill_amt_1</th>\n",
       "      <th>bill_amt_2</th>\n",
       "      <th>bill_amt_3</th>\n",
       "      <th>bill_amt_4</th>\n",
       "      <th>bill_amt_5</th>\n",
       "      <th>bill_amt_6</th>\n",
       "      <th>pay_amt_1</th>\n",
       "      <th>pay_amt_2</th>\n",
       "      <th>pay_amt_3</th>\n",
       "      <th>pay_amt_4</th>\n",
       "      <th>pay_amt_5</th>\n",
       "      <th>pay_amt_6</th>\n",
       "      <th>default_payment_next_month</th>\n",
       "    </tr>\n",
       "  </thead>\n",
       "  <tbody>\n",
       "    <tr>\n",
       "      <th>0</th>\n",
       "      <td>50000</td>\n",
       "      <td>1</td>\n",
       "      <td>1</td>\n",
       "      <td>2</td>\n",
       "      <td>39</td>\n",
       "      <td>0</td>\n",
       "      <td>0</td>\n",
       "      <td>0</td>\n",
       "      <td>0</td>\n",
       "      <td>0</td>\n",
       "      <td>0</td>\n",
       "      <td>47174</td>\n",
       "      <td>47974</td>\n",
       "      <td>48630</td>\n",
       "      <td>50803</td>\n",
       "      <td>30789</td>\n",
       "      <td>15874</td>\n",
       "      <td>1800</td>\n",
       "      <td>2000</td>\n",
       "      <td>3000</td>\n",
       "      <td>2000</td>\n",
       "      <td>2000</td>\n",
       "      <td>2000</td>\n",
       "      <td>0</td>\n",
       "    </tr>\n",
       "    <tr>\n",
       "      <th>1</th>\n",
       "      <td>110000</td>\n",
       "      <td>2</td>\n",
       "      <td>1</td>\n",
       "      <td>2</td>\n",
       "      <td>29</td>\n",
       "      <td>0</td>\n",
       "      <td>0</td>\n",
       "      <td>0</td>\n",
       "      <td>0</td>\n",
       "      <td>0</td>\n",
       "      <td>0</td>\n",
       "      <td>48088</td>\n",
       "      <td>45980</td>\n",
       "      <td>44231</td>\n",
       "      <td>32489</td>\n",
       "      <td>26354</td>\n",
       "      <td>20221</td>\n",
       "      <td>2000</td>\n",
       "      <td>2010</td>\n",
       "      <td>3000</td>\n",
       "      <td>3000</td>\n",
       "      <td>3000</td>\n",
       "      <td>1000</td>\n",
       "      <td>0</td>\n",
       "    </tr>\n",
       "    <tr>\n",
       "      <th>2</th>\n",
       "      <td>270000</td>\n",
       "      <td>1</td>\n",
       "      <td>1</td>\n",
       "      <td>2</td>\n",
       "      <td>36</td>\n",
       "      <td>0</td>\n",
       "      <td>0</td>\n",
       "      <td>0</td>\n",
       "      <td>2</td>\n",
       "      <td>0</td>\n",
       "      <td>0</td>\n",
       "      <td>78630</td>\n",
       "      <td>68921</td>\n",
       "      <td>46512</td>\n",
       "      <td>40335</td>\n",
       "      <td>37165</td>\n",
       "      <td>22156</td>\n",
       "      <td>10076</td>\n",
       "      <td>4018</td>\n",
       "      <td>14</td>\n",
       "      <td>2051</td>\n",
       "      <td>2000</td>\n",
       "      <td>0</td>\n",
       "      <td>0</td>\n",
       "    </tr>\n",
       "    <tr>\n",
       "      <th>3</th>\n",
       "      <td>130000</td>\n",
       "      <td>1</td>\n",
       "      <td>1</td>\n",
       "      <td>1</td>\n",
       "      <td>45</td>\n",
       "      <td>0</td>\n",
       "      <td>0</td>\n",
       "      <td>0</td>\n",
       "      <td>0</td>\n",
       "      <td>0</td>\n",
       "      <td>0</td>\n",
       "      <td>58180</td>\n",
       "      <td>59134</td>\n",
       "      <td>61156</td>\n",
       "      <td>62377</td>\n",
       "      <td>63832</td>\n",
       "      <td>65099</td>\n",
       "      <td>2886</td>\n",
       "      <td>2908</td>\n",
       "      <td>2129</td>\n",
       "      <td>2354</td>\n",
       "      <td>2366</td>\n",
       "      <td>2291</td>\n",
       "      <td>0</td>\n",
       "    </tr>\n",
       "    <tr>\n",
       "      <th>4</th>\n",
       "      <td>50000</td>\n",
       "      <td>1</td>\n",
       "      <td>1</td>\n",
       "      <td>2</td>\n",
       "      <td>24</td>\n",
       "      <td>0</td>\n",
       "      <td>0</td>\n",
       "      <td>0</td>\n",
       "      <td>0</td>\n",
       "      <td>0</td>\n",
       "      <td>0</td>\n",
       "      <td>42058</td>\n",
       "      <td>35340</td>\n",
       "      <td>22110</td>\n",
       "      <td>19837</td>\n",
       "      <td>19855</td>\n",
       "      <td>20151</td>\n",
       "      <td>1367</td>\n",
       "      <td>1606</td>\n",
       "      <td>692</td>\n",
       "      <td>709</td>\n",
       "      <td>721</td>\n",
       "      <td>692</td>\n",
       "      <td>0</td>\n",
       "    </tr>\n",
       "    <tr>\n",
       "      <th>5</th>\n",
       "      <td>20000</td>\n",
       "      <td>1</td>\n",
       "      <td>1</td>\n",
       "      <td>2</td>\n",
       "      <td>29</td>\n",
       "      <td>0</td>\n",
       "      <td>0</td>\n",
       "      <td>2</td>\n",
       "      <td>0</td>\n",
       "      <td>0</td>\n",
       "      <td>0</td>\n",
       "      <td>14897</td>\n",
       "      <td>17512</td>\n",
       "      <td>16926</td>\n",
       "      <td>17368</td>\n",
       "      <td>17959</td>\n",
       "      <td>19023</td>\n",
       "      <td>3170</td>\n",
       "      <td>0</td>\n",
       "      <td>1000</td>\n",
       "      <td>1000</td>\n",
       "      <td>3000</td>\n",
       "      <td>0</td>\n",
       "      <td>0</td>\n",
       "    </tr>\n",
       "    <tr>\n",
       "      <th>6</th>\n",
       "      <td>220000</td>\n",
       "      <td>1</td>\n",
       "      <td>1</td>\n",
       "      <td>2</td>\n",
       "      <td>38</td>\n",
       "      <td>0</td>\n",
       "      <td>0</td>\n",
       "      <td>0</td>\n",
       "      <td>0</td>\n",
       "      <td>0</td>\n",
       "      <td>0</td>\n",
       "      <td>209044</td>\n",
       "      <td>211453</td>\n",
       "      <td>217237</td>\n",
       "      <td>198681</td>\n",
       "      <td>202479</td>\n",
       "      <td>206221</td>\n",
       "      <td>7705</td>\n",
       "      <td>9656</td>\n",
       "      <td>7189</td>\n",
       "      <td>7404</td>\n",
       "      <td>7490</td>\n",
       "      <td>7517</td>\n",
       "      <td>0</td>\n",
       "    </tr>\n",
       "    <tr>\n",
       "      <th>7</th>\n",
       "      <td>50000</td>\n",
       "      <td>1</td>\n",
       "      <td>1</td>\n",
       "      <td>1</td>\n",
       "      <td>42</td>\n",
       "      <td>0</td>\n",
       "      <td>0</td>\n",
       "      <td>0</td>\n",
       "      <td>0</td>\n",
       "      <td>0</td>\n",
       "      <td>0</td>\n",
       "      <td>49887</td>\n",
       "      <td>49515</td>\n",
       "      <td>38680</td>\n",
       "      <td>29664</td>\n",
       "      <td>29057</td>\n",
       "      <td>29083</td>\n",
       "      <td>1850</td>\n",
       "      <td>1507</td>\n",
       "      <td>1100</td>\n",
       "      <td>1200</td>\n",
       "      <td>1116</td>\n",
       "      <td>2900</td>\n",
       "      <td>0</td>\n",
       "    </tr>\n",
       "    <tr>\n",
       "      <th>8</th>\n",
       "      <td>170000</td>\n",
       "      <td>1</td>\n",
       "      <td>1</td>\n",
       "      <td>1</td>\n",
       "      <td>41</td>\n",
       "      <td>0</td>\n",
       "      <td>0</td>\n",
       "      <td>0</td>\n",
       "      <td>0</td>\n",
       "      <td>0</td>\n",
       "      <td>0</td>\n",
       "      <td>149941</td>\n",
       "      <td>68912</td>\n",
       "      <td>72741</td>\n",
       "      <td>76149</td>\n",
       "      <td>84474</td>\n",
       "      <td>92400</td>\n",
       "      <td>3200</td>\n",
       "      <td>6000</td>\n",
       "      <td>5000</td>\n",
       "      <td>10000</td>\n",
       "      <td>10000</td>\n",
       "      <td>780</td>\n",
       "      <td>0</td>\n",
       "    </tr>\n",
       "    <tr>\n",
       "      <th>9</th>\n",
       "      <td>50000</td>\n",
       "      <td>2</td>\n",
       "      <td>1</td>\n",
       "      <td>2</td>\n",
       "      <td>24</td>\n",
       "      <td>0</td>\n",
       "      <td>0</td>\n",
       "      <td>2</td>\n",
       "      <td>0</td>\n",
       "      <td>0</td>\n",
       "      <td>0</td>\n",
       "      <td>52227</td>\n",
       "      <td>55264</td>\n",
       "      <td>52028</td>\n",
       "      <td>32140</td>\n",
       "      <td>32216</td>\n",
       "      <td>31482</td>\n",
       "      <td>5350</td>\n",
       "      <td>0</td>\n",
       "      <td>1085</td>\n",
       "      <td>2000</td>\n",
       "      <td>1226</td>\n",
       "      <td>2415</td>\n",
       "      <td>0</td>\n",
       "    </tr>\n",
       "  </tbody>\n",
       "</table>\n",
       "</div>"
      ],
      "text/plain": [
       "   limit_balance  sex  education_level  marital_status  age  pay_0  pay_2  \\\n",
       "0          50000    1                1               2   39      0      0   \n",
       "1         110000    2                1               2   29      0      0   \n",
       "2         270000    1                1               2   36      0      0   \n",
       "3         130000    1                1               1   45      0      0   \n",
       "4          50000    1                1               2   24      0      0   \n",
       "5          20000    1                1               2   29      0      0   \n",
       "6         220000    1                1               2   38      0      0   \n",
       "7          50000    1                1               1   42      0      0   \n",
       "8         170000    1                1               1   41      0      0   \n",
       "9          50000    2                1               2   24      0      0   \n",
       "\n",
       "   pay_3  pay_4  pay_5  pay_6  bill_amt_1  bill_amt_2  bill_amt_3  bill_amt_4  \\\n",
       "0      0      0      0      0       47174       47974       48630       50803   \n",
       "1      0      0      0      0       48088       45980       44231       32489   \n",
       "2      0      2      0      0       78630       68921       46512       40335   \n",
       "3      0      0      0      0       58180       59134       61156       62377   \n",
       "4      0      0      0      0       42058       35340       22110       19837   \n",
       "5      2      0      0      0       14897       17512       16926       17368   \n",
       "6      0      0      0      0      209044      211453      217237      198681   \n",
       "7      0      0      0      0       49887       49515       38680       29664   \n",
       "8      0      0      0      0      149941       68912       72741       76149   \n",
       "9      2      0      0      0       52227       55264       52028       32140   \n",
       "\n",
       "   bill_amt_5  bill_amt_6  pay_amt_1  pay_amt_2  pay_amt_3  pay_amt_4  \\\n",
       "0       30789       15874       1800       2000       3000       2000   \n",
       "1       26354       20221       2000       2010       3000       3000   \n",
       "2       37165       22156      10076       4018         14       2051   \n",
       "3       63832       65099       2886       2908       2129       2354   \n",
       "4       19855       20151       1367       1606        692        709   \n",
       "5       17959       19023       3170          0       1000       1000   \n",
       "6      202479      206221       7705       9656       7189       7404   \n",
       "7       29057       29083       1850       1507       1100       1200   \n",
       "8       84474       92400       3200       6000       5000      10000   \n",
       "9       32216       31482       5350          0       1085       2000   \n",
       "\n",
       "   pay_amt_5  pay_amt_6  default_payment_next_month  \n",
       "0       2000       2000                           0  \n",
       "1       3000       1000                           0  \n",
       "2       2000          0                           0  \n",
       "3       2366       2291                           0  \n",
       "4        721        692                           0  \n",
       "5       3000          0                           0  \n",
       "6       7490       7517                           0  \n",
       "7       1116       2900                           0  \n",
       "8      10000        780                           0  \n",
       "9       1226       2415                           0  "
      ]
     },
     "execution_count": 7,
     "metadata": {},
     "output_type": "execute_result"
    }
   ],
   "source": [
    "df.head(10)"
   ]
  },
  {
   "cell_type": "code",
   "execution_count": 6,
   "metadata": {},
   "outputs": [
    {
     "data": {
      "text/html": [
       "<div>\n",
       "<style scoped>\n",
       "    .dataframe tbody tr th:only-of-type {\n",
       "        vertical-align: middle;\n",
       "    }\n",
       "\n",
       "    .dataframe tbody tr th {\n",
       "        vertical-align: top;\n",
       "    }\n",
       "\n",
       "    .dataframe thead th {\n",
       "        text-align: right;\n",
       "    }\n",
       "</style>\n",
       "<table border=\"1\" class=\"dataframe\">\n",
       "  <thead>\n",
       "    <tr style=\"text-align: right;\">\n",
       "      <th></th>\n",
       "      <th>limit_balance</th>\n",
       "      <th>sex</th>\n",
       "      <th>education_level</th>\n",
       "      <th>marital_status</th>\n",
       "      <th>age</th>\n",
       "      <th>pay_0</th>\n",
       "      <th>pay_2</th>\n",
       "      <th>pay_3</th>\n",
       "      <th>pay_4</th>\n",
       "      <th>pay_5</th>\n",
       "      <th>pay_6</th>\n",
       "      <th>bill_amt_1</th>\n",
       "      <th>bill_amt_2</th>\n",
       "      <th>bill_amt_3</th>\n",
       "      <th>bill_amt_4</th>\n",
       "      <th>bill_amt_5</th>\n",
       "      <th>bill_amt_6</th>\n",
       "      <th>pay_amt_1</th>\n",
       "      <th>pay_amt_2</th>\n",
       "      <th>pay_amt_3</th>\n",
       "      <th>pay_amt_4</th>\n",
       "      <th>pay_amt_5</th>\n",
       "      <th>pay_amt_6</th>\n",
       "      <th>default_payment_next_month</th>\n",
       "    </tr>\n",
       "  </thead>\n",
       "  <tbody>\n",
       "    <tr>\n",
       "      <th>2962</th>\n",
       "      <td>80000</td>\n",
       "      <td>1</td>\n",
       "      <td>1</td>\n",
       "      <td>2</td>\n",
       "      <td>28</td>\n",
       "      <td>1</td>\n",
       "      <td>-1</td>\n",
       "      <td>-1</td>\n",
       "      <td>-1</td>\n",
       "      <td>-2</td>\n",
       "      <td>-2</td>\n",
       "      <td>0</td>\n",
       "      <td>47</td>\n",
       "      <td>207</td>\n",
       "      <td>0</td>\n",
       "      <td>0</td>\n",
       "      <td>0</td>\n",
       "      <td>47</td>\n",
       "      <td>207</td>\n",
       "      <td>0</td>\n",
       "      <td>0</td>\n",
       "      <td>0</td>\n",
       "      <td>0</td>\n",
       "      <td>0</td>\n",
       "    </tr>\n",
       "    <tr>\n",
       "      <th>2963</th>\n",
       "      <td>200000</td>\n",
       "      <td>1</td>\n",
       "      <td>2</td>\n",
       "      <td>1</td>\n",
       "      <td>53</td>\n",
       "      <td>1</td>\n",
       "      <td>-1</td>\n",
       "      <td>-1</td>\n",
       "      <td>-2</td>\n",
       "      <td>-2</td>\n",
       "      <td>-1</td>\n",
       "      <td>0</td>\n",
       "      <td>2920</td>\n",
       "      <td>0</td>\n",
       "      <td>0</td>\n",
       "      <td>0</td>\n",
       "      <td>6753</td>\n",
       "      <td>2920</td>\n",
       "      <td>0</td>\n",
       "      <td>0</td>\n",
       "      <td>0</td>\n",
       "      <td>6753</td>\n",
       "      <td>0</td>\n",
       "      <td>1</td>\n",
       "    </tr>\n",
       "    <tr>\n",
       "      <th>2964</th>\n",
       "      <td>20000</td>\n",
       "      <td>2</td>\n",
       "      <td>1</td>\n",
       "      <td>2</td>\n",
       "      <td>24</td>\n",
       "      <td>-1</td>\n",
       "      <td>-1</td>\n",
       "      <td>-2</td>\n",
       "      <td>-2</td>\n",
       "      <td>-2</td>\n",
       "      <td>-2</td>\n",
       "      <td>379</td>\n",
       "      <td>0</td>\n",
       "      <td>0</td>\n",
       "      <td>0</td>\n",
       "      <td>0</td>\n",
       "      <td>0</td>\n",
       "      <td>0</td>\n",
       "      <td>0</td>\n",
       "      <td>0</td>\n",
       "      <td>0</td>\n",
       "      <td>0</td>\n",
       "      <td>0</td>\n",
       "      <td>0</td>\n",
       "    </tr>\n",
       "  </tbody>\n",
       "</table>\n",
       "</div>"
      ],
      "text/plain": [
       "      limit_balance  sex  education_level  marital_status  age  pay_0  pay_2  \\\n",
       "2962          80000    1                1               2   28      1     -1   \n",
       "2963         200000    1                2               1   53      1     -1   \n",
       "2964          20000    2                1               2   24     -1     -1   \n",
       "\n",
       "      pay_3  pay_4  pay_5  pay_6  bill_amt_1  bill_amt_2  bill_amt_3  \\\n",
       "2962     -1     -1     -2     -2           0          47         207   \n",
       "2963     -1     -2     -2     -1           0        2920           0   \n",
       "2964     -2     -2     -2     -2         379           0           0   \n",
       "\n",
       "      bill_amt_4  bill_amt_5  bill_amt_6  pay_amt_1  pay_amt_2  pay_amt_3  \\\n",
       "2962           0           0           0         47        207          0   \n",
       "2963           0           0        6753       2920          0          0   \n",
       "2964           0           0           0          0          0          0   \n",
       "\n",
       "      pay_amt_4  pay_amt_5  pay_amt_6  default_payment_next_month  \n",
       "2962          0          0          0                           0  \n",
       "2963          0       6753          0                           1  \n",
       "2964          0          0          0                           0  "
      ]
     },
     "execution_count": 6,
     "metadata": {},
     "output_type": "execute_result"
    }
   ],
   "source": [
    "df.tail(3)"
   ]
  },
  {
   "cell_type": "markdown",
   "metadata": {},
   "source": [
    "Beberapa nama kolom masih bisa dipersingkat lagi, hal ini agar mempermudah proses pengerjaan kedepannya. Lalu kolom pay_0 memiliki penamaan yang berbeda sendiri jika dibandingkan dengan kolom bill_amt_x dan pay_amt_x, agar tidak menimbulkan kerancuan maka akan diubah sesuai dengan pola penamaan kolom yang lain."
   ]
  },
  {
   "cell_type": "code",
   "execution_count": 7,
   "metadata": {},
   "outputs": [],
   "source": [
    "df.rename(columns={'limit_balance': 'limit', 'education_level': 'education', 'marital_status': 'marriage', 'pay_0': 'pay_1', 'default_payment_next_month': 'default'}, inplace=True)"
   ]
  },
  {
   "cell_type": "code",
   "execution_count": 8,
   "metadata": {},
   "outputs": [
    {
     "data": {
      "text/plain": [
       "(2965, 24)"
      ]
     },
     "execution_count": 8,
     "metadata": {},
     "output_type": "execute_result"
    }
   ],
   "source": [
    "df.shape"
   ]
  },
  {
   "cell_type": "code",
   "execution_count": 9,
   "metadata": {},
   "outputs": [
    {
     "name": "stdout",
     "output_type": "stream",
     "text": [
      "<class 'pandas.core.frame.DataFrame'>\n",
      "RangeIndex: 2965 entries, 0 to 2964\n",
      "Data columns (total 24 columns):\n",
      " #   Column      Non-Null Count  Dtype\n",
      "---  ------      --------------  -----\n",
      " 0   limit       2965 non-null   int64\n",
      " 1   sex         2965 non-null   int64\n",
      " 2   education   2965 non-null   int64\n",
      " 3   marriage    2965 non-null   int64\n",
      " 4   age         2965 non-null   int64\n",
      " 5   pay_1       2965 non-null   int64\n",
      " 6   pay_2       2965 non-null   int64\n",
      " 7   pay_3       2965 non-null   int64\n",
      " 8   pay_4       2965 non-null   int64\n",
      " 9   pay_5       2965 non-null   int64\n",
      " 10  pay_6       2965 non-null   int64\n",
      " 11  bill_amt_1  2965 non-null   int64\n",
      " 12  bill_amt_2  2965 non-null   int64\n",
      " 13  bill_amt_3  2965 non-null   int64\n",
      " 14  bill_amt_4  2965 non-null   int64\n",
      " 15  bill_amt_5  2965 non-null   int64\n",
      " 16  bill_amt_6  2965 non-null   int64\n",
      " 17  pay_amt_1   2965 non-null   int64\n",
      " 18  pay_amt_2   2965 non-null   int64\n",
      " 19  pay_amt_3   2965 non-null   int64\n",
      " 20  pay_amt_4   2965 non-null   int64\n",
      " 21  pay_amt_5   2965 non-null   int64\n",
      " 22  pay_amt_6   2965 non-null   int64\n",
      " 23  default     2965 non-null   int64\n",
      "dtypes: int64(24)\n",
      "memory usage: 556.1 KB\n"
     ]
    }
   ],
   "source": [
    "df.info()"
   ]
  },
  {
   "cell_type": "markdown",
   "metadata": {},
   "source": [
    "Tidak ditemukannya missing value null pada data."
   ]
  },
  {
   "cell_type": "code",
   "execution_count": 10,
   "metadata": {},
   "outputs": [
    {
     "data": {
      "text/html": [
       "<div>\n",
       "<style scoped>\n",
       "    .dataframe tbody tr th:only-of-type {\n",
       "        vertical-align: middle;\n",
       "    }\n",
       "\n",
       "    .dataframe tbody tr th {\n",
       "        vertical-align: top;\n",
       "    }\n",
       "\n",
       "    .dataframe thead th {\n",
       "        text-align: right;\n",
       "    }\n",
       "</style>\n",
       "<table border=\"1\" class=\"dataframe\">\n",
       "  <thead>\n",
       "    <tr style=\"text-align: right;\">\n",
       "      <th></th>\n",
       "      <th>limit</th>\n",
       "      <th>sex</th>\n",
       "      <th>education</th>\n",
       "      <th>marriage</th>\n",
       "      <th>age</th>\n",
       "      <th>pay_1</th>\n",
       "      <th>pay_2</th>\n",
       "      <th>pay_3</th>\n",
       "      <th>pay_4</th>\n",
       "      <th>pay_5</th>\n",
       "      <th>pay_6</th>\n",
       "      <th>bill_amt_1</th>\n",
       "      <th>bill_amt_2</th>\n",
       "      <th>bill_amt_3</th>\n",
       "      <th>bill_amt_4</th>\n",
       "      <th>bill_amt_5</th>\n",
       "      <th>bill_amt_6</th>\n",
       "      <th>pay_amt_1</th>\n",
       "      <th>pay_amt_2</th>\n",
       "      <th>pay_amt_3</th>\n",
       "      <th>pay_amt_4</th>\n",
       "      <th>pay_amt_5</th>\n",
       "      <th>pay_amt_6</th>\n",
       "      <th>default</th>\n",
       "    </tr>\n",
       "  </thead>\n",
       "  <tbody>\n",
       "    <tr>\n",
       "      <th>count</th>\n",
       "      <td>2965.000000</td>\n",
       "      <td>2965.000000</td>\n",
       "      <td>2965.000000</td>\n",
       "      <td>2965.000000</td>\n",
       "      <td>2965.000000</td>\n",
       "      <td>2965.000000</td>\n",
       "      <td>2965.000000</td>\n",
       "      <td>2965.000000</td>\n",
       "      <td>2965.000000</td>\n",
       "      <td>2965.000000</td>\n",
       "      <td>2965.000000</td>\n",
       "      <td>2965.000000</td>\n",
       "      <td>2965.000000</td>\n",
       "      <td>2965.000000</td>\n",
       "      <td>2965.000000</td>\n",
       "      <td>2965.000000</td>\n",
       "      <td>2965.000000</td>\n",
       "      <td>2965.000000</td>\n",
       "      <td>2.965000e+03</td>\n",
       "      <td>2965.000000</td>\n",
       "      <td>2965.000000</td>\n",
       "      <td>2965.000000</td>\n",
       "      <td>2965.000000</td>\n",
       "      <td>2965.000000</td>\n",
       "    </tr>\n",
       "    <tr>\n",
       "      <th>mean</th>\n",
       "      <td>163369.308600</td>\n",
       "      <td>1.607757</td>\n",
       "      <td>1.849578</td>\n",
       "      <td>1.559865</td>\n",
       "      <td>35.193255</td>\n",
       "      <td>0.005059</td>\n",
       "      <td>-0.122428</td>\n",
       "      <td>-0.141653</td>\n",
       "      <td>-0.185160</td>\n",
       "      <td>-0.225295</td>\n",
       "      <td>-0.254637</td>\n",
       "      <td>52118.305228</td>\n",
       "      <td>50649.153120</td>\n",
       "      <td>48239.757504</td>\n",
       "      <td>44089.683305</td>\n",
       "      <td>40956.080607</td>\n",
       "      <td>39773.072513</td>\n",
       "      <td>6348.902867</td>\n",
       "      <td>6.272494e+03</td>\n",
       "      <td>5150.497133</td>\n",
       "      <td>4561.376054</td>\n",
       "      <td>4913.286678</td>\n",
       "      <td>5382.701518</td>\n",
       "      <td>0.214165</td>\n",
       "    </tr>\n",
       "    <tr>\n",
       "      <th>std</th>\n",
       "      <td>125030.415472</td>\n",
       "      <td>0.488333</td>\n",
       "      <td>0.778184</td>\n",
       "      <td>0.522317</td>\n",
       "      <td>9.109439</td>\n",
       "      <td>1.114395</td>\n",
       "      <td>1.180784</td>\n",
       "      <td>1.183630</td>\n",
       "      <td>1.178322</td>\n",
       "      <td>1.159003</td>\n",
       "      <td>1.167305</td>\n",
       "      <td>72328.670541</td>\n",
       "      <td>70785.001588</td>\n",
       "      <td>68145.710745</td>\n",
       "      <td>61907.454056</td>\n",
       "      <td>58271.904751</td>\n",
       "      <td>57303.488981</td>\n",
       "      <td>20885.735336</td>\n",
       "      <td>2.887967e+04</td>\n",
       "      <td>14287.079982</td>\n",
       "      <td>13281.499599</td>\n",
       "      <td>16734.340778</td>\n",
       "      <td>17275.953029</td>\n",
       "      <td>0.410311</td>\n",
       "    </tr>\n",
       "    <tr>\n",
       "      <th>min</th>\n",
       "      <td>10000.000000</td>\n",
       "      <td>1.000000</td>\n",
       "      <td>0.000000</td>\n",
       "      <td>0.000000</td>\n",
       "      <td>21.000000</td>\n",
       "      <td>-2.000000</td>\n",
       "      <td>-2.000000</td>\n",
       "      <td>-2.000000</td>\n",
       "      <td>-2.000000</td>\n",
       "      <td>-2.000000</td>\n",
       "      <td>-2.000000</td>\n",
       "      <td>-11545.000000</td>\n",
       "      <td>-67526.000000</td>\n",
       "      <td>-25443.000000</td>\n",
       "      <td>-46627.000000</td>\n",
       "      <td>-46627.000000</td>\n",
       "      <td>-73895.000000</td>\n",
       "      <td>0.000000</td>\n",
       "      <td>0.000000e+00</td>\n",
       "      <td>0.000000</td>\n",
       "      <td>0.000000</td>\n",
       "      <td>0.000000</td>\n",
       "      <td>0.000000</td>\n",
       "      <td>0.000000</td>\n",
       "    </tr>\n",
       "    <tr>\n",
       "      <th>25%</th>\n",
       "      <td>50000.000000</td>\n",
       "      <td>1.000000</td>\n",
       "      <td>1.000000</td>\n",
       "      <td>1.000000</td>\n",
       "      <td>28.000000</td>\n",
       "      <td>-1.000000</td>\n",
       "      <td>-1.000000</td>\n",
       "      <td>-1.000000</td>\n",
       "      <td>-1.000000</td>\n",
       "      <td>-1.000000</td>\n",
       "      <td>-1.000000</td>\n",
       "      <td>3958.000000</td>\n",
       "      <td>3390.000000</td>\n",
       "      <td>3302.000000</td>\n",
       "      <td>2582.000000</td>\n",
       "      <td>1958.000000</td>\n",
       "      <td>1430.000000</td>\n",
       "      <td>1013.000000</td>\n",
       "      <td>9.900000e+02</td>\n",
       "      <td>477.000000</td>\n",
       "      <td>313.000000</td>\n",
       "      <td>323.000000</td>\n",
       "      <td>173.000000</td>\n",
       "      <td>0.000000</td>\n",
       "    </tr>\n",
       "    <tr>\n",
       "      <th>50%</th>\n",
       "      <td>140000.000000</td>\n",
       "      <td>2.000000</td>\n",
       "      <td>2.000000</td>\n",
       "      <td>2.000000</td>\n",
       "      <td>34.000000</td>\n",
       "      <td>0.000000</td>\n",
       "      <td>0.000000</td>\n",
       "      <td>0.000000</td>\n",
       "      <td>0.000000</td>\n",
       "      <td>0.000000</td>\n",
       "      <td>0.000000</td>\n",
       "      <td>24257.000000</td>\n",
       "      <td>23111.000000</td>\n",
       "      <td>21520.000000</td>\n",
       "      <td>19894.000000</td>\n",
       "      <td>18814.000000</td>\n",
       "      <td>18508.000000</td>\n",
       "      <td>2234.000000</td>\n",
       "      <td>2.175000e+03</td>\n",
       "      <td>1994.000000</td>\n",
       "      <td>1600.000000</td>\n",
       "      <td>1646.000000</td>\n",
       "      <td>1615.000000</td>\n",
       "      <td>0.000000</td>\n",
       "    </tr>\n",
       "    <tr>\n",
       "      <th>75%</th>\n",
       "      <td>230000.000000</td>\n",
       "      <td>2.000000</td>\n",
       "      <td>2.000000</td>\n",
       "      <td>2.000000</td>\n",
       "      <td>41.000000</td>\n",
       "      <td>0.000000</td>\n",
       "      <td>0.000000</td>\n",
       "      <td>0.000000</td>\n",
       "      <td>0.000000</td>\n",
       "      <td>0.000000</td>\n",
       "      <td>0.000000</td>\n",
       "      <td>69852.000000</td>\n",
       "      <td>67827.000000</td>\n",
       "      <td>63023.000000</td>\n",
       "      <td>58622.000000</td>\n",
       "      <td>53373.000000</td>\n",
       "      <td>52287.000000</td>\n",
       "      <td>5087.000000</td>\n",
       "      <td>5.000000e+03</td>\n",
       "      <td>4500.000000</td>\n",
       "      <td>4000.000000</td>\n",
       "      <td>4021.000000</td>\n",
       "      <td>4081.000000</td>\n",
       "      <td>0.000000</td>\n",
       "    </tr>\n",
       "    <tr>\n",
       "      <th>max</th>\n",
       "      <td>800000.000000</td>\n",
       "      <td>2.000000</td>\n",
       "      <td>6.000000</td>\n",
       "      <td>3.000000</td>\n",
       "      <td>69.000000</td>\n",
       "      <td>8.000000</td>\n",
       "      <td>7.000000</td>\n",
       "      <td>7.000000</td>\n",
       "      <td>8.000000</td>\n",
       "      <td>7.000000</td>\n",
       "      <td>7.000000</td>\n",
       "      <td>613860.000000</td>\n",
       "      <td>512650.000000</td>\n",
       "      <td>578971.000000</td>\n",
       "      <td>488808.000000</td>\n",
       "      <td>441981.000000</td>\n",
       "      <td>436172.000000</td>\n",
       "      <td>493358.000000</td>\n",
       "      <td>1.227082e+06</td>\n",
       "      <td>199209.000000</td>\n",
       "      <td>202076.000000</td>\n",
       "      <td>388071.000000</td>\n",
       "      <td>403500.000000</td>\n",
       "      <td>1.000000</td>\n",
       "    </tr>\n",
       "  </tbody>\n",
       "</table>\n",
       "</div>"
      ],
      "text/plain": [
       "               limit          sex    education     marriage          age  \\\n",
       "count    2965.000000  2965.000000  2965.000000  2965.000000  2965.000000   \n",
       "mean   163369.308600     1.607757     1.849578     1.559865    35.193255   \n",
       "std    125030.415472     0.488333     0.778184     0.522317     9.109439   \n",
       "min     10000.000000     1.000000     0.000000     0.000000    21.000000   \n",
       "25%     50000.000000     1.000000     1.000000     1.000000    28.000000   \n",
       "50%    140000.000000     2.000000     2.000000     2.000000    34.000000   \n",
       "75%    230000.000000     2.000000     2.000000     2.000000    41.000000   \n",
       "max    800000.000000     2.000000     6.000000     3.000000    69.000000   \n",
       "\n",
       "             pay_1        pay_2        pay_3        pay_4        pay_5  \\\n",
       "count  2965.000000  2965.000000  2965.000000  2965.000000  2965.000000   \n",
       "mean      0.005059    -0.122428    -0.141653    -0.185160    -0.225295   \n",
       "std       1.114395     1.180784     1.183630     1.178322     1.159003   \n",
       "min      -2.000000    -2.000000    -2.000000    -2.000000    -2.000000   \n",
       "25%      -1.000000    -1.000000    -1.000000    -1.000000    -1.000000   \n",
       "50%       0.000000     0.000000     0.000000     0.000000     0.000000   \n",
       "75%       0.000000     0.000000     0.000000     0.000000     0.000000   \n",
       "max       8.000000     7.000000     7.000000     8.000000     7.000000   \n",
       "\n",
       "             pay_6     bill_amt_1     bill_amt_2     bill_amt_3  \\\n",
       "count  2965.000000    2965.000000    2965.000000    2965.000000   \n",
       "mean     -0.254637   52118.305228   50649.153120   48239.757504   \n",
       "std       1.167305   72328.670541   70785.001588   68145.710745   \n",
       "min      -2.000000  -11545.000000  -67526.000000  -25443.000000   \n",
       "25%      -1.000000    3958.000000    3390.000000    3302.000000   \n",
       "50%       0.000000   24257.000000   23111.000000   21520.000000   \n",
       "75%       0.000000   69852.000000   67827.000000   63023.000000   \n",
       "max       7.000000  613860.000000  512650.000000  578971.000000   \n",
       "\n",
       "          bill_amt_4     bill_amt_5     bill_amt_6      pay_amt_1  \\\n",
       "count    2965.000000    2965.000000    2965.000000    2965.000000   \n",
       "mean    44089.683305   40956.080607   39773.072513    6348.902867   \n",
       "std     61907.454056   58271.904751   57303.488981   20885.735336   \n",
       "min    -46627.000000  -46627.000000  -73895.000000       0.000000   \n",
       "25%      2582.000000    1958.000000    1430.000000    1013.000000   \n",
       "50%     19894.000000   18814.000000   18508.000000    2234.000000   \n",
       "75%     58622.000000   53373.000000   52287.000000    5087.000000   \n",
       "max    488808.000000  441981.000000  436172.000000  493358.000000   \n",
       "\n",
       "          pay_amt_2      pay_amt_3      pay_amt_4      pay_amt_5  \\\n",
       "count  2.965000e+03    2965.000000    2965.000000    2965.000000   \n",
       "mean   6.272494e+03    5150.497133    4561.376054    4913.286678   \n",
       "std    2.887967e+04   14287.079982   13281.499599   16734.340778   \n",
       "min    0.000000e+00       0.000000       0.000000       0.000000   \n",
       "25%    9.900000e+02     477.000000     313.000000     323.000000   \n",
       "50%    2.175000e+03    1994.000000    1600.000000    1646.000000   \n",
       "75%    5.000000e+03    4500.000000    4000.000000    4021.000000   \n",
       "max    1.227082e+06  199209.000000  202076.000000  388071.000000   \n",
       "\n",
       "           pay_amt_6      default  \n",
       "count    2965.000000  2965.000000  \n",
       "mean     5382.701518     0.214165  \n",
       "std     17275.953029     0.410311  \n",
       "min         0.000000     0.000000  \n",
       "25%       173.000000     0.000000  \n",
       "50%      1615.000000     0.000000  \n",
       "75%      4081.000000     0.000000  \n",
       "max    403500.000000     1.000000  "
      ]
     },
     "execution_count": 10,
     "metadata": {},
     "output_type": "execute_result"
    }
   ],
   "source": [
    "df.describe()"
   ]
  },
  {
   "cell_type": "markdown",
   "metadata": {},
   "source": [
    "Beberapa informasi yang bisa diambil dari statistik deskriptif diatas:\n",
    "- ada nilai 0 pada kolom education, padahal berdasarkan keterangan kolom di atas nilainya hanya dari 1-6.\n",
    "- ada nilai 0 juga pada kolom marriage, padahal berdasarkan keterangan kolom di atas nilainya hanya 1-3.\n",
    "- ada nilai -2 dan 0 pada kolom pay_x yang juga tidak memiliki penjelasan pada keterangan kolom di atas."
   ]
  },
  {
   "cell_type": "code",
   "execution_count": 11,
   "metadata": {},
   "outputs": [
    {
     "data": {
      "text/plain": [
       "2    1400\n",
       "1    1039\n",
       "3     483\n",
       "5      24\n",
       "4      13\n",
       "6       4\n",
       "0       2\n",
       "Name: education, dtype: int64"
      ]
     },
     "execution_count": 11,
     "metadata": {},
     "output_type": "execute_result"
    }
   ],
   "source": [
    "df['education'].value_counts()"
   ]
  },
  {
   "cell_type": "markdown",
   "metadata": {},
   "source": [
    "Berikut adalah keterangan untuk kolom education: 1=graduate school, 2=university, 3=high school, 4=others, 5=unknown, 6=unknown.\n",
    "Dapat dilihat bahwa nilai 5 dan 6 tidak memiliki informasi yang spesifik, dan nilai 0 tidak dijelaskan. Penulis memutuskan untuk menggabungkan nilai-nilai tersebut ke dalam kelompok others atau nilai 4."
   ]
  },
  {
   "cell_type": "code",
   "execution_count": 12,
   "metadata": {},
   "outputs": [
    {
     "data": {
      "text/plain": [
       "2    1400\n",
       "1    1039\n",
       "3     483\n",
       "4      43\n",
       "Name: education, dtype: int64"
      ]
     },
     "execution_count": 12,
     "metadata": {},
     "output_type": "execute_result"
    }
   ],
   "source": [
    "df.loc[:, 'education'] = df.loc[:, 'education'].replace(0,4)\n",
    "df.loc[:, 'education'] = df.loc[:, 'education'].replace(5,4)\n",
    "df.loc[:, 'education'] = df.loc[:, 'education'].replace(6,4)\n",
    "df['education'].value_counts()"
   ]
  },
  {
   "cell_type": "code",
   "execution_count": 13,
   "metadata": {},
   "outputs": [
    {
     "data": {
      "text/plain": [
       "2    1594\n",
       "1    1332\n",
       "3      35\n",
       "0       4\n",
       "Name: marriage, dtype: int64"
      ]
     },
     "execution_count": 13,
     "metadata": {},
     "output_type": "execute_result"
    }
   ],
   "source": [
    "df['marriage'].value_counts()"
   ]
  },
  {
   "cell_type": "markdown",
   "metadata": {},
   "source": [
    "Berikut keterangan untuk kolom marriage: 1=married, 2=single, 3=others. Nilai 0 tidak dijelaskan dalam keterangan, maka penulis memutuskan untuk menggabungkan nilai 0 ke dalam kelompok others atau nomor 3."
   ]
  },
  {
   "cell_type": "code",
   "execution_count": 14,
   "metadata": {},
   "outputs": [
    {
     "data": {
      "text/plain": [
       "2    1594\n",
       "1    1332\n",
       "3      39\n",
       "Name: marriage, dtype: int64"
      ]
     },
     "execution_count": 14,
     "metadata": {},
     "output_type": "execute_result"
    }
   ],
   "source": [
    "df.loc[:, 'marriage'] = df.loc[:, 'marriage'].replace(0,3)\n",
    "df['marriage'].value_counts()"
   ]
  },
  {
   "cell_type": "code",
   "execution_count": 15,
   "metadata": {},
   "outputs": [
    {
     "data": {
      "text/plain": [
       " 0    1516\n",
       "-1     540\n",
       " 1     356\n",
       " 2     262\n",
       "-2     247\n",
       " 3      29\n",
       " 4       7\n",
       " 8       3\n",
       " 5       2\n",
       " 7       2\n",
       " 6       1\n",
       "Name: pay_1, dtype: int64"
      ]
     },
     "execution_count": 15,
     "metadata": {},
     "output_type": "execute_result"
    }
   ],
   "source": [
    "df['pay_1'].value_counts()"
   ]
  },
  {
   "cell_type": "markdown",
   "metadata": {},
   "source": [
    "Berikut adalah keterangan untuk kolom pay_x: -1=pay duly, 1=payment delay for one month, 2=payment delay for two months, ... 8=payment delay for eight months. Dapat terlihat bahwa kolom pay_x ini menunjukkan jumlah bulan yang ditunggak, 1 berarti menunggak 1 bulan, 2 berarti menunggak 2 bulan. Jadi menurut asumsi penulis, nilai -2, -1, dan 0 ini menunjukkan bahwa tidak ada penunggakan (pay duly), dan akan dikumpulkan ke satu kelompok dengan nilai 0."
   ]
  },
  {
   "cell_type": "code",
   "execution_count": 16,
   "metadata": {},
   "outputs": [
    {
     "data": {
      "text/plain": [
       "0    2303\n",
       "1     356\n",
       "2     262\n",
       "3      29\n",
       "4       7\n",
       "8       3\n",
       "5       2\n",
       "7       2\n",
       "6       1\n",
       "Name: pay_1, dtype: int64"
      ]
     },
     "execution_count": 16,
     "metadata": {},
     "output_type": "execute_result"
    }
   ],
   "source": [
    "df.loc[:, 'pay_1'] = df.loc[:, 'pay_1'].replace(-1,0)\n",
    "df.loc[:, 'pay_1'] = df.loc[:, 'pay_1'].replace(-2,0)\n",
    "df['pay_1'].value_counts()"
   ]
  },
  {
   "cell_type": "code",
   "execution_count": 17,
   "metadata": {},
   "outputs": [
    {
     "data": {
      "text/plain": [
       "0    2540\n",
       "2     374\n",
       "3      32\n",
       "4       8\n",
       "1       4\n",
       "7       3\n",
       "5       2\n",
       "6       2\n",
       "Name: pay_2, dtype: int64"
      ]
     },
     "execution_count": 17,
     "metadata": {},
     "output_type": "execute_result"
    }
   ],
   "source": [
    "df.loc[:, 'pay_2'] = df.loc[:, 'pay_2'].replace(-1,0)\n",
    "df.loc[:, 'pay_2'] = df.loc[:, 'pay_2'].replace(-2,0)\n",
    "df['pay_2'].value_counts()"
   ]
  },
  {
   "cell_type": "code",
   "execution_count": 18,
   "metadata": {},
   "outputs": [
    {
     "data": {
      "text/plain": [
       "0    2557\n",
       "2     368\n",
       "3      22\n",
       "4       8\n",
       "6       4\n",
       "5       3\n",
       "7       3\n",
       "Name: pay_3, dtype: int64"
      ]
     },
     "execution_count": 18,
     "metadata": {},
     "output_type": "execute_result"
    }
   ],
   "source": [
    "df.loc[:, 'pay_3'] = df.loc[:, 'pay_3'].replace(-1,0)\n",
    "df.loc[:, 'pay_3'] = df.loc[:, 'pay_3'].replace(-2,0)\n",
    "df['pay_3'].value_counts()"
   ]
  },
  {
   "cell_type": "code",
   "execution_count": 19,
   "metadata": {},
   "outputs": [
    {
     "data": {
      "text/plain": [
       "0    2607\n",
       "2     324\n",
       "3      14\n",
       "4       7\n",
       "7       6\n",
       "5       5\n",
       "6       1\n",
       "8       1\n",
       "Name: pay_4, dtype: int64"
      ]
     },
     "execution_count": 19,
     "metadata": {},
     "output_type": "execute_result"
    }
   ],
   "source": [
    "df.loc[:, 'pay_4'] = df.loc[:, 'pay_4'].replace(-1,0)\n",
    "df.loc[:, 'pay_4'] = df.loc[:, 'pay_4'].replace(-2,0)\n",
    "df['pay_4'].value_counts()"
   ]
  },
  {
   "cell_type": "code",
   "execution_count": 20,
   "metadata": {},
   "outputs": [
    {
     "data": {
      "text/plain": [
       "0    2647\n",
       "2     280\n",
       "3      19\n",
       "4       9\n",
       "7       7\n",
       "5       2\n",
       "6       1\n",
       "Name: pay_5, dtype: int64"
      ]
     },
     "execution_count": 20,
     "metadata": {},
     "output_type": "execute_result"
    }
   ],
   "source": [
    "df.loc[:, 'pay_5'] = df.loc[:, 'pay_5'].replace(-1,0)\n",
    "df.loc[:, 'pay_5'] = df.loc[:, 'pay_5'].replace(-2,0)\n",
    "df['pay_5'].value_counts()"
   ]
  },
  {
   "cell_type": "code",
   "execution_count": 21,
   "metadata": {},
   "outputs": [
    {
     "data": {
      "text/plain": [
       "0    2636\n",
       "2     297\n",
       "3      21\n",
       "7       6\n",
       "6       3\n",
       "4       2\n",
       "Name: pay_6, dtype: int64"
      ]
     },
     "execution_count": 21,
     "metadata": {},
     "output_type": "execute_result"
    }
   ],
   "source": [
    "df.loc[:, 'pay_6'] = df.loc[:, 'pay_6'].replace(-1,0)\n",
    "df.loc[:, 'pay_6'] = df.loc[:, 'pay_6'].replace(-2,0)\n",
    "df['pay_6'].value_counts()"
   ]
  },
  {
   "cell_type": "markdown",
   "metadata": {},
   "source": [
    "# **IV. EXPLORATORY DATA ANALYSIS (EDA)**\n",
    "\n",
    "Pada section ini kita akan mencoba melakukan eksplorasi pada data yang digunakan dengan harapan ada informasi/insight yang akan membantu dalam proses analisis selanjutnya."
   ]
  },
  {
   "cell_type": "markdown",
   "metadata": {},
   "source": [
    "## Kolom Target (default)"
   ]
  },
  {
   "cell_type": "code",
   "execution_count": 22,
   "metadata": {},
   "outputs": [
    {
     "data": {
      "image/png": "[encoded data removed]",
      "text/plain": [
       "<Figure size 576x576 with 1 Axes>"
      ]
     },
     "metadata": {
      "needs_background": "light"
     },
     "output_type": "display_data"
    }
   ],
   "source": [
    "plt.figure(figsize=(8,8))\n",
    "ax = sns.countplot(data=df, x='default', palette='mako')\n",
    "ax.bar_label(ax.containers[0], label_type='edge')\n",
    "plt.xticks([0,1], ['No', 'Yes']);"
   ]
  },
  {
   "cell_type": "code",
   "execution_count": 23,
   "metadata": {},
   "outputs": [
    {
     "data": {
      "image/png": "[encoded data removed]",
      "text/plain": [
       "<Figure size 576x576 with 1 Axes>"
      ]
     },
     "metadata": {},
     "output_type": "display_data"
    }
   ],
   "source": [
    "plt.figure(figsize=(8,8), facecolor='white')\n",
    "df['default'].value_counts().plot(kind='pie', labels = ['',''], autopct='%1.1f%%', colors = ['darkslateblue','teal'])\n",
    "plt.legend(labels=['No', 'Yes']);"
   ]
  },
  {
   "cell_type": "markdown",
   "metadata": {},
   "source": [
    "Ketidakseimbangan pada kolom target (default) kita kali ini cukup signifikan. Dengan porsi 'No' sebesar 79% dan 'Yes' sebesar 21%."
   ]
  },
  {
   "cell_type": "markdown",
   "metadata": {},
   "source": [
    "## Kolom Features (sex)"
   ]
  },
  {
   "cell_type": "code",
   "execution_count": 24,
   "metadata": {},
   "outputs": [
    {
     "data": {
      "image/png": "[encoded data removed]",
      "text/plain": [
       "<Figure size 576x576 with 1 Axes>"
      ]
     },
     "metadata": {
      "needs_background": "light"
     },
     "output_type": "display_data"
    }
   ],
   "source": [
    "plt.figure(figsize=(8,8))\n",
    "sns.countplot(data=df, x='sex', hue='default', palette='mako')\n",
    "plt.xticks([0,1], ['Male', 'Female']);"
   ]
  },
  {
   "cell_type": "code",
   "execution_count": 103,
   "metadata": {},
   "outputs": [
    {
     "data": {
      "image/png": "[encoded data removed]",
      "text/plain": [
       "<Figure size 576x576 with 1 Axes>"
      ]
     },
     "metadata": {
      "needs_background": "light"
     },
     "output_type": "display_data"
    }
   ],
   "source": [
    "plt.figure(figsize=(8,8))\n",
    "sns.barplot(data=df, x='sex', y='default', palette='mako', ci=None)\n",
    "plt.ylabel('% of Default')\n",
    "plt.xticks([0,1], ['Male', 'Female']);"
   ]
  },
  {
   "cell_type": "markdown",
   "metadata": {},
   "source": [
    "Disini kita coba melihat hubungan antara jenis kelamin dengan kecenderungan default-nya. Laki-laki lebih cenderung untuk melakukan default dibandingkan dengan perempuan."
   ]
  },
  {
   "cell_type": "markdown",
   "metadata": {},
   "source": [
    "## Kolom Features (education)"
   ]
  },
  {
   "cell_type": "code",
   "execution_count": 26,
   "metadata": {},
   "outputs": [
    {
     "data": {
      "image/png": "[encoded data removed]",
      "text/plain": [
       "<Figure size 576x576 with 1 Axes>"
      ]
     },
     "metadata": {
      "needs_background": "light"
     },
     "output_type": "display_data"
    }
   ],
   "source": [
    "plt.figure(figsize=(8,8))\n",
    "sns.countplot(data=df, x='education', hue='default', palette='mako')\n",
    "plt.xticks([0,1,2,3], ['Graduate School', 'University', 'High School', 'Others']);"
   ]
  },
  {
   "cell_type": "code",
   "execution_count": 104,
   "metadata": {},
   "outputs": [
    {
     "data": {
      "image/png": "[encoded data removed]",
      "text/plain": [
       "<Figure size 576x576 with 1 Axes>"
      ]
     },
     "metadata": {
      "needs_background": "light"
     },
     "output_type": "display_data"
    }
   ],
   "source": [
    "plt.figure(figsize=(8,8))\n",
    "sns.barplot(data=df, x='education', y='default', palette='mako', ci=None)\n",
    "plt.ylabel('% of Default')\n",
    "plt.xticks([0,1,2,3], ['Graduate School', 'University', 'High School', 'Others']);"
   ]
  },
  {
   "cell_type": "markdown",
   "metadata": {},
   "source": [
    "Disini kita coba melihat hubungan antara tingkat pendidikan dengan kecenderungan untuk melakukan default. Ternyata lulusan high school dan university memiliki kecenderungan default yang lebih tinggi jika dibandingkan dengan yang lain. "
   ]
  },
  {
   "cell_type": "markdown",
   "metadata": {},
   "source": [
    "## Kolom Features (marriage)"
   ]
  },
  {
   "cell_type": "code",
   "execution_count": 108,
   "metadata": {},
   "outputs": [
    {
     "data": {
      "image/png": "[encoded data removed]",
      "text/plain": [
       "<Figure size 576x576 with 1 Axes>"
      ]
     },
     "metadata": {
      "needs_background": "light"
     },
     "output_type": "display_data"
    }
   ],
   "source": [
    "plt.figure(figsize=(8,8))\n",
    "sns.countplot(data=df, x='marriage', hue='default', palette='mako')\n",
    "plt.xticks([0,1,2], ['Single', 'Married', 'Others']);"
   ]
  },
  {
   "cell_type": "code",
   "execution_count": 109,
   "metadata": {},
   "outputs": [
    {
     "data": {
      "image/png": "[encoded data removed]",
      "text/plain": [
       "<Figure size 576x576 with 1 Axes>"
      ]
     },
     "metadata": {
      "needs_background": "light"
     },
     "output_type": "display_data"
    }
   ],
   "source": [
    "plt.figure(figsize=(8,8))\n",
    "sns.barplot(data=df, x='marriage', y='default', palette='mako', ci=None)\n",
    "plt.ylabel('% of Default')\n",
    "plt.xticks([0,1,2], ['Single', 'Married', 'Others']);"
   ]
  },
  {
   "cell_type": "markdown",
   "metadata": {},
   "source": [
    "Disini kita ingin melihat hubungan antara status pernikahan dengan kecenderungan untuk melakukan default. Ternyata yang memiliki kecenderungan untuk melakukan default adalah nasabah yang sudah menikah."
   ]
  },
  {
   "cell_type": "markdown",
   "metadata": {},
   "source": [
    "## Kolom Features (age)"
   ]
  },
  {
   "cell_type": "code",
   "execution_count": 30,
   "metadata": {},
   "outputs": [
    {
     "data": {
      "image/png": "[encoded data removed]",
      "text/plain": [
       "<Figure size 1152x576 with 1 Axes>"
      ]
     },
     "metadata": {
      "needs_background": "light"
     },
     "output_type": "display_data"
    }
   ],
   "source": [
    "plt.figure(figsize=(16,8))\n",
    "sns.countplot(data=df, x='age', hue='default', palette='mako');"
   ]
  },
  {
   "cell_type": "code",
   "execution_count": 31,
   "metadata": {},
   "outputs": [
    {
     "data": {
      "text/plain": [
       "(20, 30]    1132\n",
       "(30, 40]    1050\n",
       "(40, 50]     567\n",
       "(50, 60]     187\n",
       "(60, 70]      29\n",
       "Name: age_range, dtype: int64"
      ]
     },
     "execution_count": 31,
     "metadata": {},
     "output_type": "execute_result"
    }
   ],
   "source": [
    "df_copy = df.copy()\n",
    "df_copy['age_range'] = pd.cut(df_copy['age'], [20, 30, 40, 50, 60, 70])\n",
    "df_copy['age_range'].value_counts()"
   ]
  },
  {
   "cell_type": "code",
   "execution_count": 32,
   "metadata": {},
   "outputs": [
    {
     "data": {
      "image/png": "[encoded data removed]",
      "text/plain": [
       "<Figure size 576x576 with 1 Axes>"
      ]
     },
     "metadata": {
      "needs_background": "light"
     },
     "output_type": "display_data"
    }
   ],
   "source": [
    "plt.figure(figsize=(8,8))\n",
    "sns.countplot(data=df_copy, x='age_range', hue='default', palette='mako');"
   ]
  },
  {
   "cell_type": "code",
   "execution_count": 110,
   "metadata": {},
   "outputs": [
    {
     "data": {
      "image/png": "[encoded data removed]",
      "text/plain": [
       "<Figure size 576x576 with 1 Axes>"
      ]
     },
     "metadata": {
      "needs_background": "light"
     },
     "output_type": "display_data"
    }
   ],
   "source": [
    "plt.figure(figsize=(8,8))\n",
    "sns.barplot(data=df_copy, x='age_range', y='default', palette='mako', ci=None)\n",
    "plt.ylabel('% of Default');"
   ]
  },
  {
   "cell_type": "markdown",
   "metadata": {},
   "source": [
    "Disini kita ingin melihat apakah kecenderungan untuk melakukan default dipengaruhi oleh usia nasabah. Sebelum itu penulis memutuskan untuk membuat beberapa kelompok usia agar lebih mudah dalam pengambilan informasinya. Terlihat bahwa nasabah dengan kecenderungan melakukan default lebih tinggi adalah nasabah dengan usia 41-50 tahun."
   ]
  },
  {
   "cell_type": "markdown",
   "metadata": {},
   "source": [
    "## Kolom Features (limit)"
   ]
  },
  {
   "cell_type": "code",
   "execution_count": 34,
   "metadata": {},
   "outputs": [
    {
     "name": "stdout",
     "output_type": "stream",
     "text": [
      "(0, 100000]         1254\n",
      "(100000, 200000]     781\n",
      "(200000, 300000]     522\n",
      "(300000, 400000]     258\n",
      "(400000, 500000]     136\n",
      "(500000, 600000]       8\n",
      "(600000, 700000]       3\n",
      "(700000, 800000]       3\n",
      "Name: limit_range, dtype: int64\n"
     ]
    }
   ],
   "source": [
    "df_copy['limit_range'] = pd.cut(df_copy['limit'],[0, 100000, 200000, 300000, 400000, 500000, 600000, 700000, 800000])\n",
    "print(df_copy['limit_range'].value_counts())"
   ]
  },
  {
   "cell_type": "code",
   "execution_count": 35,
   "metadata": {},
   "outputs": [
    {
     "data": {
      "image/png": "[encoded data removed]",
      "text/plain": [
       "<Figure size 1152x576 with 1 Axes>"
      ]
     },
     "metadata": {
      "needs_background": "light"
     },
     "output_type": "display_data"
    }
   ],
   "source": [
    "plt.figure(figsize=(16,8))\n",
    "sns.countplot(data=df_copy, x='limit_range', hue='default', palette='mako');"
   ]
  },
  {
   "cell_type": "code",
   "execution_count": 113,
   "metadata": {},
   "outputs": [
    {
     "data": {
      "image/png": "[encoded data removed]",
      "text/plain": [
       "<Figure size 1152x1152 with 1 Axes>"
      ]
     },
     "metadata": {
      "needs_background": "light"
     },
     "output_type": "display_data"
    }
   ],
   "source": [
    "plt.figure(figsize=(16,16))\n",
    "sns.barplot(data=df_copy, x='limit_range', y='default', palette='mako', ci=None)\n",
    "plt.ylabel('% of Default');"
   ]
  },
  {
   "cell_type": "markdown",
   "metadata": {},
   "source": [
    "Penulis juga ingin melihat apakah ada hubungan antara limit balance yang diberikan dengan kecenderungan untuk melakukan default. Disini penulis juga melakukan pengelompokkan dengan tujuan yang sama agar lebih mudah dalam pengambilan informasi. Terlihat bahwa nasabah-nasabah dengan limit balance yang rendah lebih tinggi kemungkinan melakukan default dibandingkan dengan nasabah-nasabah dengan limit balance yang tinggi."
   ]
  },
  {
   "cell_type": "markdown",
   "metadata": {},
   "source": [
    "## Kolom Features (pay_x)"
   ]
  },
  {
   "cell_type": "code",
   "execution_count": 37,
   "metadata": {},
   "outputs": [
    {
     "data": {
      "image/png": "[encoded data removed]",
      "text/plain": [
       "<Figure size 1152x1152 with 6 Axes>"
      ]
     },
     "metadata": {
      "needs_background": "light"
     },
     "output_type": "display_data"
    }
   ],
   "source": [
    "pay_x = ['pay_1', 'pay_2', 'pay_3', 'pay_4', 'pay_5', 'pay_6']\n",
    "plt.figure(figsize=(16,16))\n",
    "\n",
    "for i, col in enumerate(pay_x):    \n",
    "    plt.subplot(3, 2, i+1)\n",
    "    sns.barplot(data=df, x=col, y='default', palette='mako', ci=None)\n",
    "    plt.ylabel('% of Default');"
   ]
  },
  {
   "cell_type": "markdown",
   "metadata": {},
   "source": [
    "Penulis ingin melihat apakah ada pengaruh antara status pembayaran tiap bulannya dengan kecenderungan melakukan default. Dapat terlihat dari enam grafik diatas memiliki kesamaan yaitu nasabah dengan status pembayaran tepat waktu (diwakili angka 0) paling rendah kecenderungan defaultnya dibandingkan dengan nasabah-nasabah yang memiliki tunggakan pembayaran. "
   ]
  },
  {
   "cell_type": "markdown",
   "metadata": {},
   "source": [
    "## Kolom Features (bill_amt_x)"
   ]
  },
  {
   "cell_type": "code",
   "execution_count": 38,
   "metadata": {},
   "outputs": [
    {
     "name": "stdout",
     "output_type": "stream",
     "text": [
      "(0, 150000]         2435\n",
      "(-150000, 0]         258\n",
      "(150000, 300000]     230\n",
      "(300000, 450000]      34\n",
      "(450000, 615000]       8\n",
      "Name: bill_1_range, dtype: int64\n",
      "(0, 150000]         2406\n",
      "(-150000, 0]         292\n",
      "(150000, 300000]     226\n",
      "(300000, 450000]      35\n",
      "(450000, 615000]       6\n",
      "Name: bill_2_range, dtype: int64\n",
      "(0, 150000]         2391\n",
      "(-150000, 0]         334\n",
      "(150000, 300000]     199\n",
      "(300000, 450000]      37\n",
      "(450000, 615000]       4\n",
      "Name: bill_3_range, dtype: int64\n",
      "(0, 150000]         2401\n",
      "(-150000, 0]         371\n",
      "(150000, 300000]     168\n",
      "(300000, 450000]      23\n",
      "(450000, 615000]       2\n",
      "Name: bill_4_range, dtype: int64\n",
      "(0, 150000]         2375\n",
      "(-150000, 0]         415\n",
      "(150000, 300000]     158\n",
      "(300000, 450000]      17\n",
      "(450000, 615000]       0\n",
      "Name: bill_5_range, dtype: int64\n",
      "(0, 150000]         2358\n",
      "(-150000, 0]         441\n",
      "(150000, 300000]     151\n",
      "(300000, 450000]      15\n",
      "(450000, 615000]       0\n",
      "Name: bill_6_range, dtype: int64\n"
     ]
    }
   ],
   "source": [
    "bill_amt_x = ['bill_amt_1', 'bill_amt_2', 'bill_amt_3', 'bill_amt_4', 'bill_amt_5', 'bill_amt_6']\n",
    "bill_range = ['bill_1_range', 'bill_2_range', 'bill_3_range', 'bill_4_range', 'bill_5_range', 'bill_6_range']\n",
    "\n",
    "for i, col in enumerate (bill_range):\n",
    "    df_copy[col] = pd.cut(df_copy[bill_amt_x[i]], [-150000, 0, 150000, 300000, 450000, 615000])\n",
    "    print(df_copy[col].value_counts())"
   ]
  },
  {
   "cell_type": "code",
   "execution_count": 39,
   "metadata": {},
   "outputs": [
    {
     "data": {
      "image/png": "[encoded data removed]",
      "text/plain": [
       "<Figure size 1440x1152 with 6 Axes>"
      ]
     },
     "metadata": {
      "needs_background": "light"
     },
     "output_type": "display_data"
    }
   ],
   "source": [
    "plt.figure(figsize=(20,16))\n",
    "\n",
    "for i, col in enumerate(bill_range):    \n",
    "    plt.subplot(3, 2, i+1)\n",
    "    sns.barplot(data=df_copy, x=col, y='default', palette='mako', ci=None)\n",
    "    plt.ylabel('% of Default');"
   ]
  },
  {
   "cell_type": "markdown",
   "metadata": {},
   "source": [
    "Disini penulis ingin melihat hubungan antara jumlah tagihan dengan kecenderungan untuk melakukan default. Sebelumnya penulis mengelompokkan jumlah tagihan ini menjadi beberapa kelompok agar lebih mudah dilihat polanya. Seperti dugaan awal penulis, nasabah-nasabah dengan jumlah tagihan yang besar memang lebih cenderung untuk melakukan default jika dibandingkan dengan nasabah dengan jumlah tagihan yang lebih kecil."
   ]
  },
  {
   "cell_type": "markdown",
   "metadata": {},
   "source": [
    "## Kolom Features (pay_amt_x)"
   ]
  },
  {
   "cell_type": "code",
   "execution_count": 40,
   "metadata": {},
   "outputs": [
    {
     "name": "stdout",
     "output_type": "stream",
     "text": [
      "(-1, 50000]          2908\n",
      "(50000, 100000]        34\n",
      "(100000, 150000]        9\n",
      "(150000, 200000]        6\n",
      "(200000, 300000]        6\n",
      "(300000, 1250000]       2\n",
      "Name: pay_1_range, dtype: int64\n",
      "(-1, 50000]          2914\n",
      "(50000, 100000]        32\n",
      "(100000, 150000]       13\n",
      "(300000, 1250000]       3\n",
      "(200000, 300000]        2\n",
      "(150000, 200000]        1\n",
      "Name: pay_2_range, dtype: int64\n",
      "(-1, 50000]          2922\n",
      "(50000, 100000]        27\n",
      "(150000, 200000]        9\n",
      "(100000, 150000]        7\n",
      "(200000, 300000]        0\n",
      "(300000, 1250000]       0\n",
      "Name: pay_3_range, dtype: int64\n",
      "(-1, 50000]          2927\n",
      "(50000, 100000]        22\n",
      "(100000, 150000]        8\n",
      "(150000, 200000]        7\n",
      "(200000, 300000]        1\n",
      "(300000, 1250000]       0\n",
      "Name: pay_4_range, dtype: int64\n",
      "(-1, 50000]          2924\n",
      "(50000, 100000]        23\n",
      "(100000, 150000]        8\n",
      "(150000, 200000]        5\n",
      "(200000, 300000]        4\n",
      "(300000, 1250000]       1\n",
      "Name: pay_5_range, dtype: int64\n",
      "(-1, 50000]          2907\n",
      "(50000, 100000]        38\n",
      "(100000, 150000]        9\n",
      "(150000, 200000]        7\n",
      "(200000, 300000]        3\n",
      "(300000, 1250000]       1\n",
      "Name: pay_6_range, dtype: int64\n"
     ]
    }
   ],
   "source": [
    "pay_amt_x = ['pay_amt_1', 'pay_amt_2', 'pay_amt_3', 'pay_amt_4', 'pay_amt_5', 'pay_amt_6']\n",
    "pay_range = ['pay_1_range', 'pay_2_range', 'pay_3_range', 'pay_4_range', 'pay_5_range', 'pay_6_range']\n",
    "\n",
    "for i, col in enumerate (pay_range):\n",
    "    df_copy[col] = pd.cut(df_copy[pay_amt_x[i]], [-1, 50000, 100000, 150000, 200000, 300000, 1250000])\n",
    "    print(df_copy[col].value_counts())"
   ]
  },
  {
   "cell_type": "code",
   "execution_count": 41,
   "metadata": {},
   "outputs": [
    {
     "data": {
      "image/png": "[encoded data removed]",
      "text/plain": [
       "<Figure size 1728x1152 with 6 Axes>"
      ]
     },
     "metadata": {
      "needs_background": "light"
     },
     "output_type": "display_data"
    }
   ],
   "source": [
    "plt.figure(figsize=(24,16))\n",
    "\n",
    "for i, col in enumerate(pay_range):    \n",
    "    plt.subplot(3, 2, i+1)\n",
    "    sns.barplot(data=df_copy, x=col, y='default', palette='mako', ci=None)\n",
    "    plt.ylabel('% of Default');"
   ]
  },
  {
   "cell_type": "markdown",
   "metadata": {},
   "source": [
    "Pada grafik diatas juga bisa dilihat hubungan antara jumlah pembayaran yang dilakukan nasabah dengan kecenderungan melakukan default. Ini juga sesuai dengan dugaan dari penulis, dimana nasabah dengan kecenderungan default tinggi adalah nasabah yang tidak melakukan pembayaran atau jumlah pembayarannya kecil. Dan nasabah dengan pembayaran diatas 300.000 tidak pernah melakukan default."
   ]
  },
  {
   "cell_type": "markdown",
   "metadata": {},
   "source": [
    "# **V. DATA PRE-PROCESSING**"
   ]
  },
  {
   "cell_type": "markdown",
   "metadata": {},
   "source": [
    "Mengubah tipe kolom yang terlihat seperti numerik namun sebenarnya kategorikal."
   ]
  },
  {
   "cell_type": "code",
   "execution_count": 42,
   "metadata": {},
   "outputs": [],
   "source": [
    "df['sex'] = df['sex'].apply(str)\n",
    "df['education'] = df['education'].apply(str)\n",
    "df['marriage'] = df['marriage'].apply(str)\n",
    "df['pay_1'] = df['pay_1'].apply(str)\n",
    "df['pay_2'] = df['pay_2'].apply(str)\n",
    "df['pay_3'] = df['pay_3'].apply(str)\n",
    "df['pay_4'] = df['pay_4'].apply(str)\n",
    "df['pay_5'] = df['pay_5'].apply(str)\n",
    "df['pay_6'] = df['pay_6'].apply(str)"
   ]
  },
  {
   "cell_type": "markdown",
   "metadata": {},
   "source": [
    "## Pemisahan Data Inference"
   ]
  },
  {
   "cell_type": "code",
   "execution_count": 43,
   "metadata": {},
   "outputs": [
    {
     "data": {
      "text/html": [
       "<div>\n",
       "<style scoped>\n",
       "    .dataframe tbody tr th:only-of-type {\n",
       "        vertical-align: middle;\n",
       "    }\n",
       "\n",
       "    .dataframe tbody tr th {\n",
       "        vertical-align: top;\n",
       "    }\n",
       "\n",
       "    .dataframe thead th {\n",
       "        text-align: right;\n",
       "    }\n",
       "</style>\n",
       "<table border=\"1\" class=\"dataframe\">\n",
       "  <thead>\n",
       "    <tr style=\"text-align: right;\">\n",
       "      <th></th>\n",
       "      <th>limit</th>\n",
       "      <th>sex</th>\n",
       "      <th>education</th>\n",
       "      <th>marriage</th>\n",
       "      <th>age</th>\n",
       "      <th>pay_1</th>\n",
       "      <th>pay_2</th>\n",
       "      <th>pay_3</th>\n",
       "      <th>pay_4</th>\n",
       "      <th>pay_5</th>\n",
       "      <th>pay_6</th>\n",
       "      <th>bill_amt_1</th>\n",
       "      <th>bill_amt_2</th>\n",
       "      <th>bill_amt_3</th>\n",
       "      <th>bill_amt_4</th>\n",
       "      <th>bill_amt_5</th>\n",
       "      <th>bill_amt_6</th>\n",
       "      <th>pay_amt_1</th>\n",
       "      <th>pay_amt_2</th>\n",
       "      <th>pay_amt_3</th>\n",
       "      <th>pay_amt_4</th>\n",
       "      <th>pay_amt_5</th>\n",
       "      <th>pay_amt_6</th>\n",
       "      <th>default</th>\n",
       "    </tr>\n",
       "  </thead>\n",
       "  <tbody>\n",
       "    <tr>\n",
       "      <th>1453</th>\n",
       "      <td>300000</td>\n",
       "      <td>2</td>\n",
       "      <td>2</td>\n",
       "      <td>1</td>\n",
       "      <td>46</td>\n",
       "      <td>0</td>\n",
       "      <td>0</td>\n",
       "      <td>0</td>\n",
       "      <td>0</td>\n",
       "      <td>0</td>\n",
       "      <td>0</td>\n",
       "      <td>5287</td>\n",
       "      <td>5750</td>\n",
       "      <td>2977</td>\n",
       "      <td>4796</td>\n",
       "      <td>2367</td>\n",
       "      <td>7367</td>\n",
       "      <td>3000</td>\n",
       "      <td>3000</td>\n",
       "      <td>2500</td>\n",
       "      <td>2367</td>\n",
       "      <td>5000</td>\n",
       "      <td>3000</td>\n",
       "      <td>0</td>\n",
       "    </tr>\n",
       "    <tr>\n",
       "      <th>2384</th>\n",
       "      <td>50000</td>\n",
       "      <td>1</td>\n",
       "      <td>2</td>\n",
       "      <td>1</td>\n",
       "      <td>50</td>\n",
       "      <td>1</td>\n",
       "      <td>1</td>\n",
       "      <td>0</td>\n",
       "      <td>0</td>\n",
       "      <td>0</td>\n",
       "      <td>0</td>\n",
       "      <td>36750</td>\n",
       "      <td>0</td>\n",
       "      <td>0</td>\n",
       "      <td>0</td>\n",
       "      <td>0</td>\n",
       "      <td>0</td>\n",
       "      <td>5000</td>\n",
       "      <td>0</td>\n",
       "      <td>0</td>\n",
       "      <td>0</td>\n",
       "      <td>0</td>\n",
       "      <td>0</td>\n",
       "      <td>0</td>\n",
       "    </tr>\n",
       "    <tr>\n",
       "      <th>94</th>\n",
       "      <td>30000</td>\n",
       "      <td>2</td>\n",
       "      <td>2</td>\n",
       "      <td>2</td>\n",
       "      <td>24</td>\n",
       "      <td>0</td>\n",
       "      <td>0</td>\n",
       "      <td>0</td>\n",
       "      <td>0</td>\n",
       "      <td>0</td>\n",
       "      <td>0</td>\n",
       "      <td>23729</td>\n",
       "      <td>27889</td>\n",
       "      <td>29500</td>\n",
       "      <td>29639</td>\n",
       "      <td>27546</td>\n",
       "      <td>6718</td>\n",
       "      <td>10000</td>\n",
       "      <td>2061</td>\n",
       "      <td>1200</td>\n",
       "      <td>551</td>\n",
       "      <td>0</td>\n",
       "      <td>0</td>\n",
       "      <td>1</td>\n",
       "    </tr>\n",
       "    <tr>\n",
       "      <th>1029</th>\n",
       "      <td>60000</td>\n",
       "      <td>2</td>\n",
       "      <td>2</td>\n",
       "      <td>1</td>\n",
       "      <td>37</td>\n",
       "      <td>0</td>\n",
       "      <td>0</td>\n",
       "      <td>0</td>\n",
       "      <td>0</td>\n",
       "      <td>0</td>\n",
       "      <td>0</td>\n",
       "      <td>38670</td>\n",
       "      <td>37606</td>\n",
       "      <td>35189</td>\n",
       "      <td>31373</td>\n",
       "      <td>28455</td>\n",
       "      <td>26598</td>\n",
       "      <td>1606</td>\n",
       "      <td>1674</td>\n",
       "      <td>1420</td>\n",
       "      <td>937</td>\n",
       "      <td>1006</td>\n",
       "      <td>1039</td>\n",
       "      <td>0</td>\n",
       "    </tr>\n",
       "    <tr>\n",
       "      <th>1153</th>\n",
       "      <td>20000</td>\n",
       "      <td>1</td>\n",
       "      <td>4</td>\n",
       "      <td>2</td>\n",
       "      <td>21</td>\n",
       "      <td>0</td>\n",
       "      <td>0</td>\n",
       "      <td>0</td>\n",
       "      <td>0</td>\n",
       "      <td>0</td>\n",
       "      <td>0</td>\n",
       "      <td>13203</td>\n",
       "      <td>4443</td>\n",
       "      <td>3259</td>\n",
       "      <td>2969</td>\n",
       "      <td>0</td>\n",
       "      <td>0</td>\n",
       "      <td>1036</td>\n",
       "      <td>1132</td>\n",
       "      <td>2000</td>\n",
       "      <td>0</td>\n",
       "      <td>0</td>\n",
       "      <td>0</td>\n",
       "      <td>0</td>\n",
       "    </tr>\n",
       "  </tbody>\n",
       "</table>\n",
       "</div>"
      ],
      "text/plain": [
       "       limit sex education marriage  age pay_1 pay_2 pay_3 pay_4 pay_5 pay_6  \\\n",
       "1453  300000   2         2        1   46     0     0     0     0     0     0   \n",
       "2384   50000   1         2        1   50     1     1     0     0     0     0   \n",
       "94     30000   2         2        2   24     0     0     0     0     0     0   \n",
       "1029   60000   2         2        1   37     0     0     0     0     0     0   \n",
       "1153   20000   1         4        2   21     0     0     0     0     0     0   \n",
       "\n",
       "      bill_amt_1  bill_amt_2  bill_amt_3  bill_amt_4  bill_amt_5  bill_amt_6  \\\n",
       "1453        5287        5750        2977        4796        2367        7367   \n",
       "2384       36750           0           0           0           0           0   \n",
       "94         23729       27889       29500       29639       27546        6718   \n",
       "1029       38670       37606       35189       31373       28455       26598   \n",
       "1153       13203        4443        3259        2969           0           0   \n",
       "\n",
       "      pay_amt_1  pay_amt_2  pay_amt_3  pay_amt_4  pay_amt_5  pay_amt_6  \\\n",
       "1453       3000       3000       2500       2367       5000       3000   \n",
       "2384       5000          0          0          0          0          0   \n",
       "94        10000       2061       1200        551          0          0   \n",
       "1029       1606       1674       1420        937       1006       1039   \n",
       "1153       1036       1132       2000          0          0          0   \n",
       "\n",
       "      default  \n",
       "1453        0  \n",
       "2384        0  \n",
       "94          1  \n",
       "1029        0  \n",
       "1153        0  "
      ]
     },
     "execution_count": 43,
     "metadata": {},
     "output_type": "execute_result"
    }
   ],
   "source": [
    "data_inf = df.sample(5, random_state=39)\n",
    "data_inf"
   ]
  },
  {
   "cell_type": "code",
   "execution_count": 44,
   "metadata": {},
   "outputs": [
    {
     "data": {
      "text/html": [
       "<div>\n",
       "<style scoped>\n",
       "    .dataframe tbody tr th:only-of-type {\n",
       "        vertical-align: middle;\n",
       "    }\n",
       "\n",
       "    .dataframe tbody tr th {\n",
       "        vertical-align: top;\n",
       "    }\n",
       "\n",
       "    .dataframe thead th {\n",
       "        text-align: right;\n",
       "    }\n",
       "</style>\n",
       "<table border=\"1\" class=\"dataframe\">\n",
       "  <thead>\n",
       "    <tr style=\"text-align: right;\">\n",
       "      <th></th>\n",
       "      <th>limit</th>\n",
       "      <th>sex</th>\n",
       "      <th>education</th>\n",
       "      <th>marriage</th>\n",
       "      <th>age</th>\n",
       "      <th>pay_1</th>\n",
       "      <th>pay_2</th>\n",
       "      <th>pay_3</th>\n",
       "      <th>pay_4</th>\n",
       "      <th>pay_5</th>\n",
       "      <th>pay_6</th>\n",
       "      <th>bill_amt_1</th>\n",
       "      <th>bill_amt_2</th>\n",
       "      <th>bill_amt_3</th>\n",
       "      <th>bill_amt_4</th>\n",
       "      <th>bill_amt_5</th>\n",
       "      <th>bill_amt_6</th>\n",
       "      <th>pay_amt_1</th>\n",
       "      <th>pay_amt_2</th>\n",
       "      <th>pay_amt_3</th>\n",
       "      <th>pay_amt_4</th>\n",
       "      <th>pay_amt_5</th>\n",
       "      <th>pay_amt_6</th>\n",
       "      <th>default</th>\n",
       "    </tr>\n",
       "  </thead>\n",
       "  <tbody>\n",
       "    <tr>\n",
       "      <th>0</th>\n",
       "      <td>50000</td>\n",
       "      <td>1</td>\n",
       "      <td>1</td>\n",
       "      <td>2</td>\n",
       "      <td>39</td>\n",
       "      <td>0</td>\n",
       "      <td>0</td>\n",
       "      <td>0</td>\n",
       "      <td>0</td>\n",
       "      <td>0</td>\n",
       "      <td>0</td>\n",
       "      <td>47174</td>\n",
       "      <td>47974</td>\n",
       "      <td>48630</td>\n",
       "      <td>50803</td>\n",
       "      <td>30789</td>\n",
       "      <td>15874</td>\n",
       "      <td>1800</td>\n",
       "      <td>2000</td>\n",
       "      <td>3000</td>\n",
       "      <td>2000</td>\n",
       "      <td>2000</td>\n",
       "      <td>2000</td>\n",
       "      <td>0</td>\n",
       "    </tr>\n",
       "    <tr>\n",
       "      <th>1</th>\n",
       "      <td>110000</td>\n",
       "      <td>2</td>\n",
       "      <td>1</td>\n",
       "      <td>2</td>\n",
       "      <td>29</td>\n",
       "      <td>0</td>\n",
       "      <td>0</td>\n",
       "      <td>0</td>\n",
       "      <td>0</td>\n",
       "      <td>0</td>\n",
       "      <td>0</td>\n",
       "      <td>48088</td>\n",
       "      <td>45980</td>\n",
       "      <td>44231</td>\n",
       "      <td>32489</td>\n",
       "      <td>26354</td>\n",
       "      <td>20221</td>\n",
       "      <td>2000</td>\n",
       "      <td>2010</td>\n",
       "      <td>3000</td>\n",
       "      <td>3000</td>\n",
       "      <td>3000</td>\n",
       "      <td>1000</td>\n",
       "      <td>0</td>\n",
       "    </tr>\n",
       "    <tr>\n",
       "      <th>2</th>\n",
       "      <td>270000</td>\n",
       "      <td>1</td>\n",
       "      <td>1</td>\n",
       "      <td>2</td>\n",
       "      <td>36</td>\n",
       "      <td>0</td>\n",
       "      <td>0</td>\n",
       "      <td>0</td>\n",
       "      <td>2</td>\n",
       "      <td>0</td>\n",
       "      <td>0</td>\n",
       "      <td>78630</td>\n",
       "      <td>68921</td>\n",
       "      <td>46512</td>\n",
       "      <td>40335</td>\n",
       "      <td>37165</td>\n",
       "      <td>22156</td>\n",
       "      <td>10076</td>\n",
       "      <td>4018</td>\n",
       "      <td>14</td>\n",
       "      <td>2051</td>\n",
       "      <td>2000</td>\n",
       "      <td>0</td>\n",
       "      <td>0</td>\n",
       "    </tr>\n",
       "    <tr>\n",
       "      <th>3</th>\n",
       "      <td>130000</td>\n",
       "      <td>1</td>\n",
       "      <td>1</td>\n",
       "      <td>1</td>\n",
       "      <td>45</td>\n",
       "      <td>0</td>\n",
       "      <td>0</td>\n",
       "      <td>0</td>\n",
       "      <td>0</td>\n",
       "      <td>0</td>\n",
       "      <td>0</td>\n",
       "      <td>58180</td>\n",
       "      <td>59134</td>\n",
       "      <td>61156</td>\n",
       "      <td>62377</td>\n",
       "      <td>63832</td>\n",
       "      <td>65099</td>\n",
       "      <td>2886</td>\n",
       "      <td>2908</td>\n",
       "      <td>2129</td>\n",
       "      <td>2354</td>\n",
       "      <td>2366</td>\n",
       "      <td>2291</td>\n",
       "      <td>0</td>\n",
       "    </tr>\n",
       "    <tr>\n",
       "      <th>4</th>\n",
       "      <td>50000</td>\n",
       "      <td>1</td>\n",
       "      <td>1</td>\n",
       "      <td>2</td>\n",
       "      <td>24</td>\n",
       "      <td>0</td>\n",
       "      <td>0</td>\n",
       "      <td>0</td>\n",
       "      <td>0</td>\n",
       "      <td>0</td>\n",
       "      <td>0</td>\n",
       "      <td>42058</td>\n",
       "      <td>35340</td>\n",
       "      <td>22110</td>\n",
       "      <td>19837</td>\n",
       "      <td>19855</td>\n",
       "      <td>20151</td>\n",
       "      <td>1367</td>\n",
       "      <td>1606</td>\n",
       "      <td>692</td>\n",
       "      <td>709</td>\n",
       "      <td>721</td>\n",
       "      <td>692</td>\n",
       "      <td>0</td>\n",
       "    </tr>\n",
       "    <tr>\n",
       "      <th>...</th>\n",
       "      <td>...</td>\n",
       "      <td>...</td>\n",
       "      <td>...</td>\n",
       "      <td>...</td>\n",
       "      <td>...</td>\n",
       "      <td>...</td>\n",
       "      <td>...</td>\n",
       "      <td>...</td>\n",
       "      <td>...</td>\n",
       "      <td>...</td>\n",
       "      <td>...</td>\n",
       "      <td>...</td>\n",
       "      <td>...</td>\n",
       "      <td>...</td>\n",
       "      <td>...</td>\n",
       "      <td>...</td>\n",
       "      <td>...</td>\n",
       "      <td>...</td>\n",
       "      <td>...</td>\n",
       "      <td>...</td>\n",
       "      <td>...</td>\n",
       "      <td>...</td>\n",
       "      <td>...</td>\n",
       "      <td>...</td>\n",
       "    </tr>\n",
       "    <tr>\n",
       "      <th>2960</th>\n",
       "      <td>210000</td>\n",
       "      <td>2</td>\n",
       "      <td>2</td>\n",
       "      <td>1</td>\n",
       "      <td>39</td>\n",
       "      <td>0</td>\n",
       "      <td>0</td>\n",
       "      <td>0</td>\n",
       "      <td>0</td>\n",
       "      <td>0</td>\n",
       "      <td>0</td>\n",
       "      <td>44100</td>\n",
       "      <td>0</td>\n",
       "      <td>28428</td>\n",
       "      <td>0</td>\n",
       "      <td>0</td>\n",
       "      <td>12000</td>\n",
       "      <td>0</td>\n",
       "      <td>28428</td>\n",
       "      <td>0</td>\n",
       "      <td>0</td>\n",
       "      <td>12000</td>\n",
       "      <td>33664</td>\n",
       "      <td>0</td>\n",
       "    </tr>\n",
       "    <tr>\n",
       "      <th>2961</th>\n",
       "      <td>280000</td>\n",
       "      <td>2</td>\n",
       "      <td>1</td>\n",
       "      <td>1</td>\n",
       "      <td>41</td>\n",
       "      <td>2</td>\n",
       "      <td>0</td>\n",
       "      <td>0</td>\n",
       "      <td>0</td>\n",
       "      <td>0</td>\n",
       "      <td>0</td>\n",
       "      <td>280</td>\n",
       "      <td>6852</td>\n",
       "      <td>486</td>\n",
       "      <td>0</td>\n",
       "      <td>0</td>\n",
       "      <td>244</td>\n",
       "      <td>6859</td>\n",
       "      <td>486</td>\n",
       "      <td>0</td>\n",
       "      <td>0</td>\n",
       "      <td>244</td>\n",
       "      <td>0</td>\n",
       "      <td>0</td>\n",
       "    </tr>\n",
       "    <tr>\n",
       "      <th>2962</th>\n",
       "      <td>80000</td>\n",
       "      <td>1</td>\n",
       "      <td>1</td>\n",
       "      <td>2</td>\n",
       "      <td>28</td>\n",
       "      <td>1</td>\n",
       "      <td>0</td>\n",
       "      <td>0</td>\n",
       "      <td>0</td>\n",
       "      <td>0</td>\n",
       "      <td>0</td>\n",
       "      <td>0</td>\n",
       "      <td>47</td>\n",
       "      <td>207</td>\n",
       "      <td>0</td>\n",
       "      <td>0</td>\n",
       "      <td>0</td>\n",
       "      <td>47</td>\n",
       "      <td>207</td>\n",
       "      <td>0</td>\n",
       "      <td>0</td>\n",
       "      <td>0</td>\n",
       "      <td>0</td>\n",
       "      <td>0</td>\n",
       "    </tr>\n",
       "    <tr>\n",
       "      <th>2963</th>\n",
       "      <td>200000</td>\n",
       "      <td>1</td>\n",
       "      <td>2</td>\n",
       "      <td>1</td>\n",
       "      <td>53</td>\n",
       "      <td>1</td>\n",
       "      <td>0</td>\n",
       "      <td>0</td>\n",
       "      <td>0</td>\n",
       "      <td>0</td>\n",
       "      <td>0</td>\n",
       "      <td>0</td>\n",
       "      <td>2920</td>\n",
       "      <td>0</td>\n",
       "      <td>0</td>\n",
       "      <td>0</td>\n",
       "      <td>6753</td>\n",
       "      <td>2920</td>\n",
       "      <td>0</td>\n",
       "      <td>0</td>\n",
       "      <td>0</td>\n",
       "      <td>6753</td>\n",
       "      <td>0</td>\n",
       "      <td>1</td>\n",
       "    </tr>\n",
       "    <tr>\n",
       "      <th>2964</th>\n",
       "      <td>20000</td>\n",
       "      <td>2</td>\n",
       "      <td>1</td>\n",
       "      <td>2</td>\n",
       "      <td>24</td>\n",
       "      <td>0</td>\n",
       "      <td>0</td>\n",
       "      <td>0</td>\n",
       "      <td>0</td>\n",
       "      <td>0</td>\n",
       "      <td>0</td>\n",
       "      <td>379</td>\n",
       "      <td>0</td>\n",
       "      <td>0</td>\n",
       "      <td>0</td>\n",
       "      <td>0</td>\n",
       "      <td>0</td>\n",
       "      <td>0</td>\n",
       "      <td>0</td>\n",
       "      <td>0</td>\n",
       "      <td>0</td>\n",
       "      <td>0</td>\n",
       "      <td>0</td>\n",
       "      <td>0</td>\n",
       "    </tr>\n",
       "  </tbody>\n",
       "</table>\n",
       "<p>2960 rows × 24 columns</p>\n",
       "</div>"
      ],
      "text/plain": [
       "       limit sex education marriage  age pay_1 pay_2 pay_3 pay_4 pay_5 pay_6  \\\n",
       "0      50000   1         1        2   39     0     0     0     0     0     0   \n",
       "1     110000   2         1        2   29     0     0     0     0     0     0   \n",
       "2     270000   1         1        2   36     0     0     0     2     0     0   \n",
       "3     130000   1         1        1   45     0     0     0     0     0     0   \n",
       "4      50000   1         1        2   24     0     0     0     0     0     0   \n",
       "...      ...  ..       ...      ...  ...   ...   ...   ...   ...   ...   ...   \n",
       "2960  210000   2         2        1   39     0     0     0     0     0     0   \n",
       "2961  280000   2         1        1   41     2     0     0     0     0     0   \n",
       "2962   80000   1         1        2   28     1     0     0     0     0     0   \n",
       "2963  200000   1         2        1   53     1     0     0     0     0     0   \n",
       "2964   20000   2         1        2   24     0     0     0     0     0     0   \n",
       "\n",
       "      bill_amt_1  bill_amt_2  bill_amt_3  bill_amt_4  bill_amt_5  bill_amt_6  \\\n",
       "0          47174       47974       48630       50803       30789       15874   \n",
       "1          48088       45980       44231       32489       26354       20221   \n",
       "2          78630       68921       46512       40335       37165       22156   \n",
       "3          58180       59134       61156       62377       63832       65099   \n",
       "4          42058       35340       22110       19837       19855       20151   \n",
       "...          ...         ...         ...         ...         ...         ...   \n",
       "2960       44100           0       28428           0           0       12000   \n",
       "2961         280        6852         486           0           0         244   \n",
       "2962           0          47         207           0           0           0   \n",
       "2963           0        2920           0           0           0        6753   \n",
       "2964         379           0           0           0           0           0   \n",
       "\n",
       "      pay_amt_1  pay_amt_2  pay_amt_3  pay_amt_4  pay_amt_5  pay_amt_6  \\\n",
       "0          1800       2000       3000       2000       2000       2000   \n",
       "1          2000       2010       3000       3000       3000       1000   \n",
       "2         10076       4018         14       2051       2000          0   \n",
       "3          2886       2908       2129       2354       2366       2291   \n",
       "4          1367       1606        692        709        721        692   \n",
       "...         ...        ...        ...        ...        ...        ...   \n",
       "2960          0      28428          0          0      12000      33664   \n",
       "2961       6859        486          0          0        244          0   \n",
       "2962         47        207          0          0          0          0   \n",
       "2963       2920          0          0          0       6753          0   \n",
       "2964          0          0          0          0          0          0   \n",
       "\n",
       "      default  \n",
       "0           0  \n",
       "1           0  \n",
       "2           0  \n",
       "3           0  \n",
       "4           0  \n",
       "...       ...  \n",
       "2960        0  \n",
       "2961        0  \n",
       "2962        0  \n",
       "2963        1  \n",
       "2964        0  \n",
       "\n",
       "[2960 rows x 24 columns]"
      ]
     },
     "execution_count": 44,
     "metadata": {},
     "output_type": "execute_result"
    }
   ],
   "source": [
    "data_train_test = df.drop(data_inf.index)\n",
    "data_train_test"
   ]
  },
  {
   "cell_type": "code",
   "execution_count": 45,
   "metadata": {},
   "outputs": [],
   "source": [
    "data_train_test.reset_index(drop=True, inplace=True)\n",
    "data_inf.reset_index(drop=True, inplace=True)"
   ]
  },
  {
   "cell_type": "markdown",
   "metadata": {},
   "source": [
    "## Pemisahan Data Train dan Test"
   ]
  },
  {
   "cell_type": "code",
   "execution_count": 46,
   "metadata": {},
   "outputs": [
    {
     "data": {
      "text/html": [
       "<div>\n",
       "<style scoped>\n",
       "    .dataframe tbody tr th:only-of-type {\n",
       "        vertical-align: middle;\n",
       "    }\n",
       "\n",
       "    .dataframe tbody tr th {\n",
       "        vertical-align: top;\n",
       "    }\n",
       "\n",
       "    .dataframe thead th {\n",
       "        text-align: right;\n",
       "    }\n",
       "</style>\n",
       "<table border=\"1\" class=\"dataframe\">\n",
       "  <thead>\n",
       "    <tr style=\"text-align: right;\">\n",
       "      <th></th>\n",
       "      <th>limit</th>\n",
       "      <th>sex</th>\n",
       "      <th>education</th>\n",
       "      <th>marriage</th>\n",
       "      <th>age</th>\n",
       "      <th>pay_1</th>\n",
       "      <th>pay_2</th>\n",
       "      <th>pay_3</th>\n",
       "      <th>pay_4</th>\n",
       "      <th>pay_5</th>\n",
       "      <th>pay_6</th>\n",
       "      <th>bill_amt_1</th>\n",
       "      <th>bill_amt_2</th>\n",
       "      <th>bill_amt_3</th>\n",
       "      <th>bill_amt_4</th>\n",
       "      <th>bill_amt_5</th>\n",
       "      <th>bill_amt_6</th>\n",
       "      <th>pay_amt_1</th>\n",
       "      <th>pay_amt_2</th>\n",
       "      <th>pay_amt_3</th>\n",
       "      <th>pay_amt_4</th>\n",
       "      <th>pay_amt_5</th>\n",
       "      <th>pay_amt_6</th>\n",
       "    </tr>\n",
       "  </thead>\n",
       "  <tbody>\n",
       "    <tr>\n",
       "      <th>0</th>\n",
       "      <td>50000</td>\n",
       "      <td>1</td>\n",
       "      <td>1</td>\n",
       "      <td>2</td>\n",
       "      <td>39</td>\n",
       "      <td>0</td>\n",
       "      <td>0</td>\n",
       "      <td>0</td>\n",
       "      <td>0</td>\n",
       "      <td>0</td>\n",
       "      <td>0</td>\n",
       "      <td>47174</td>\n",
       "      <td>47974</td>\n",
       "      <td>48630</td>\n",
       "      <td>50803</td>\n",
       "      <td>30789</td>\n",
       "      <td>15874</td>\n",
       "      <td>1800</td>\n",
       "      <td>2000</td>\n",
       "      <td>3000</td>\n",
       "      <td>2000</td>\n",
       "      <td>2000</td>\n",
       "      <td>2000</td>\n",
       "    </tr>\n",
       "    <tr>\n",
       "      <th>1</th>\n",
       "      <td>110000</td>\n",
       "      <td>2</td>\n",
       "      <td>1</td>\n",
       "      <td>2</td>\n",
       "      <td>29</td>\n",
       "      <td>0</td>\n",
       "      <td>0</td>\n",
       "      <td>0</td>\n",
       "      <td>0</td>\n",
       "      <td>0</td>\n",
       "      <td>0</td>\n",
       "      <td>48088</td>\n",
       "      <td>45980</td>\n",
       "      <td>44231</td>\n",
       "      <td>32489</td>\n",
       "      <td>26354</td>\n",
       "      <td>20221</td>\n",
       "      <td>2000</td>\n",
       "      <td>2010</td>\n",
       "      <td>3000</td>\n",
       "      <td>3000</td>\n",
       "      <td>3000</td>\n",
       "      <td>1000</td>\n",
       "    </tr>\n",
       "    <tr>\n",
       "      <th>2</th>\n",
       "      <td>270000</td>\n",
       "      <td>1</td>\n",
       "      <td>1</td>\n",
       "      <td>2</td>\n",
       "      <td>36</td>\n",
       "      <td>0</td>\n",
       "      <td>0</td>\n",
       "      <td>0</td>\n",
       "      <td>2</td>\n",
       "      <td>0</td>\n",
       "      <td>0</td>\n",
       "      <td>78630</td>\n",
       "      <td>68921</td>\n",
       "      <td>46512</td>\n",
       "      <td>40335</td>\n",
       "      <td>37165</td>\n",
       "      <td>22156</td>\n",
       "      <td>10076</td>\n",
       "      <td>4018</td>\n",
       "      <td>14</td>\n",
       "      <td>2051</td>\n",
       "      <td>2000</td>\n",
       "      <td>0</td>\n",
       "    </tr>\n",
       "    <tr>\n",
       "      <th>3</th>\n",
       "      <td>130000</td>\n",
       "      <td>1</td>\n",
       "      <td>1</td>\n",
       "      <td>1</td>\n",
       "      <td>45</td>\n",
       "      <td>0</td>\n",
       "      <td>0</td>\n",
       "      <td>0</td>\n",
       "      <td>0</td>\n",
       "      <td>0</td>\n",
       "      <td>0</td>\n",
       "      <td>58180</td>\n",
       "      <td>59134</td>\n",
       "      <td>61156</td>\n",
       "      <td>62377</td>\n",
       "      <td>63832</td>\n",
       "      <td>65099</td>\n",
       "      <td>2886</td>\n",
       "      <td>2908</td>\n",
       "      <td>2129</td>\n",
       "      <td>2354</td>\n",
       "      <td>2366</td>\n",
       "      <td>2291</td>\n",
       "    </tr>\n",
       "    <tr>\n",
       "      <th>4</th>\n",
       "      <td>50000</td>\n",
       "      <td>1</td>\n",
       "      <td>1</td>\n",
       "      <td>2</td>\n",
       "      <td>24</td>\n",
       "      <td>0</td>\n",
       "      <td>0</td>\n",
       "      <td>0</td>\n",
       "      <td>0</td>\n",
       "      <td>0</td>\n",
       "      <td>0</td>\n",
       "      <td>42058</td>\n",
       "      <td>35340</td>\n",
       "      <td>22110</td>\n",
       "      <td>19837</td>\n",
       "      <td>19855</td>\n",
       "      <td>20151</td>\n",
       "      <td>1367</td>\n",
       "      <td>1606</td>\n",
       "      <td>692</td>\n",
       "      <td>709</td>\n",
       "      <td>721</td>\n",
       "      <td>692</td>\n",
       "    </tr>\n",
       "    <tr>\n",
       "      <th>...</th>\n",
       "      <td>...</td>\n",
       "      <td>...</td>\n",
       "      <td>...</td>\n",
       "      <td>...</td>\n",
       "      <td>...</td>\n",
       "      <td>...</td>\n",
       "      <td>...</td>\n",
       "      <td>...</td>\n",
       "      <td>...</td>\n",
       "      <td>...</td>\n",
       "      <td>...</td>\n",
       "      <td>...</td>\n",
       "      <td>...</td>\n",
       "      <td>...</td>\n",
       "      <td>...</td>\n",
       "      <td>...</td>\n",
       "      <td>...</td>\n",
       "      <td>...</td>\n",
       "      <td>...</td>\n",
       "      <td>...</td>\n",
       "      <td>...</td>\n",
       "      <td>...</td>\n",
       "      <td>...</td>\n",
       "    </tr>\n",
       "    <tr>\n",
       "      <th>2955</th>\n",
       "      <td>210000</td>\n",
       "      <td>2</td>\n",
       "      <td>2</td>\n",
       "      <td>1</td>\n",
       "      <td>39</td>\n",
       "      <td>0</td>\n",
       "      <td>0</td>\n",
       "      <td>0</td>\n",
       "      <td>0</td>\n",
       "      <td>0</td>\n",
       "      <td>0</td>\n",
       "      <td>44100</td>\n",
       "      <td>0</td>\n",
       "      <td>28428</td>\n",
       "      <td>0</td>\n",
       "      <td>0</td>\n",
       "      <td>12000</td>\n",
       "      <td>0</td>\n",
       "      <td>28428</td>\n",
       "      <td>0</td>\n",
       "      <td>0</td>\n",
       "      <td>12000</td>\n",
       "      <td>33664</td>\n",
       "    </tr>\n",
       "    <tr>\n",
       "      <th>2956</th>\n",
       "      <td>280000</td>\n",
       "      <td>2</td>\n",
       "      <td>1</td>\n",
       "      <td>1</td>\n",
       "      <td>41</td>\n",
       "      <td>2</td>\n",
       "      <td>0</td>\n",
       "      <td>0</td>\n",
       "      <td>0</td>\n",
       "      <td>0</td>\n",
       "      <td>0</td>\n",
       "      <td>280</td>\n",
       "      <td>6852</td>\n",
       "      <td>486</td>\n",
       "      <td>0</td>\n",
       "      <td>0</td>\n",
       "      <td>244</td>\n",
       "      <td>6859</td>\n",
       "      <td>486</td>\n",
       "      <td>0</td>\n",
       "      <td>0</td>\n",
       "      <td>244</td>\n",
       "      <td>0</td>\n",
       "    </tr>\n",
       "    <tr>\n",
       "      <th>2957</th>\n",
       "      <td>80000</td>\n",
       "      <td>1</td>\n",
       "      <td>1</td>\n",
       "      <td>2</td>\n",
       "      <td>28</td>\n",
       "      <td>1</td>\n",
       "      <td>0</td>\n",
       "      <td>0</td>\n",
       "      <td>0</td>\n",
       "      <td>0</td>\n",
       "      <td>0</td>\n",
       "      <td>0</td>\n",
       "      <td>47</td>\n",
       "      <td>207</td>\n",
       "      <td>0</td>\n",
       "      <td>0</td>\n",
       "      <td>0</td>\n",
       "      <td>47</td>\n",
       "      <td>207</td>\n",
       "      <td>0</td>\n",
       "      <td>0</td>\n",
       "      <td>0</td>\n",
       "      <td>0</td>\n",
       "    </tr>\n",
       "    <tr>\n",
       "      <th>2958</th>\n",
       "      <td>200000</td>\n",
       "      <td>1</td>\n",
       "      <td>2</td>\n",
       "      <td>1</td>\n",
       "      <td>53</td>\n",
       "      <td>1</td>\n",
       "      <td>0</td>\n",
       "      <td>0</td>\n",
       "      <td>0</td>\n",
       "      <td>0</td>\n",
       "      <td>0</td>\n",
       "      <td>0</td>\n",
       "      <td>2920</td>\n",
       "      <td>0</td>\n",
       "      <td>0</td>\n",
       "      <td>0</td>\n",
       "      <td>6753</td>\n",
       "      <td>2920</td>\n",
       "      <td>0</td>\n",
       "      <td>0</td>\n",
       "      <td>0</td>\n",
       "      <td>6753</td>\n",
       "      <td>0</td>\n",
       "    </tr>\n",
       "    <tr>\n",
       "      <th>2959</th>\n",
       "      <td>20000</td>\n",
       "      <td>2</td>\n",
       "      <td>1</td>\n",
       "      <td>2</td>\n",
       "      <td>24</td>\n",
       "      <td>0</td>\n",
       "      <td>0</td>\n",
       "      <td>0</td>\n",
       "      <td>0</td>\n",
       "      <td>0</td>\n",
       "      <td>0</td>\n",
       "      <td>379</td>\n",
       "      <td>0</td>\n",
       "      <td>0</td>\n",
       "      <td>0</td>\n",
       "      <td>0</td>\n",
       "      <td>0</td>\n",
       "      <td>0</td>\n",
       "      <td>0</td>\n",
       "      <td>0</td>\n",
       "      <td>0</td>\n",
       "      <td>0</td>\n",
       "      <td>0</td>\n",
       "    </tr>\n",
       "  </tbody>\n",
       "</table>\n",
       "<p>2960 rows × 23 columns</p>\n",
       "</div>"
      ],
      "text/plain": [
       "       limit sex education marriage  age pay_1 pay_2 pay_3 pay_4 pay_5 pay_6  \\\n",
       "0      50000   1         1        2   39     0     0     0     0     0     0   \n",
       "1     110000   2         1        2   29     0     0     0     0     0     0   \n",
       "2     270000   1         1        2   36     0     0     0     2     0     0   \n",
       "3     130000   1         1        1   45     0     0     0     0     0     0   \n",
       "4      50000   1         1        2   24     0     0     0     0     0     0   \n",
       "...      ...  ..       ...      ...  ...   ...   ...   ...   ...   ...   ...   \n",
       "2955  210000   2         2        1   39     0     0     0     0     0     0   \n",
       "2956  280000   2         1        1   41     2     0     0     0     0     0   \n",
       "2957   80000   1         1        2   28     1     0     0     0     0     0   \n",
       "2958  200000   1         2        1   53     1     0     0     0     0     0   \n",
       "2959   20000   2         1        2   24     0     0     0     0     0     0   \n",
       "\n",
       "      bill_amt_1  bill_amt_2  bill_amt_3  bill_amt_4  bill_amt_5  bill_amt_6  \\\n",
       "0          47174       47974       48630       50803       30789       15874   \n",
       "1          48088       45980       44231       32489       26354       20221   \n",
       "2          78630       68921       46512       40335       37165       22156   \n",
       "3          58180       59134       61156       62377       63832       65099   \n",
       "4          42058       35340       22110       19837       19855       20151   \n",
       "...          ...         ...         ...         ...         ...         ...   \n",
       "2955       44100           0       28428           0           0       12000   \n",
       "2956         280        6852         486           0           0         244   \n",
       "2957           0          47         207           0           0           0   \n",
       "2958           0        2920           0           0           0        6753   \n",
       "2959         379           0           0           0           0           0   \n",
       "\n",
       "      pay_amt_1  pay_amt_2  pay_amt_3  pay_amt_4  pay_amt_5  pay_amt_6  \n",
       "0          1800       2000       3000       2000       2000       2000  \n",
       "1          2000       2010       3000       3000       3000       1000  \n",
       "2         10076       4018         14       2051       2000          0  \n",
       "3          2886       2908       2129       2354       2366       2291  \n",
       "4          1367       1606        692        709        721        692  \n",
       "...         ...        ...        ...        ...        ...        ...  \n",
       "2955          0      28428          0          0      12000      33664  \n",
       "2956       6859        486          0          0        244          0  \n",
       "2957         47        207          0          0          0          0  \n",
       "2958       2920          0          0          0       6753          0  \n",
       "2959          0          0          0          0          0          0  \n",
       "\n",
       "[2960 rows x 23 columns]"
      ]
     },
     "execution_count": 46,
     "metadata": {},
     "output_type": "execute_result"
    }
   ],
   "source": [
    "X = data_train_test.drop(columns='default', axis=1)\n",
    "y = data_train_test['default']\n",
    "X"
   ]
  },
  {
   "cell_type": "code",
   "execution_count": 47,
   "metadata": {},
   "outputs": [
    {
     "name": "stdout",
     "output_type": "stream",
     "text": [
      "Train size:  (2516, 24)\n",
      "Test size:  (444, 24)\n"
     ]
    }
   ],
   "source": [
    "train, test = train_test_split(data_train_test, test_size=0.15, stratify=y, random_state=39)\n",
    "\n",
    "print('Train size: ', train.shape)\n",
    "print('Test size: ', test.shape)"
   ]
  },
  {
   "cell_type": "markdown",
   "metadata": {},
   "source": [
    "## Feature Selection"
   ]
  },
  {
   "cell_type": "code",
   "execution_count": 48,
   "metadata": {},
   "outputs": [
    {
     "name": "stdout",
     "output_type": "stream",
     "text": [
      "interval columns not set, guessing: ['limit', 'age', 'bill_amt_1', 'bill_amt_2', 'bill_amt_3', 'bill_amt_4', 'bill_amt_5', 'bill_amt_6', 'pay_amt_1', 'pay_amt_2', 'pay_amt_3', 'pay_amt_4', 'pay_amt_5', 'pay_amt_6', 'default']\n"
     ]
    },
    {
     "data": {
      "image/png": "[encoded data removed]",
      "text/plain": [
       "<Figure size 1440x1440 with 2 Axes>"
      ]
     },
     "metadata": {
      "needs_background": "light"
     },
     "output_type": "display_data"
    }
   ],
   "source": [
    "plt.figure(figsize=(20,20))\n",
    "sns.heatmap(train.phik_matrix(), vmin=0, vmax=1, annot=True, cmap='Blues');"
   ]
  },
  {
   "cell_type": "markdown",
   "metadata": {},
   "source": [
    "Disini penulis memutuskan tidak akan menggunakan kolom bill_amt_x, dan pay_amt_x. Untuk kolom bill_amt_x dan pay_amt_x menurut penulis selain nilai korelasinya yang mendekati 0, kedua kolom ini juga sudah diwakili oleh kolom pay_x karena kolom pay_x disini adalah status pembayaran. Lalu untuk kolom yang digunakan sebagai feature adalah limit, sex, education, marriage, age, pay_1, pay_2, pay_3, pay_4, pay_5, dan pay_6 karena dari EDA yang sudah dilakukan diatas bisa terlihat adanya hubungan antara kolom-kolom tersebut dengan kolom target."
   ]
  },
  {
   "cell_type": "code",
   "execution_count": 49,
   "metadata": {},
   "outputs": [
    {
     "data": {
      "text/html": [
       "<div>\n",
       "<style scoped>\n",
       "    .dataframe tbody tr th:only-of-type {\n",
       "        vertical-align: middle;\n",
       "    }\n",
       "\n",
       "    .dataframe tbody tr th {\n",
       "        vertical-align: top;\n",
       "    }\n",
       "\n",
       "    .dataframe thead th {\n",
       "        text-align: right;\n",
       "    }\n",
       "</style>\n",
       "<table border=\"1\" class=\"dataframe\">\n",
       "  <thead>\n",
       "    <tr style=\"text-align: right;\">\n",
       "      <th></th>\n",
       "      <th>limit</th>\n",
       "      <th>sex</th>\n",
       "      <th>education</th>\n",
       "      <th>marriage</th>\n",
       "      <th>age</th>\n",
       "      <th>pay_1</th>\n",
       "      <th>pay_2</th>\n",
       "      <th>pay_3</th>\n",
       "      <th>pay_4</th>\n",
       "      <th>pay_5</th>\n",
       "      <th>pay_6</th>\n",
       "      <th>default</th>\n",
       "    </tr>\n",
       "  </thead>\n",
       "  <tbody>\n",
       "    <tr>\n",
       "      <th>2088</th>\n",
       "      <td>150000</td>\n",
       "      <td>2</td>\n",
       "      <td>1</td>\n",
       "      <td>2</td>\n",
       "      <td>35</td>\n",
       "      <td>0</td>\n",
       "      <td>0</td>\n",
       "      <td>0</td>\n",
       "      <td>0</td>\n",
       "      <td>0</td>\n",
       "      <td>0</td>\n",
       "      <td>0</td>\n",
       "    </tr>\n",
       "    <tr>\n",
       "      <th>2836</th>\n",
       "      <td>130000</td>\n",
       "      <td>2</td>\n",
       "      <td>2</td>\n",
       "      <td>2</td>\n",
       "      <td>28</td>\n",
       "      <td>0</td>\n",
       "      <td>0</td>\n",
       "      <td>0</td>\n",
       "      <td>0</td>\n",
       "      <td>0</td>\n",
       "      <td>0</td>\n",
       "      <td>0</td>\n",
       "    </tr>\n",
       "    <tr>\n",
       "      <th>2467</th>\n",
       "      <td>200000</td>\n",
       "      <td>2</td>\n",
       "      <td>2</td>\n",
       "      <td>1</td>\n",
       "      <td>35</td>\n",
       "      <td>1</td>\n",
       "      <td>0</td>\n",
       "      <td>0</td>\n",
       "      <td>2</td>\n",
       "      <td>0</td>\n",
       "      <td>0</td>\n",
       "      <td>0</td>\n",
       "    </tr>\n",
       "    <tr>\n",
       "      <th>2034</th>\n",
       "      <td>230000</td>\n",
       "      <td>2</td>\n",
       "      <td>1</td>\n",
       "      <td>2</td>\n",
       "      <td>37</td>\n",
       "      <td>1</td>\n",
       "      <td>0</td>\n",
       "      <td>0</td>\n",
       "      <td>0</td>\n",
       "      <td>0</td>\n",
       "      <td>2</td>\n",
       "      <td>0</td>\n",
       "    </tr>\n",
       "    <tr>\n",
       "      <th>2429</th>\n",
       "      <td>200000</td>\n",
       "      <td>1</td>\n",
       "      <td>2</td>\n",
       "      <td>1</td>\n",
       "      <td>39</td>\n",
       "      <td>0</td>\n",
       "      <td>0</td>\n",
       "      <td>2</td>\n",
       "      <td>0</td>\n",
       "      <td>0</td>\n",
       "      <td>0</td>\n",
       "      <td>0</td>\n",
       "    </tr>\n",
       "    <tr>\n",
       "      <th>...</th>\n",
       "      <td>...</td>\n",
       "      <td>...</td>\n",
       "      <td>...</td>\n",
       "      <td>...</td>\n",
       "      <td>...</td>\n",
       "      <td>...</td>\n",
       "      <td>...</td>\n",
       "      <td>...</td>\n",
       "      <td>...</td>\n",
       "      <td>...</td>\n",
       "      <td>...</td>\n",
       "      <td>...</td>\n",
       "    </tr>\n",
       "    <tr>\n",
       "      <th>61</th>\n",
       "      <td>180000</td>\n",
       "      <td>2</td>\n",
       "      <td>2</td>\n",
       "      <td>1</td>\n",
       "      <td>34</td>\n",
       "      <td>0</td>\n",
       "      <td>0</td>\n",
       "      <td>0</td>\n",
       "      <td>0</td>\n",
       "      <td>0</td>\n",
       "      <td>0</td>\n",
       "      <td>0</td>\n",
       "    </tr>\n",
       "    <tr>\n",
       "      <th>509</th>\n",
       "      <td>360000</td>\n",
       "      <td>1</td>\n",
       "      <td>1</td>\n",
       "      <td>1</td>\n",
       "      <td>46</td>\n",
       "      <td>0</td>\n",
       "      <td>0</td>\n",
       "      <td>0</td>\n",
       "      <td>0</td>\n",
       "      <td>0</td>\n",
       "      <td>0</td>\n",
       "      <td>1</td>\n",
       "    </tr>\n",
       "    <tr>\n",
       "      <th>393</th>\n",
       "      <td>30000</td>\n",
       "      <td>2</td>\n",
       "      <td>3</td>\n",
       "      <td>2</td>\n",
       "      <td>35</td>\n",
       "      <td>0</td>\n",
       "      <td>0</td>\n",
       "      <td>0</td>\n",
       "      <td>0</td>\n",
       "      <td>0</td>\n",
       "      <td>0</td>\n",
       "      <td>0</td>\n",
       "    </tr>\n",
       "    <tr>\n",
       "      <th>2340</th>\n",
       "      <td>220000</td>\n",
       "      <td>2</td>\n",
       "      <td>1</td>\n",
       "      <td>1</td>\n",
       "      <td>43</td>\n",
       "      <td>0</td>\n",
       "      <td>3</td>\n",
       "      <td>2</td>\n",
       "      <td>0</td>\n",
       "      <td>0</td>\n",
       "      <td>0</td>\n",
       "      <td>1</td>\n",
       "    </tr>\n",
       "    <tr>\n",
       "      <th>490</th>\n",
       "      <td>20000</td>\n",
       "      <td>1</td>\n",
       "      <td>2</td>\n",
       "      <td>2</td>\n",
       "      <td>25</td>\n",
       "      <td>0</td>\n",
       "      <td>0</td>\n",
       "      <td>0</td>\n",
       "      <td>0</td>\n",
       "      <td>0</td>\n",
       "      <td>0</td>\n",
       "      <td>0</td>\n",
       "    </tr>\n",
       "  </tbody>\n",
       "</table>\n",
       "<p>2516 rows × 12 columns</p>\n",
       "</div>"
      ],
      "text/plain": [
       "       limit sex education marriage  age pay_1 pay_2 pay_3 pay_4 pay_5 pay_6  \\\n",
       "2088  150000   2         1        2   35     0     0     0     0     0     0   \n",
       "2836  130000   2         2        2   28     0     0     0     0     0     0   \n",
       "2467  200000   2         2        1   35     1     0     0     2     0     0   \n",
       "2034  230000   2         1        2   37     1     0     0     0     0     2   \n",
       "2429  200000   1         2        1   39     0     0     2     0     0     0   \n",
       "...      ...  ..       ...      ...  ...   ...   ...   ...   ...   ...   ...   \n",
       "61    180000   2         2        1   34     0     0     0     0     0     0   \n",
       "509   360000   1         1        1   46     0     0     0     0     0     0   \n",
       "393    30000   2         3        2   35     0     0     0     0     0     0   \n",
       "2340  220000   2         1        1   43     0     3     2     0     0     0   \n",
       "490    20000   1         2        2   25     0     0     0     0     0     0   \n",
       "\n",
       "      default  \n",
       "2088        0  \n",
       "2836        0  \n",
       "2467        0  \n",
       "2034        0  \n",
       "2429        0  \n",
       "...       ...  \n",
       "61          0  \n",
       "509         1  \n",
       "393         0  \n",
       "2340        1  \n",
       "490         0  \n",
       "\n",
       "[2516 rows x 12 columns]"
      ]
     },
     "execution_count": 49,
     "metadata": {},
     "output_type": "execute_result"
    }
   ],
   "source": [
    "train.drop(columns=['bill_amt_1', 'bill_amt_2', 'bill_amt_3', 'bill_amt_4', 'bill_amt_5', 'bill_amt_6', 'pay_amt_1', 'pay_amt_2', 'pay_amt_3', 'pay_amt_4', 'pay_amt_5', 'pay_amt_6'], inplace=True)\n",
    "test.drop(columns=['bill_amt_1', 'bill_amt_2', 'bill_amt_3', 'bill_amt_4', 'bill_amt_5', 'bill_amt_6', 'pay_amt_1', 'pay_amt_2', 'pay_amt_3', 'pay_amt_4', 'pay_amt_5', 'pay_amt_6'], inplace=True)\n",
    "train"
   ]
  },
  {
   "cell_type": "markdown",
   "metadata": {},
   "source": [
    "## Handling Outliers\n",
    "\n",
    "Dari feature yang sudah terpilih diatas, kita masih memiliki 2 kolom dengan tipe numerik, sehingga perlu dilakukan pengecekan dan handling outlier terlebih dahulu pada data train."
   ]
  },
  {
   "cell_type": "code",
   "execution_count": 50,
   "metadata": {},
   "outputs": [
    {
     "name": "stdout",
     "output_type": "stream",
     "text": [
      "Nilai Skewness limit:  0.9724457598434526\n",
      "Nilai Skewness age:  0.7825592611830096\n"
     ]
    },
    {
     "data": {
      "image/png": "[encoded data removed]",
      "text/plain": [
       "<Figure size 1152x432 with 2 Axes>"
      ]
     },
     "metadata": {
      "needs_background": "light"
     },
     "output_type": "display_data"
    }
   ],
   "source": [
    "plt.figure(figsize=(16,6))\n",
    "plt.subplot(1, 2, 1)\n",
    "sns.histplot(train['limit'])\n",
    "plt.subplot(1, 2, 2)\n",
    "sns.histplot(train['age']);\n",
    "\n",
    "print('Nilai Skewness limit: ', train['limit'].skew())\n",
    "print('Nilai Skewness age: ', train['age'].skew())"
   ]
  },
  {
   "cell_type": "markdown",
   "metadata": {},
   "source": [
    "Distribusi data kedua kolom numerik ini termasuk mild skew dengan nilai skewness lebih dari 0.5 namun kurang dari 1. Untuk handling outliernya akan digunakan metode Tukey's Rule dengan konstanta 1.5"
   ]
  },
  {
   "cell_type": "code",
   "execution_count": 51,
   "metadata": {},
   "outputs": [],
   "source": [
    "def find_skew_bound(data, feature, cons):\n",
    "    IQR = data[feature].quantile(0.75) - data[feature].quantile(0.25)\n",
    "\n",
    "    lower_bound = data[feature].quantile(0.25) - (IQR * cons)\n",
    "    upper_bound = data[feature].quantile(0.75) + (IQR * cons)\n",
    "\n",
    "    return lower_bound, upper_bound"
   ]
  },
  {
   "cell_type": "code",
   "execution_count": 52,
   "metadata": {},
   "outputs": [
    {
     "name": "stdout",
     "output_type": "stream",
     "text": [
      "Batas bawah limit: -220000.0\n",
      "Batas atas limit: 500000.0\n",
      "Jumlah outlier pada limit = 10\n",
      "Persentase outlier pada limit = 0.40%\n"
     ]
    }
   ],
   "source": [
    "lower_bound, upper_bound = find_skew_bound(train, 'limit', 1.5)\n",
    "lower_bound, upper_bound\n",
    "\n",
    "print('Batas bawah limit:',lower_bound)\n",
    "print('Batas atas limit:',upper_bound)\n",
    "print('Jumlah outlier pada limit = {}'.format(len(train[train['limit'] > upper_bound])))\n",
    "print('Persentase outlier pada limit = {:.2%}'.format(len(train[train['limit'] > upper_bound]) / len(train)))"
   ]
  },
  {
   "cell_type": "code",
   "execution_count": 53,
   "metadata": {},
   "outputs": [
    {
     "name": "stdout",
     "output_type": "stream",
     "text": [
      "Batas bawah age: 8.5\n",
      "Batas atas age: 60.5\n",
      "Jumlah outlier pada age = 26\n",
      "Persentase outlier pada age = 1.03%\n"
     ]
    }
   ],
   "source": [
    "lower_bound, upper_bound = find_skew_bound(train, 'age', 1.5)\n",
    "lower_bound, upper_bound\n",
    "\n",
    "print('Batas bawah age:',lower_bound)\n",
    "print('Batas atas age:',upper_bound)\n",
    "print('Jumlah outlier pada age = {}'.format(len(train[train['age'] > upper_bound])))\n",
    "print('Persentase outlier pada age = {:.2%}'.format(len(train[train['age'] > upper_bound]) / len(train)))"
   ]
  },
  {
   "cell_type": "markdown",
   "metadata": {},
   "source": [
    "Setelah kita mengetahui jenis distribusi data dan batas-batas untuk outliernya, maka kita bisa melakukan handling yang tepat untuk outlier ini. Penulis memilih untuk menggunakan metode capping agar tidak ada data yang hilang lagi, walaupun secara persentase outliernya kecil."
   ]
  },
  {
   "cell_type": "code",
   "execution_count": 54,
   "metadata": {},
   "outputs": [],
   "source": [
    "capper = Winsorizer(capping_method='iqr', tail='both', fold=1.5, variables=['limit', 'age'])\n",
    "capper.fit(train)\n",
    "train_clean = capper.transform(train)"
   ]
  },
  {
   "cell_type": "code",
   "execution_count": 55,
   "metadata": {},
   "outputs": [
    {
     "name": "stdout",
     "output_type": "stream",
     "text": [
      "X_train - Sebelum Capping\n",
      "               limit          age      default\n",
      "count    2516.000000  2516.000000  2516.000000\n",
      "mean   163775.834658    35.110890     0.214229\n",
      "std    124740.573050     9.092152     0.410368\n",
      "min     10000.000000    21.000000     0.000000\n",
      "25%     50000.000000    28.000000     0.000000\n",
      "50%    140000.000000    33.000000     0.000000\n",
      "75%    230000.000000    41.000000     0.000000\n",
      "max    780000.000000    69.000000     1.000000\n",
      "\n",
      "X_train - Setelah Capping\n",
      "               limit          age      default\n",
      "count    2516.000000  2516.000000  2516.000000\n",
      "mean   163330.683625    35.081479     0.214229\n",
      "std    123163.226921     9.001210     0.410368\n",
      "min     10000.000000    21.000000     0.000000\n",
      "25%     50000.000000    28.000000     0.000000\n",
      "50%    140000.000000    33.000000     0.000000\n",
      "75%    230000.000000    41.000000     0.000000\n",
      "max    500000.000000    60.500000     1.000000\n"
     ]
    }
   ],
   "source": [
    "print('X_train - Sebelum Capping')\n",
    "print(train.describe())\n",
    "print('')\n",
    "print('X_train - Setelah Capping')\n",
    "print(train_clean.describe())"
   ]
  },
  {
   "cell_type": "markdown",
   "metadata": {},
   "source": [
    "Outliers pada kolom limit dan age sudah berhasil dihandling dengan menggunakan winsorizer, dapat dilihat dari perubahan nilai max sebelum dan sesudah handling."
   ]
  },
  {
   "cell_type": "markdown",
   "metadata": {},
   "source": [
    "## Split between Features and Target\n",
    "\n",
    "Dari data train dan test yang sudah didapat, dilakukan pemisahan kembali antara kolom feature dan targetnya."
   ]
  },
  {
   "cell_type": "code",
   "execution_count": 56,
   "metadata": {},
   "outputs": [],
   "source": [
    "X_train = train_clean.drop(columns='default')\n",
    "y_train = train_clean['default']\n",
    "\n",
    "X_test = test.drop(columns='default')\n",
    "y_test = test['default']"
   ]
  },
  {
   "cell_type": "code",
   "execution_count": 57,
   "metadata": {},
   "outputs": [
    {
     "name": "stdout",
     "output_type": "stream",
     "text": [
      "Kolom numerikal: ['limit', 'age']\n",
      "Kolom kategorikal: ['sex', 'education', 'marriage', 'pay_1', 'pay_2', 'pay_3', 'pay_4', 'pay_5', 'pay_6']\n"
     ]
    }
   ],
   "source": [
    "num_columns = X_train.select_dtypes(include=np.number).columns.to_list()\n",
    "cat_columns = X_train.select_dtypes(include=['object']).columns.to_list()\n",
    "\n",
    "print('Kolom numerikal:', num_columns)\n",
    "print('Kolom kategorikal:', cat_columns)"
   ]
  },
  {
   "cell_type": "code",
   "execution_count": 58,
   "metadata": {},
   "outputs": [],
   "source": [
    "X_train_num = X_train[num_columns]\n",
    "X_train_cat = X_train[cat_columns]\n",
    "\n",
    "X_test_num = X_test[num_columns]\n",
    "X_test_cat = X_test[cat_columns]"
   ]
  },
  {
   "cell_type": "markdown",
   "metadata": {},
   "source": [
    "## Feature Scaling\n",
    "\n",
    "Dilakukan untuk kolom/feature dengan tipe numerikal. Tujuannya untuk menyamakan/menyeragamkan range masing-masing featurenya, agar model lebih mudah dalam mempelajari pola/pattern dari feature ini."
   ]
  },
  {
   "cell_type": "code",
   "execution_count": 59,
   "metadata": {},
   "outputs": [
    {
     "data": {
      "text/html": [
       "<div>\n",
       "<style scoped>\n",
       "    .dataframe tbody tr th:only-of-type {\n",
       "        vertical-align: middle;\n",
       "    }\n",
       "\n",
       "    .dataframe tbody tr th {\n",
       "        vertical-align: top;\n",
       "    }\n",
       "\n",
       "    .dataframe thead th {\n",
       "        text-align: right;\n",
       "    }\n",
       "</style>\n",
       "<table border=\"1\" class=\"dataframe\">\n",
       "  <thead>\n",
       "    <tr style=\"text-align: right;\">\n",
       "      <th></th>\n",
       "      <th>limit</th>\n",
       "      <th>age</th>\n",
       "    </tr>\n",
       "  </thead>\n",
       "  <tbody>\n",
       "    <tr>\n",
       "      <th>2088</th>\n",
       "      <td>150000.0</td>\n",
       "      <td>35.0</td>\n",
       "    </tr>\n",
       "    <tr>\n",
       "      <th>2836</th>\n",
       "      <td>130000.0</td>\n",
       "      <td>28.0</td>\n",
       "    </tr>\n",
       "    <tr>\n",
       "      <th>2467</th>\n",
       "      <td>200000.0</td>\n",
       "      <td>35.0</td>\n",
       "    </tr>\n",
       "    <tr>\n",
       "      <th>2034</th>\n",
       "      <td>230000.0</td>\n",
       "      <td>37.0</td>\n",
       "    </tr>\n",
       "    <tr>\n",
       "      <th>2429</th>\n",
       "      <td>200000.0</td>\n",
       "      <td>39.0</td>\n",
       "    </tr>\n",
       "    <tr>\n",
       "      <th>...</th>\n",
       "      <td>...</td>\n",
       "      <td>...</td>\n",
       "    </tr>\n",
       "    <tr>\n",
       "      <th>61</th>\n",
       "      <td>180000.0</td>\n",
       "      <td>34.0</td>\n",
       "    </tr>\n",
       "    <tr>\n",
       "      <th>509</th>\n",
       "      <td>360000.0</td>\n",
       "      <td>46.0</td>\n",
       "    </tr>\n",
       "    <tr>\n",
       "      <th>393</th>\n",
       "      <td>30000.0</td>\n",
       "      <td>35.0</td>\n",
       "    </tr>\n",
       "    <tr>\n",
       "      <th>2340</th>\n",
       "      <td>220000.0</td>\n",
       "      <td>43.0</td>\n",
       "    </tr>\n",
       "    <tr>\n",
       "      <th>490</th>\n",
       "      <td>20000.0</td>\n",
       "      <td>25.0</td>\n",
       "    </tr>\n",
       "  </tbody>\n",
       "</table>\n",
       "<p>2516 rows × 2 columns</p>\n",
       "</div>"
      ],
      "text/plain": [
       "         limit   age\n",
       "2088  150000.0  35.0\n",
       "2836  130000.0  28.0\n",
       "2467  200000.0  35.0\n",
       "2034  230000.0  37.0\n",
       "2429  200000.0  39.0\n",
       "...        ...   ...\n",
       "61    180000.0  34.0\n",
       "509   360000.0  46.0\n",
       "393    30000.0  35.0\n",
       "2340  220000.0  43.0\n",
       "490    20000.0  25.0\n",
       "\n",
       "[2516 rows x 2 columns]"
      ]
     },
     "execution_count": 59,
     "metadata": {},
     "output_type": "execute_result"
    }
   ],
   "source": [
    "X_train_num"
   ]
  },
  {
   "cell_type": "markdown",
   "metadata": {},
   "source": [
    "Karena persebaran kedua data numeriknya adalah skew seperti yang terlihat pada bagian handling outlier, jadi untuk metode scaling yang digunakan adalah MinMaxScaler."
   ]
  },
  {
   "cell_type": "code",
   "execution_count": 60,
   "metadata": {},
   "outputs": [
    {
     "data": {
      "text/plain": [
       "array([[0.28571429, 0.35443038],\n",
       "       [0.24489796, 0.17721519],\n",
       "       [0.3877551 , 0.35443038],\n",
       "       ...,\n",
       "       [0.04081633, 0.35443038],\n",
       "       [0.42857143, 0.55696203],\n",
       "       [0.02040816, 0.10126582]])"
      ]
     },
     "execution_count": 60,
     "metadata": {},
     "output_type": "execute_result"
    }
   ],
   "source": [
    "scaler = MinMaxScaler()\n",
    "scaler.fit(X_train_num)\n",
    "\n",
    "X_train_num_scaled = scaler.transform(X_train_num)\n",
    "X_test_num_scaled = scaler.transform(X_test_num)\n",
    "\n",
    "X_train_num_scaled"
   ]
  },
  {
   "cell_type": "code",
   "execution_count": 61,
   "metadata": {},
   "outputs": [
    {
     "data": {
      "text/plain": [
       "array([[0.28571428571428564, 0.35443037974683544, '2', ..., '0', '0',\n",
       "        '0'],\n",
       "       [0.24489795918367344, 0.17721518987341778, '2', ..., '0', '0',\n",
       "        '0'],\n",
       "       [0.38775510204081626, 0.35443037974683544, '2', ..., '2', '0',\n",
       "        '0'],\n",
       "       ...,\n",
       "       [0.04081632653061225, 0.35443037974683544, '2', ..., '0', '0',\n",
       "        '0'],\n",
       "       [0.4285714285714285, 0.5569620253164558, '2', ..., '0', '0', '0'],\n",
       "       [0.02040816326530612, 0.10126582278481022, '1', ..., '0', '0',\n",
       "        '0']], dtype=object)"
      ]
     },
     "execution_count": 61,
     "metadata": {},
     "output_type": "execute_result"
    }
   ],
   "source": [
    "X_train_final = np.concatenate([X_train_num_scaled, X_train_cat], axis=1)\n",
    "X_test_final = np.concatenate([X_test_num_scaled, X_test_cat], axis=1)\n",
    "\n",
    "X_train_final"
   ]
  },
  {
   "cell_type": "code",
   "execution_count": 62,
   "metadata": {},
   "outputs": [
    {
     "data": {
      "text/html": [
       "<div>\n",
       "<style scoped>\n",
       "    .dataframe tbody tr th:only-of-type {\n",
       "        vertical-align: middle;\n",
       "    }\n",
       "\n",
       "    .dataframe tbody tr th {\n",
       "        vertical-align: top;\n",
       "    }\n",
       "\n",
       "    .dataframe thead th {\n",
       "        text-align: right;\n",
       "    }\n",
       "</style>\n",
       "<table border=\"1\" class=\"dataframe\">\n",
       "  <thead>\n",
       "    <tr style=\"text-align: right;\">\n",
       "      <th></th>\n",
       "      <th>0</th>\n",
       "      <th>1</th>\n",
       "      <th>2</th>\n",
       "      <th>3</th>\n",
       "      <th>4</th>\n",
       "      <th>5</th>\n",
       "      <th>6</th>\n",
       "      <th>7</th>\n",
       "      <th>8</th>\n",
       "      <th>9</th>\n",
       "      <th>10</th>\n",
       "    </tr>\n",
       "  </thead>\n",
       "  <tbody>\n",
       "    <tr>\n",
       "      <th>0</th>\n",
       "      <td>0.285714</td>\n",
       "      <td>0.35443</td>\n",
       "      <td>2</td>\n",
       "      <td>1</td>\n",
       "      <td>2</td>\n",
       "      <td>0</td>\n",
       "      <td>0</td>\n",
       "      <td>0</td>\n",
       "      <td>0</td>\n",
       "      <td>0</td>\n",
       "      <td>0</td>\n",
       "    </tr>\n",
       "    <tr>\n",
       "      <th>1</th>\n",
       "      <td>0.244898</td>\n",
       "      <td>0.177215</td>\n",
       "      <td>2</td>\n",
       "      <td>2</td>\n",
       "      <td>2</td>\n",
       "      <td>0</td>\n",
       "      <td>0</td>\n",
       "      <td>0</td>\n",
       "      <td>0</td>\n",
       "      <td>0</td>\n",
       "      <td>0</td>\n",
       "    </tr>\n",
       "    <tr>\n",
       "      <th>2</th>\n",
       "      <td>0.387755</td>\n",
       "      <td>0.35443</td>\n",
       "      <td>2</td>\n",
       "      <td>2</td>\n",
       "      <td>1</td>\n",
       "      <td>1</td>\n",
       "      <td>0</td>\n",
       "      <td>0</td>\n",
       "      <td>2</td>\n",
       "      <td>0</td>\n",
       "      <td>0</td>\n",
       "    </tr>\n",
       "    <tr>\n",
       "      <th>3</th>\n",
       "      <td>0.44898</td>\n",
       "      <td>0.405063</td>\n",
       "      <td>2</td>\n",
       "      <td>1</td>\n",
       "      <td>2</td>\n",
       "      <td>1</td>\n",
       "      <td>0</td>\n",
       "      <td>0</td>\n",
       "      <td>0</td>\n",
       "      <td>0</td>\n",
       "      <td>2</td>\n",
       "    </tr>\n",
       "    <tr>\n",
       "      <th>4</th>\n",
       "      <td>0.387755</td>\n",
       "      <td>0.455696</td>\n",
       "      <td>1</td>\n",
       "      <td>2</td>\n",
       "      <td>1</td>\n",
       "      <td>0</td>\n",
       "      <td>0</td>\n",
       "      <td>2</td>\n",
       "      <td>0</td>\n",
       "      <td>0</td>\n",
       "      <td>0</td>\n",
       "    </tr>\n",
       "    <tr>\n",
       "      <th>...</th>\n",
       "      <td>...</td>\n",
       "      <td>...</td>\n",
       "      <td>...</td>\n",
       "      <td>...</td>\n",
       "      <td>...</td>\n",
       "      <td>...</td>\n",
       "      <td>...</td>\n",
       "      <td>...</td>\n",
       "      <td>...</td>\n",
       "      <td>...</td>\n",
       "      <td>...</td>\n",
       "    </tr>\n",
       "    <tr>\n",
       "      <th>2511</th>\n",
       "      <td>0.346939</td>\n",
       "      <td>0.329114</td>\n",
       "      <td>2</td>\n",
       "      <td>2</td>\n",
       "      <td>1</td>\n",
       "      <td>0</td>\n",
       "      <td>0</td>\n",
       "      <td>0</td>\n",
       "      <td>0</td>\n",
       "      <td>0</td>\n",
       "      <td>0</td>\n",
       "    </tr>\n",
       "    <tr>\n",
       "      <th>2512</th>\n",
       "      <td>0.714286</td>\n",
       "      <td>0.632911</td>\n",
       "      <td>1</td>\n",
       "      <td>1</td>\n",
       "      <td>1</td>\n",
       "      <td>0</td>\n",
       "      <td>0</td>\n",
       "      <td>0</td>\n",
       "      <td>0</td>\n",
       "      <td>0</td>\n",
       "      <td>0</td>\n",
       "    </tr>\n",
       "    <tr>\n",
       "      <th>2513</th>\n",
       "      <td>0.040816</td>\n",
       "      <td>0.35443</td>\n",
       "      <td>2</td>\n",
       "      <td>3</td>\n",
       "      <td>2</td>\n",
       "      <td>0</td>\n",
       "      <td>0</td>\n",
       "      <td>0</td>\n",
       "      <td>0</td>\n",
       "      <td>0</td>\n",
       "      <td>0</td>\n",
       "    </tr>\n",
       "    <tr>\n",
       "      <th>2514</th>\n",
       "      <td>0.428571</td>\n",
       "      <td>0.556962</td>\n",
       "      <td>2</td>\n",
       "      <td>1</td>\n",
       "      <td>1</td>\n",
       "      <td>0</td>\n",
       "      <td>3</td>\n",
       "      <td>2</td>\n",
       "      <td>0</td>\n",
       "      <td>0</td>\n",
       "      <td>0</td>\n",
       "    </tr>\n",
       "    <tr>\n",
       "      <th>2515</th>\n",
       "      <td>0.020408</td>\n",
       "      <td>0.101266</td>\n",
       "      <td>1</td>\n",
       "      <td>2</td>\n",
       "      <td>2</td>\n",
       "      <td>0</td>\n",
       "      <td>0</td>\n",
       "      <td>0</td>\n",
       "      <td>0</td>\n",
       "      <td>0</td>\n",
       "      <td>0</td>\n",
       "    </tr>\n",
       "  </tbody>\n",
       "</table>\n",
       "<p>2516 rows × 11 columns</p>\n",
       "</div>"
      ],
      "text/plain": [
       "            0         1  2  3  4  5  6  7  8  9  10\n",
       "0     0.285714   0.35443  2  1  2  0  0  0  0  0  0\n",
       "1     0.244898  0.177215  2  2  2  0  0  0  0  0  0\n",
       "2     0.387755   0.35443  2  2  1  1  0  0  2  0  0\n",
       "3      0.44898  0.405063  2  1  2  1  0  0  0  0  2\n",
       "4     0.387755  0.455696  1  2  1  0  0  2  0  0  0\n",
       "...        ...       ... .. .. .. .. .. .. .. .. ..\n",
       "2511  0.346939  0.329114  2  2  1  0  0  0  0  0  0\n",
       "2512  0.714286  0.632911  1  1  1  0  0  0  0  0  0\n",
       "2513  0.040816   0.35443  2  3  2  0  0  0  0  0  0\n",
       "2514  0.428571  0.556962  2  1  1  0  3  2  0  0  0\n",
       "2515  0.020408  0.101266  1  2  2  0  0  0  0  0  0\n",
       "\n",
       "[2516 rows x 11 columns]"
      ]
     },
     "execution_count": 62,
     "metadata": {},
     "output_type": "execute_result"
    }
   ],
   "source": [
    "X_train_final_df = pd.DataFrame(X_train_final)\n",
    "X_train_final_df"
   ]
  },
  {
   "cell_type": "code",
   "execution_count": 63,
   "metadata": {},
   "outputs": [
    {
     "data": {
      "text/plain": [
       "2088    0\n",
       "2836    0\n",
       "2467    0\n",
       "2034    0\n",
       "2429    0\n",
       "       ..\n",
       "61      0\n",
       "509     1\n",
       "393     0\n",
       "2340    1\n",
       "490     0\n",
       "Name: default, Length: 2516, dtype: int64"
      ]
     },
     "execution_count": 63,
     "metadata": {},
     "output_type": "execute_result"
    }
   ],
   "source": [
    "y_train"
   ]
  },
  {
   "cell_type": "markdown",
   "metadata": {},
   "source": [
    "# **VI. MODELLING**\n",
    "\n",
    "Pada bagian ini, penulis akan mencoba membuat beberapa model untuk melihat model mana yang memiliki performa terbaik untuk data ini. Model yang dibuat adalah Logistic Regression, Support Vector Machine, Decision Tree, Random Forest, K-Nearest Neighbours, Naive Bayes, dan Gradient Boosting."
   ]
  },
  {
   "cell_type": "markdown",
   "metadata": {},
   "source": [
    "## VI.1. LOGISTIC REGRESSION"
   ]
  },
  {
   "cell_type": "markdown",
   "metadata": {},
   "source": [
    "### VI.1.a. MODEL DEFINITION\n",
    "\n",
    "Untuk pembuatan model awal ini digunakan hyperparameter default."
   ]
  },
  {
   "cell_type": "code",
   "execution_count": 64,
   "metadata": {},
   "outputs": [],
   "source": [
    "log_model = LogisticRegression(random_state=39)"
   ]
  },
  {
   "cell_type": "markdown",
   "metadata": {},
   "source": [
    "### VI.1.b. MODEL TRAINING"
   ]
  },
  {
   "cell_type": "code",
   "execution_count": 65,
   "metadata": {},
   "outputs": [
    {
     "data": {
      "text/html": [
       "<style>#sk-container-id-1 {color: black;background-color: white;}#sk-container-id-1 pre{padding: 0;}#sk-container-id-1 div.sk-toggleable {background-color: white;}#sk-container-id-1 label.sk-toggleable__label {cursor: pointer;display: block;width: 100%;margin-bottom: 0;padding: 0.3em;box-sizing: border-box;text-align: center;}#sk-container-id-1 label.sk-toggleable__label-arrow:before {content: \"▸\";float: left;margin-right: 0.25em;color: #696969;}#sk-container-id-1 label.sk-toggleable__label-arrow:hover:before {color: black;}#sk-container-id-1 div.sk-estimator:hover label.sk-toggleable__label-arrow:before {color: black;}#sk-container-id-1 div.sk-toggleable__content {max-height: 0;max-width: 0;overflow: hidden;text-align: left;background-color: #f0f8ff;}#sk-container-id-1 div.sk-toggleable__content pre {margin: 0.2em;color: black;border-radius: 0.25em;background-color: #f0f8ff;}#sk-container-id-1 input.sk-toggleable__control:checked~div.sk-toggleable__content {max-height: 200px;max-width: 100%;overflow: auto;}#sk-container-id-1 input.sk-toggleable__control:checked~label.sk-toggleable__label-arrow:before {content: \"▾\";}#sk-container-id-1 div.sk-estimator input.sk-toggleable__control:checked~label.sk-toggleable__label {background-color: #d4ebff;}#sk-container-id-1 div.sk-label input.sk-toggleable__control:checked~label.sk-toggleable__label {background-color: #d4ebff;}#sk-container-id-1 input.sk-hidden--visually {border: 0;clip: rect(1px 1px 1px 1px);clip: rect(1px, 1px, 1px, 1px);height: 1px;margin: -1px;overflow: hidden;padding: 0;position: absolute;width: 1px;}#sk-container-id-1 div.sk-estimator {font-family: monospace;background-color: #f0f8ff;border: 1px dotted black;border-radius: 0.25em;box-sizing: border-box;margin-bottom: 0.5em;}#sk-container-id-1 div.sk-estimator:hover {background-color: #d4ebff;}#sk-container-id-1 div.sk-parallel-item::after {content: \"\";width: 100%;border-bottom: 1px solid gray;flex-grow: 1;}#sk-container-id-1 div.sk-label:hover label.sk-toggleable__label {background-color: #d4ebff;}#sk-container-id-1 div.sk-serial::before {content: \"\";position: absolute;border-left: 1px solid gray;box-sizing: border-box;top: 0;bottom: 0;left: 50%;z-index: 0;}#sk-container-id-1 div.sk-serial {display: flex;flex-direction: column;align-items: center;background-color: white;padding-right: 0.2em;padding-left: 0.2em;position: relative;}#sk-container-id-1 div.sk-item {position: relative;z-index: 1;}#sk-container-id-1 div.sk-parallel {display: flex;align-items: stretch;justify-content: center;background-color: white;position: relative;}#sk-container-id-1 div.sk-item::before, #sk-container-id-1 div.sk-parallel-item::before {content: \"\";position: absolute;border-left: 1px solid gray;box-sizing: border-box;top: 0;bottom: 0;left: 50%;z-index: -1;}#sk-container-id-1 div.sk-parallel-item {display: flex;flex-direction: column;z-index: 1;position: relative;background-color: white;}#sk-container-id-1 div.sk-parallel-item:first-child::after {align-self: flex-end;width: 50%;}#sk-container-id-1 div.sk-parallel-item:last-child::after {align-self: flex-start;width: 50%;}#sk-container-id-1 div.sk-parallel-item:only-child::after {width: 0;}#sk-container-id-1 div.sk-dashed-wrapped {border: 1px dashed gray;margin: 0 0.4em 0.5em 0.4em;box-sizing: border-box;padding-bottom: 0.4em;background-color: white;}#sk-container-id-1 div.sk-label label {font-family: monospace;font-weight: bold;display: inline-block;line-height: 1.2em;}#sk-container-id-1 div.sk-label-container {text-align: center;}#sk-container-id-1 div.sk-container {/* jupyter's `normalize.less` sets `[hidden] { display: none; }` but bootstrap.min.css set `[hidden] { display: none !important; }` so we also need the `!important` here to be able to override the default hidden behavior on the sphinx rendered scikit-learn.org. See: https://github.com/scikit-learn/scikit-learn/issues/21755 */display: inline-block !important;position: relative;}#sk-container-id-1 div.sk-text-repr-fallback {display: none;}</style><div id=\"sk-container-id-1\" class=\"sk-top-container\"><div class=\"sk-text-repr-fallback\"><pre>LogisticRegression(random_state=39)</pre><b>In a Jupyter environment, please rerun this cell to show the HTML representation or trust the notebook. <br />On GitHub, the HTML representation is unable to render, please try loading this page with nbviewer.org.</b></div><div class=\"sk-container\" hidden><div class=\"sk-item\"><div class=\"sk-estimator sk-toggleable\"><input class=\"sk-toggleable__control sk-hidden--visually\" id=\"sk-estimator-id-1\" type=\"checkbox\" checked><label for=\"sk-estimator-id-1\" class=\"sk-toggleable__label sk-toggleable__label-arrow\">LogisticRegression</label><div class=\"sk-toggleable__content\"><pre>LogisticRegression(random_state=39)</pre></div></div></div></div></div>"
      ],
      "text/plain": [
       "LogisticRegression(random_state=39)"
      ]
     },
     "execution_count": 65,
     "metadata": {},
     "output_type": "execute_result"
    }
   ],
   "source": [
    "log_model.fit(X_train_final, y_train)"
   ]
  },
  {
   "cell_type": "markdown",
   "metadata": {},
   "source": [
    "### VI.1.c. MODEL EVALUATION"
   ]
  },
  {
   "cell_type": "code",
   "execution_count": 66,
   "metadata": {},
   "outputs": [
    {
     "name": "stdout",
     "output_type": "stream",
     "text": [
      "Train Mean Accuracy: 0.825 | Train Std Accuracy: 0.015\n",
      "Test Mean Accuracy: 0.856  | Test Std Accuracy: 0.058\n"
     ]
    }
   ],
   "source": [
    "skfold = StratifiedKFold(n_splits=10)\n",
    "log_train_cross_val = cross_val_score(log_model, X_train_final, y_train, cv=skfold, scoring='accuracy')\n",
    "log_test_cross_val = cross_val_score(log_model, X_test_final, y_test, cv=skfold, scoring='accuracy')\n",
    "\n",
    "print(f'Train Mean Accuracy:','{:.3f}'.format(np.mean(log_train_cross_val)), '| Train Std Accuracy:','{:.3f}'.format(np.std(log_train_cross_val)))\n",
    "print(f'Test Mean Accuracy:','{:.3f}'.format(np.mean(log_test_cross_val)), ' | Test Std Accuracy:','{:.3f}'.format(np.std(log_test_cross_val)))"
   ]
  },
  {
   "cell_type": "code",
   "execution_count": 67,
   "metadata": {},
   "outputs": [
    {
     "name": "stdout",
     "output_type": "stream",
     "text": [
      "========== TRAINING ==========\n",
      "              precision    recall  f1-score   support\n",
      "\n",
      "           0       0.84      0.96      0.90      1977\n",
      "           1       0.71      0.35      0.47       539\n",
      "\n",
      "    accuracy                           0.83      2516\n",
      "   macro avg       0.78      0.66      0.68      2516\n",
      "weighted avg       0.82      0.83      0.81      2516\n",
      "\n",
      "\n",
      "\n",
      "========== TEST ==========\n",
      "              precision    recall  f1-score   support\n",
      "\n",
      "           0       0.86      0.97      0.91       349\n",
      "           1       0.81      0.40      0.54        95\n",
      "\n",
      "    accuracy                           0.85       444\n",
      "   macro avg       0.83      0.69      0.72       444\n",
      "weighted avg       0.85      0.85      0.83       444\n",
      "\n"
     ]
    },
    {
     "data": {
      "image/png": "[encoded data removed]",
      "text/plain": [
       "<Figure size 432x288 with 2 Axes>"
      ]
     },
     "metadata": {
      "needs_background": "light"
     },
     "output_type": "display_data"
    }
   ],
   "source": [
    "y_pred_train_log = log_model.predict(X_train_final)\n",
    "y_pred_test_log = log_model.predict(X_test_final)\n",
    "\n",
    "print(\"=\"*10,\"TRAINING\",\"=\"*10)\n",
    "print(classification_report(y_train, y_pred_train_log, zero_division=0))\n",
    "print(\"\\n\")\n",
    "print(\"=\"*10,\"TEST\",\"=\"*10)\n",
    "print(classification_report(y_test, y_pred_test_log, zero_division=0))\n",
    "\n",
    "cm = confusion_matrix(y_test, y_pred_test_log, labels=log_model.classes_)\n",
    "disp = ConfusionMatrixDisplay(confusion_matrix=cm, display_labels=log_model.classes_)\n",
    "\n",
    "disp.plot(cmap='magma')\n",
    "plt.show()"
   ]
  },
  {
   "cell_type": "markdown",
   "metadata": {},
   "source": [
    "Dari model Logistic Regression, didapatkan nilai recall sebesar 0.97 untuk label 0 (non-default) dan 0.4 untuk label 1 (default). Nilai recall ini bisa diinterpretasikan sebagai:\n",
    "- Dari seluruh nasabah non-default, model berhasil melakukan klasifikasi dengan tepat untuk 97% nasabah dan ada 3% nasabah non-default yang salah klasifikasi menjadi nasabah default.\n",
    "- Dari seluruh nasabah default, model hanya berhasil melakukan klasifikasi dengan tepat untuk 40% nasabah saja. Berarti ada 60% nasabah default yang diklasifikasi model sebagai nasabah non-default."
   ]
  },
  {
   "cell_type": "markdown",
   "metadata": {},
   "source": [
    "## VI.2. SUPPORT VECTOR MACHINE (SVM)"
   ]
  },
  {
   "cell_type": "markdown",
   "metadata": {},
   "source": [
    "### VI.2.a. MODEL DEFINITION\n",
    "\n",
    "Untuk pembuatan model awal ini digunakan hyperparameter default."
   ]
  },
  {
   "cell_type": "code",
   "execution_count": 68,
   "metadata": {},
   "outputs": [],
   "source": [
    "svm_model = SVC(random_state=39)"
   ]
  },
  {
   "cell_type": "markdown",
   "metadata": {},
   "source": [
    "### VI.2.b. MODEL TRAINING"
   ]
  },
  {
   "cell_type": "code",
   "execution_count": 69,
   "metadata": {},
   "outputs": [
    {
     "data": {
      "text/html": [
       "<style>#sk-container-id-2 {color: black;background-color: white;}#sk-container-id-2 pre{padding: 0;}#sk-container-id-2 div.sk-toggleable {background-color: white;}#sk-container-id-2 label.sk-toggleable__label {cursor: pointer;display: block;width: 100%;margin-bottom: 0;padding: 0.3em;box-sizing: border-box;text-align: center;}#sk-container-id-2 label.sk-toggleable__label-arrow:before {content: \"▸\";float: left;margin-right: 0.25em;color: #696969;}#sk-container-id-2 label.sk-toggleable__label-arrow:hover:before {color: black;}#sk-container-id-2 div.sk-estimator:hover label.sk-toggleable__label-arrow:before {color: black;}#sk-container-id-2 div.sk-toggleable__content {max-height: 0;max-width: 0;overflow: hidden;text-align: left;background-color: #f0f8ff;}#sk-container-id-2 div.sk-toggleable__content pre {margin: 0.2em;color: black;border-radius: 0.25em;background-color: #f0f8ff;}#sk-container-id-2 input.sk-toggleable__control:checked~div.sk-toggleable__content {max-height: 200px;max-width: 100%;overflow: auto;}#sk-container-id-2 input.sk-toggleable__control:checked~label.sk-toggleable__label-arrow:before {content: \"▾\";}#sk-container-id-2 div.sk-estimator input.sk-toggleable__control:checked~label.sk-toggleable__label {background-color: #d4ebff;}#sk-container-id-2 div.sk-label input.sk-toggleable__control:checked~label.sk-toggleable__label {background-color: #d4ebff;}#sk-container-id-2 input.sk-hidden--visually {border: 0;clip: rect(1px 1px 1px 1px);clip: rect(1px, 1px, 1px, 1px);height: 1px;margin: -1px;overflow: hidden;padding: 0;position: absolute;width: 1px;}#sk-container-id-2 div.sk-estimator {font-family: monospace;background-color: #f0f8ff;border: 1px dotted black;border-radius: 0.25em;box-sizing: border-box;margin-bottom: 0.5em;}#sk-container-id-2 div.sk-estimator:hover {background-color: #d4ebff;}#sk-container-id-2 div.sk-parallel-item::after {content: \"\";width: 100%;border-bottom: 1px solid gray;flex-grow: 1;}#sk-container-id-2 div.sk-label:hover label.sk-toggleable__label {background-color: #d4ebff;}#sk-container-id-2 div.sk-serial::before {content: \"\";position: absolute;border-left: 1px solid gray;box-sizing: border-box;top: 0;bottom: 0;left: 50%;z-index: 0;}#sk-container-id-2 div.sk-serial {display: flex;flex-direction: column;align-items: center;background-color: white;padding-right: 0.2em;padding-left: 0.2em;position: relative;}#sk-container-id-2 div.sk-item {position: relative;z-index: 1;}#sk-container-id-2 div.sk-parallel {display: flex;align-items: stretch;justify-content: center;background-color: white;position: relative;}#sk-container-id-2 div.sk-item::before, #sk-container-id-2 div.sk-parallel-item::before {content: \"\";position: absolute;border-left: 1px solid gray;box-sizing: border-box;top: 0;bottom: 0;left: 50%;z-index: -1;}#sk-container-id-2 div.sk-parallel-item {display: flex;flex-direction: column;z-index: 1;position: relative;background-color: white;}#sk-container-id-2 div.sk-parallel-item:first-child::after {align-self: flex-end;width: 50%;}#sk-container-id-2 div.sk-parallel-item:last-child::after {align-self: flex-start;width: 50%;}#sk-container-id-2 div.sk-parallel-item:only-child::after {width: 0;}#sk-container-id-2 div.sk-dashed-wrapped {border: 1px dashed gray;margin: 0 0.4em 0.5em 0.4em;box-sizing: border-box;padding-bottom: 0.4em;background-color: white;}#sk-container-id-2 div.sk-label label {font-family: monospace;font-weight: bold;display: inline-block;line-height: 1.2em;}#sk-container-id-2 div.sk-label-container {text-align: center;}#sk-container-id-2 div.sk-container {/* jupyter's `normalize.less` sets `[hidden] { display: none; }` but bootstrap.min.css set `[hidden] { display: none !important; }` so we also need the `!important` here to be able to override the default hidden behavior on the sphinx rendered scikit-learn.org. See: https://github.com/scikit-learn/scikit-learn/issues/21755 */display: inline-block !important;position: relative;}#sk-container-id-2 div.sk-text-repr-fallback {display: none;}</style><div id=\"sk-container-id-2\" class=\"sk-top-container\"><div class=\"sk-text-repr-fallback\"><pre>SVC(random_state=39)</pre><b>In a Jupyter environment, please rerun this cell to show the HTML representation or trust the notebook. <br />On GitHub, the HTML representation is unable to render, please try loading this page with nbviewer.org.</b></div><div class=\"sk-container\" hidden><div class=\"sk-item\"><div class=\"sk-estimator sk-toggleable\"><input class=\"sk-toggleable__control sk-hidden--visually\" id=\"sk-estimator-id-2\" type=\"checkbox\" checked><label for=\"sk-estimator-id-2\" class=\"sk-toggleable__label sk-toggleable__label-arrow\">SVC</label><div class=\"sk-toggleable__content\"><pre>SVC(random_state=39)</pre></div></div></div></div></div>"
      ],
      "text/plain": [
       "SVC(random_state=39)"
      ]
     },
     "execution_count": 69,
     "metadata": {},
     "output_type": "execute_result"
    }
   ],
   "source": [
    "svm_model.fit(X_train_final, y_train)"
   ]
  },
  {
   "cell_type": "markdown",
   "metadata": {},
   "source": [
    "### VI.2.c. MODEL EVALUATION"
   ]
  },
  {
   "cell_type": "code",
   "execution_count": 70,
   "metadata": {},
   "outputs": [
    {
     "name": "stdout",
     "output_type": "stream",
     "text": [
      "Train Mean Accuracy: 0.835 | Train Std Accuracy: 0.018\n",
      "Test Mean Accuracy: 0.822  | Test Std Accuracy: 0.042\n"
     ]
    }
   ],
   "source": [
    "skfold = StratifiedKFold(n_splits=10)\n",
    "svm_train_cross_val = cross_val_score(svm_model, X_train_final, y_train, cv=skfold, scoring='accuracy')\n",
    "svm_test_cross_val = cross_val_score(svm_model, X_test_final, y_test, cv=skfold, scoring='accuracy')\n",
    "\n",
    "print(f'Train Mean Accuracy:','{:.3f}'.format(np.mean(svm_train_cross_val)), '| Train Std Accuracy:','{:.3f}'.format(np.std(svm_train_cross_val)))\n",
    "print(f'Test Mean Accuracy:','{:.3f}'.format(np.mean(svm_test_cross_val)), ' | Test Std Accuracy:','{:.3f}'.format(np.std(svm_test_cross_val)))"
   ]
  },
  {
   "cell_type": "code",
   "execution_count": 71,
   "metadata": {},
   "outputs": [
    {
     "name": "stdout",
     "output_type": "stream",
     "text": [
      "========== TRAINING ==========\n",
      "              precision    recall  f1-score   support\n",
      "\n",
      "           0       0.86      0.96      0.91      1977\n",
      "           1       0.74      0.42      0.54       539\n",
      "\n",
      "    accuracy                           0.84      2516\n",
      "   macro avg       0.80      0.69      0.72      2516\n",
      "weighted avg       0.83      0.84      0.83      2516\n",
      "\n",
      "\n",
      "\n",
      "========== TEST ==========\n",
      "              precision    recall  f1-score   support\n",
      "\n",
      "           0       0.87      0.96      0.91       349\n",
      "           1       0.77      0.46      0.58        95\n",
      "\n",
      "    accuracy                           0.86       444\n",
      "   macro avg       0.82      0.71      0.75       444\n",
      "weighted avg       0.85      0.86      0.84       444\n",
      "\n"
     ]
    },
    {
     "data": {
      "image/png": "[encoded data removed]",
      "text/plain": [
       "<Figure size 432x288 with 2 Axes>"
      ]
     },
     "metadata": {
      "needs_background": "light"
     },
     "output_type": "display_data"
    }
   ],
   "source": [
    "y_pred_train_svm = svm_model.predict(X_train_final)\n",
    "y_pred_test_svm = svm_model.predict(X_test_final)\n",
    "\n",
    "print(\"=\"*10,\"TRAINING\",\"=\"*10)\n",
    "print(classification_report(y_train, y_pred_train_svm, zero_division=0))\n",
    "print(\"\\n\")\n",
    "print(\"=\"*10,\"TEST\",\"=\"*10)\n",
    "print(classification_report(y_test, y_pred_test_svm, zero_division=0))\n",
    "\n",
    "cm = confusion_matrix(y_test, y_pred_test_svm, labels=svm_model.classes_)\n",
    "disp = ConfusionMatrixDisplay(confusion_matrix=cm, display_labels=svm_model.classes_)\n",
    "\n",
    "disp.plot(cmap='magma')\n",
    "plt.show()"
   ]
  },
  {
   "cell_type": "markdown",
   "metadata": {},
   "source": [
    "Dari model Support Vector Machine, didapatkan nilai recall sebesar 0.96 untuk label 0 (non-default) dan 0.46 untuk label 1 (default). Nilai recall ini bisa diinterpretasikan sebagai:\n",
    "- Dari seluruh nasabah non-default, model berhasil melakukan klasifikasi dengan tepat untuk 96% nasabah dan ada 4% nasabah non-default yang salah klasifikasi menjadi nasabah default.\n",
    "- Dari seluruh nasabah default, model hanya berhasil melakukan klasifikasi dengan tepat untuk 46% nasabah saja. Berarti ada 54% nasabah default yang diklasifikasi model sebagai nasabah non-default.\n",
    "\n",
    "Berdasarkan nilai recall-nya model Support Vector Machine menghasilkan nilai yang lebih baik apabila dibandingkan dengan model sebelummnya."
   ]
  },
  {
   "cell_type": "markdown",
   "metadata": {},
   "source": [
    "## VI.3. DECISION TREE"
   ]
  },
  {
   "cell_type": "markdown",
   "metadata": {},
   "source": [
    "### VI.3.a. MODEL DEFINITION\n",
    "\n",
    "Untuk pembuatan model awal ini digunakan hyperparameter default."
   ]
  },
  {
   "cell_type": "code",
   "execution_count": 72,
   "metadata": {},
   "outputs": [],
   "source": [
    "dt_model = DecisionTreeClassifier(random_state=39)"
   ]
  },
  {
   "cell_type": "markdown",
   "metadata": {},
   "source": [
    "### VI.3.b. MODEL TRAINING"
   ]
  },
  {
   "cell_type": "code",
   "execution_count": 73,
   "metadata": {},
   "outputs": [
    {
     "data": {
      "text/html": [
       "<style>#sk-container-id-3 {color: black;background-color: white;}#sk-container-id-3 pre{padding: 0;}#sk-container-id-3 div.sk-toggleable {background-color: white;}#sk-container-id-3 label.sk-toggleable__label {cursor: pointer;display: block;width: 100%;margin-bottom: 0;padding: 0.3em;box-sizing: border-box;text-align: center;}#sk-container-id-3 label.sk-toggleable__label-arrow:before {content: \"▸\";float: left;margin-right: 0.25em;color: #696969;}#sk-container-id-3 label.sk-toggleable__label-arrow:hover:before {color: black;}#sk-container-id-3 div.sk-estimator:hover label.sk-toggleable__label-arrow:before {color: black;}#sk-container-id-3 div.sk-toggleable__content {max-height: 0;max-width: 0;overflow: hidden;text-align: left;background-color: #f0f8ff;}#sk-container-id-3 div.sk-toggleable__content pre {margin: 0.2em;color: black;border-radius: 0.25em;background-color: #f0f8ff;}#sk-container-id-3 input.sk-toggleable__control:checked~div.sk-toggleable__content {max-height: 200px;max-width: 100%;overflow: auto;}#sk-container-id-3 input.sk-toggleable__control:checked~label.sk-toggleable__label-arrow:before {content: \"▾\";}#sk-container-id-3 div.sk-estimator input.sk-toggleable__control:checked~label.sk-toggleable__label {background-color: #d4ebff;}#sk-container-id-3 div.sk-label input.sk-toggleable__control:checked~label.sk-toggleable__label {background-color: #d4ebff;}#sk-container-id-3 input.sk-hidden--visually {border: 0;clip: rect(1px 1px 1px 1px);clip: rect(1px, 1px, 1px, 1px);height: 1px;margin: -1px;overflow: hidden;padding: 0;position: absolute;width: 1px;}#sk-container-id-3 div.sk-estimator {font-family: monospace;background-color: #f0f8ff;border: 1px dotted black;border-radius: 0.25em;box-sizing: border-box;margin-bottom: 0.5em;}#sk-container-id-3 div.sk-estimator:hover {background-color: #d4ebff;}#sk-container-id-3 div.sk-parallel-item::after {content: \"\";width: 100%;border-bottom: 1px solid gray;flex-grow: 1;}#sk-container-id-3 div.sk-label:hover label.sk-toggleable__label {background-color: #d4ebff;}#sk-container-id-3 div.sk-serial::before {content: \"\";position: absolute;border-left: 1px solid gray;box-sizing: border-box;top: 0;bottom: 0;left: 50%;z-index: 0;}#sk-container-id-3 div.sk-serial {display: flex;flex-direction: column;align-items: center;background-color: white;padding-right: 0.2em;padding-left: 0.2em;position: relative;}#sk-container-id-3 div.sk-item {position: relative;z-index: 1;}#sk-container-id-3 div.sk-parallel {display: flex;align-items: stretch;justify-content: center;background-color: white;position: relative;}#sk-container-id-3 div.sk-item::before, #sk-container-id-3 div.sk-parallel-item::before {content: \"\";position: absolute;border-left: 1px solid gray;box-sizing: border-box;top: 0;bottom: 0;left: 50%;z-index: -1;}#sk-container-id-3 div.sk-parallel-item {display: flex;flex-direction: column;z-index: 1;position: relative;background-color: white;}#sk-container-id-3 div.sk-parallel-item:first-child::after {align-self: flex-end;width: 50%;}#sk-container-id-3 div.sk-parallel-item:last-child::after {align-self: flex-start;width: 50%;}#sk-container-id-3 div.sk-parallel-item:only-child::after {width: 0;}#sk-container-id-3 div.sk-dashed-wrapped {border: 1px dashed gray;margin: 0 0.4em 0.5em 0.4em;box-sizing: border-box;padding-bottom: 0.4em;background-color: white;}#sk-container-id-3 div.sk-label label {font-family: monospace;font-weight: bold;display: inline-block;line-height: 1.2em;}#sk-container-id-3 div.sk-label-container {text-align: center;}#sk-container-id-3 div.sk-container {/* jupyter's `normalize.less` sets `[hidden] { display: none; }` but bootstrap.min.css set `[hidden] { display: none !important; }` so we also need the `!important` here to be able to override the default hidden behavior on the sphinx rendered scikit-learn.org. See: https://github.com/scikit-learn/scikit-learn/issues/21755 */display: inline-block !important;position: relative;}#sk-container-id-3 div.sk-text-repr-fallback {display: none;}</style><div id=\"sk-container-id-3\" class=\"sk-top-container\"><div class=\"sk-text-repr-fallback\"><pre>DecisionTreeClassifier(random_state=39)</pre><b>In a Jupyter environment, please rerun this cell to show the HTML representation or trust the notebook. <br />On GitHub, the HTML representation is unable to render, please try loading this page with nbviewer.org.</b></div><div class=\"sk-container\" hidden><div class=\"sk-item\"><div class=\"sk-estimator sk-toggleable\"><input class=\"sk-toggleable__control sk-hidden--visually\" id=\"sk-estimator-id-3\" type=\"checkbox\" checked><label for=\"sk-estimator-id-3\" class=\"sk-toggleable__label sk-toggleable__label-arrow\">DecisionTreeClassifier</label><div class=\"sk-toggleable__content\"><pre>DecisionTreeClassifier(random_state=39)</pre></div></div></div></div></div>"
      ],
      "text/plain": [
       "DecisionTreeClassifier(random_state=39)"
      ]
     },
     "execution_count": 73,
     "metadata": {},
     "output_type": "execute_result"
    }
   ],
   "source": [
    "dt_model.fit(X_train_final, y_train)"
   ]
  },
  {
   "cell_type": "markdown",
   "metadata": {},
   "source": [
    "### VI.3.c. MODEL EVALUATION"
   ]
  },
  {
   "cell_type": "code",
   "execution_count": 74,
   "metadata": {},
   "outputs": [
    {
     "name": "stdout",
     "output_type": "stream",
     "text": [
      "Train Mean Accuracy: 0.745 | Train Std Accuracy: 0.021\n",
      "Test Mean Accuracy: 0.766  | Test Std Accuracy: 0.096\n"
     ]
    }
   ],
   "source": [
    "skfold = StratifiedKFold(n_splits=10)\n",
    "dt_train_cross_val = cross_val_score(dt_model, X_train_final, y_train, cv=skfold, scoring='accuracy')\n",
    "dt_test_cross_val = cross_val_score(dt_model, X_test_final, y_test, cv=skfold, scoring='accuracy')\n",
    "\n",
    "print(f'Train Mean Accuracy:','{:.3f}'.format(np.mean(dt_train_cross_val)), '| Train Std Accuracy:','{:.3f}'.format(np.std(dt_train_cross_val)))\n",
    "print(f'Test Mean Accuracy:','{:.3f}'.format(np.mean(dt_test_cross_val)), ' | Test Std Accuracy:','{:.3f}'.format(np.std(dt_test_cross_val)))"
   ]
  },
  {
   "cell_type": "code",
   "execution_count": 75,
   "metadata": {},
   "outputs": [
    {
     "name": "stdout",
     "output_type": "stream",
     "text": [
      "========== TRAINING ==========\n",
      "              precision    recall  f1-score   support\n",
      "\n",
      "           0       0.98      1.00      0.99      1977\n",
      "           1       1.00      0.91      0.95       539\n",
      "\n",
      "    accuracy                           0.98      2516\n",
      "   macro avg       0.99      0.96      0.97      2516\n",
      "weighted avg       0.98      0.98      0.98      2516\n",
      "\n",
      "\n",
      "\n",
      "========== TEST ==========\n",
      "              precision    recall  f1-score   support\n",
      "\n",
      "           0       0.85      0.82      0.83       349\n",
      "           1       0.40      0.45      0.43        95\n",
      "\n",
      "    accuracy                           0.74       444\n",
      "   macro avg       0.62      0.63      0.63       444\n",
      "weighted avg       0.75      0.74      0.74       444\n",
      "\n"
     ]
    },
    {
     "data": {
      "image/png": "[encoded data removed]",
      "text/plain": [
       "<Figure size 432x288 with 2 Axes>"
      ]
     },
     "metadata": {
      "needs_background": "light"
     },
     "output_type": "display_data"
    }
   ],
   "source": [
    "y_pred_train_dt = dt_model.predict(X_train_final)\n",
    "y_pred_test_dt = dt_model.predict(X_test_final)\n",
    "\n",
    "print(\"=\"*10,\"TRAINING\",\"=\"*10)\n",
    "print(classification_report(y_train, y_pred_train_dt, zero_division=0))\n",
    "print(\"\\n\")\n",
    "print(\"=\"*10,\"TEST\",\"=\"*10)\n",
    "print(classification_report(y_test, y_pred_test_dt, zero_division=0))\n",
    "\n",
    "cm = confusion_matrix(y_test, y_pred_test_dt, labels=dt_model.classes_)\n",
    "disp = ConfusionMatrixDisplay(confusion_matrix=cm, display_labels=dt_model.classes_)\n",
    "\n",
    "disp.plot(cmap='magma')\n",
    "plt.show()"
   ]
  },
  {
   "cell_type": "markdown",
   "metadata": {},
   "source": [
    "Dari model Decision Tree, didapatkan nilai recall sebesar 0.82 untuk label 0 (non-default) dan 0.45 untuk label 1 (default). Nilai recall ini bisa diinterpretasikan sebagai:\n",
    "- Dari seluruh nasabah non-default, model berhasil melakukan klasifikasi dengan tepat untuk 82% nasabah dan ada 18% nasabah non-default yang salah klasifikasi menjadi nasabah default.\n",
    "- Dari seluruh nasabah default, model hanya berhasil melakukan klasifikasi dengan tepat untuk 45% nasabah saja. Berarti ada 55% nasabah default yang diklasifikasi model sebagai nasabah non-default.\n",
    "\n",
    "Berdasarkan nilai recall-nya model Decision Tree ketepatannya tidak sebaik model SVM. terutama untuk klasifikasi nasabah non-default, model Decision Tree performanya tidak sebaik dua model sebelumnya."
   ]
  },
  {
   "cell_type": "markdown",
   "metadata": {},
   "source": [
    "## VI.4. RANDOM FOREST"
   ]
  },
  {
   "cell_type": "markdown",
   "metadata": {},
   "source": [
    "### VI.4.a. MODEL DEFINITION\n",
    "\n",
    "Untuk pembuatan model awal ini digunakan hyperparameter default."
   ]
  },
  {
   "cell_type": "code",
   "execution_count": 76,
   "metadata": {},
   "outputs": [],
   "source": [
    "rf_model = RandomForestClassifier(random_state=39)"
   ]
  },
  {
   "cell_type": "markdown",
   "metadata": {},
   "source": [
    "### VI.4.b. MODEL TRAINING"
   ]
  },
  {
   "cell_type": "code",
   "execution_count": 77,
   "metadata": {},
   "outputs": [
    {
     "data": {
      "text/html": [
       "<style>#sk-container-id-4 {color: black;background-color: white;}#sk-container-id-4 pre{padding: 0;}#sk-container-id-4 div.sk-toggleable {background-color: white;}#sk-container-id-4 label.sk-toggleable__label {cursor: pointer;display: block;width: 100%;margin-bottom: 0;padding: 0.3em;box-sizing: border-box;text-align: center;}#sk-container-id-4 label.sk-toggleable__label-arrow:before {content: \"▸\";float: left;margin-right: 0.25em;color: #696969;}#sk-container-id-4 label.sk-toggleable__label-arrow:hover:before {color: black;}#sk-container-id-4 div.sk-estimator:hover label.sk-toggleable__label-arrow:before {color: black;}#sk-container-id-4 div.sk-toggleable__content {max-height: 0;max-width: 0;overflow: hidden;text-align: left;background-color: #f0f8ff;}#sk-container-id-4 div.sk-toggleable__content pre {margin: 0.2em;color: black;border-radius: 0.25em;background-color: #f0f8ff;}#sk-container-id-4 input.sk-toggleable__control:checked~div.sk-toggleable__content {max-height: 200px;max-width: 100%;overflow: auto;}#sk-container-id-4 input.sk-toggleable__control:checked~label.sk-toggleable__label-arrow:before {content: \"▾\";}#sk-container-id-4 div.sk-estimator input.sk-toggleable__control:checked~label.sk-toggleable__label {background-color: #d4ebff;}#sk-container-id-4 div.sk-label input.sk-toggleable__control:checked~label.sk-toggleable__label {background-color: #d4ebff;}#sk-container-id-4 input.sk-hidden--visually {border: 0;clip: rect(1px 1px 1px 1px);clip: rect(1px, 1px, 1px, 1px);height: 1px;margin: -1px;overflow: hidden;padding: 0;position: absolute;width: 1px;}#sk-container-id-4 div.sk-estimator {font-family: monospace;background-color: #f0f8ff;border: 1px dotted black;border-radius: 0.25em;box-sizing: border-box;margin-bottom: 0.5em;}#sk-container-id-4 div.sk-estimator:hover {background-color: #d4ebff;}#sk-container-id-4 div.sk-parallel-item::after {content: \"\";width: 100%;border-bottom: 1px solid gray;flex-grow: 1;}#sk-container-id-4 div.sk-label:hover label.sk-toggleable__label {background-color: #d4ebff;}#sk-container-id-4 div.sk-serial::before {content: \"\";position: absolute;border-left: 1px solid gray;box-sizing: border-box;top: 0;bottom: 0;left: 50%;z-index: 0;}#sk-container-id-4 div.sk-serial {display: flex;flex-direction: column;align-items: center;background-color: white;padding-right: 0.2em;padding-left: 0.2em;position: relative;}#sk-container-id-4 div.sk-item {position: relative;z-index: 1;}#sk-container-id-4 div.sk-parallel {display: flex;align-items: stretch;justify-content: center;background-color: white;position: relative;}#sk-container-id-4 div.sk-item::before, #sk-container-id-4 div.sk-parallel-item::before {content: \"\";position: absolute;border-left: 1px solid gray;box-sizing: border-box;top: 0;bottom: 0;left: 50%;z-index: -1;}#sk-container-id-4 div.sk-parallel-item {display: flex;flex-direction: column;z-index: 1;position: relative;background-color: white;}#sk-container-id-4 div.sk-parallel-item:first-child::after {align-self: flex-end;width: 50%;}#sk-container-id-4 div.sk-parallel-item:last-child::after {align-self: flex-start;width: 50%;}#sk-container-id-4 div.sk-parallel-item:only-child::after {width: 0;}#sk-container-id-4 div.sk-dashed-wrapped {border: 1px dashed gray;margin: 0 0.4em 0.5em 0.4em;box-sizing: border-box;padding-bottom: 0.4em;background-color: white;}#sk-container-id-4 div.sk-label label {font-family: monospace;font-weight: bold;display: inline-block;line-height: 1.2em;}#sk-container-id-4 div.sk-label-container {text-align: center;}#sk-container-id-4 div.sk-container {/* jupyter's `normalize.less` sets `[hidden] { display: none; }` but bootstrap.min.css set `[hidden] { display: none !important; }` so we also need the `!important` here to be able to override the default hidden behavior on the sphinx rendered scikit-learn.org. See: https://github.com/scikit-learn/scikit-learn/issues/21755 */display: inline-block !important;position: relative;}#sk-container-id-4 div.sk-text-repr-fallback {display: none;}</style><div id=\"sk-container-id-4\" class=\"sk-top-container\"><div class=\"sk-text-repr-fallback\"><pre>RandomForestClassifier(random_state=39)</pre><b>In a Jupyter environment, please rerun this cell to show the HTML representation or trust the notebook. <br />On GitHub, the HTML representation is unable to render, please try loading this page with nbviewer.org.</b></div><div class=\"sk-container\" hidden><div class=\"sk-item\"><div class=\"sk-estimator sk-toggleable\"><input class=\"sk-toggleable__control sk-hidden--visually\" id=\"sk-estimator-id-4\" type=\"checkbox\" checked><label for=\"sk-estimator-id-4\" class=\"sk-toggleable__label sk-toggleable__label-arrow\">RandomForestClassifier</label><div class=\"sk-toggleable__content\"><pre>RandomForestClassifier(random_state=39)</pre></div></div></div></div></div>"
      ],
      "text/plain": [
       "RandomForestClassifier(random_state=39)"
      ]
     },
     "execution_count": 77,
     "metadata": {},
     "output_type": "execute_result"
    }
   ],
   "source": [
    "rf_model.fit(X_train_final, y_train)"
   ]
  },
  {
   "cell_type": "markdown",
   "metadata": {},
   "source": [
    "### VI.4.c. MODEL EVALUATION"
   ]
  },
  {
   "cell_type": "code",
   "execution_count": 78,
   "metadata": {},
   "outputs": [
    {
     "name": "stdout",
     "output_type": "stream",
     "text": [
      "Train Mean Accuracy: 0.807 | Train Std Accuracy: 0.017\n",
      "Test Mean Accuracy: 0.816  | Test Std Accuracy: 0.060\n"
     ]
    }
   ],
   "source": [
    "skfold = StratifiedKFold(n_splits=10)\n",
    "rf_train_cross_val = cross_val_score(rf_model, X_train_final, y_train, cv=skfold, scoring='accuracy')\n",
    "rf_test_cross_val = cross_val_score(rf_model, X_test_final, y_test, cv=skfold, scoring='accuracy')\n",
    "\n",
    "print(f'Train Mean Accuracy:','{:.3f}'.format(np.mean(rf_train_cross_val)), '| Train Std Accuracy:','{:.3f}'.format(np.std(rf_train_cross_val)))\n",
    "print(f'Test Mean Accuracy:','{:.3f}'.format(np.mean(rf_test_cross_val)), ' | Test Std Accuracy:','{:.3f}'.format(np.std(rf_test_cross_val)))"
   ]
  },
  {
   "cell_type": "code",
   "execution_count": 79,
   "metadata": {},
   "outputs": [
    {
     "name": "stdout",
     "output_type": "stream",
     "text": [
      "========== TRAINING ==========\n",
      "              precision    recall  f1-score   support\n",
      "\n",
      "           0       0.98      1.00      0.99      1977\n",
      "           1       0.98      0.93      0.95       539\n",
      "\n",
      "    accuracy                           0.98      2516\n",
      "   macro avg       0.98      0.96      0.97      2516\n",
      "weighted avg       0.98      0.98      0.98      2516\n",
      "\n",
      "\n",
      "\n",
      "========== TEST ==========\n",
      "              precision    recall  f1-score   support\n",
      "\n",
      "           0       0.85      0.92      0.89       349\n",
      "           1       0.60      0.42      0.49        95\n",
      "\n",
      "    accuracy                           0.82       444\n",
      "   macro avg       0.73      0.67      0.69       444\n",
      "weighted avg       0.80      0.82      0.80       444\n",
      "\n"
     ]
    },
    {
     "data": {
      "image/png": "[encoded data removed]",
      "text/plain": [
       "<Figure size 432x288 with 2 Axes>"
      ]
     },
     "metadata": {
      "needs_background": "light"
     },
     "output_type": "display_data"
    }
   ],
   "source": [
    "y_pred_train_rf = rf_model.predict(X_train_final)\n",
    "y_pred_test_rf = rf_model.predict(X_test_final)\n",
    "\n",
    "print(\"=\"*10,\"TRAINING\",\"=\"*10)\n",
    "print(classification_report(y_train, y_pred_train_rf, zero_division=0))\n",
    "print(\"\\n\")\n",
    "print(\"=\"*10,\"TEST\",\"=\"*10)\n",
    "print(classification_report(y_test, y_pred_test_rf, zero_division=0))\n",
    "\n",
    "cm = confusion_matrix(y_test, y_pred_test_rf, labels=rf_model.classes_)\n",
    "disp = ConfusionMatrixDisplay(confusion_matrix=cm, display_labels=rf_model.classes_)\n",
    "\n",
    "disp.plot(cmap='magma')\n",
    "plt.show()"
   ]
  },
  {
   "cell_type": "markdown",
   "metadata": {},
   "source": [
    "Dari model Random Forest, didapatkan nilai recall sebesar 0.92 untuk label 0 (non-default) dan 0.42 untuk label 1 (default). Nilai recall ini bisa diinterpretasikan sebagai:\n",
    "- Dari seluruh nasabah non-default, model berhasil melakukan klasifikasi dengan tepat untuk 92% nasabah dan ada 8% nasabah non-default yang salah klasifikasi menjadi nasabah default.\n",
    "- Dari seluruh nasabah default, model hanya berhasil melakukan klasifikasi dengan tepat untuk 42% nasabah saja. Berarti ada 58% nasabah default yang diklasifikasi model sebagai nasabah non-default.\n",
    "\n",
    "Berdasarkan nilai recall-nya model Random Forest memiliki ketepatan yang lebih baik dibandingkan Decision tree terutama dalam klasifikasi nasabah non-default. Namun secara overall, model Random Forest performanya tidak sebaik SVM ataupun Logistic Regression."
   ]
  },
  {
   "cell_type": "markdown",
   "metadata": {},
   "source": [
    "## VI.5. K-NEAREST NEIGHBOURS (KNN)"
   ]
  },
  {
   "cell_type": "markdown",
   "metadata": {},
   "source": [
    "### VI.5.a. MODEL DEFINITION\n",
    "\n",
    "Untuk pembuatan model awal ini digunakan hyperparameter default."
   ]
  },
  {
   "cell_type": "code",
   "execution_count": 80,
   "metadata": {},
   "outputs": [],
   "source": [
    "knn_model = KNeighborsClassifier()"
   ]
  },
  {
   "cell_type": "markdown",
   "metadata": {},
   "source": [
    "### VI.5.b. MODEL TRAINING"
   ]
  },
  {
   "cell_type": "code",
   "execution_count": 81,
   "metadata": {},
   "outputs": [
    {
     "data": {
      "text/html": [
       "<style>#sk-container-id-5 {color: black;background-color: white;}#sk-container-id-5 pre{padding: 0;}#sk-container-id-5 div.sk-toggleable {background-color: white;}#sk-container-id-5 label.sk-toggleable__label {cursor: pointer;display: block;width: 100%;margin-bottom: 0;padding: 0.3em;box-sizing: border-box;text-align: center;}#sk-container-id-5 label.sk-toggleable__label-arrow:before {content: \"▸\";float: left;margin-right: 0.25em;color: #696969;}#sk-container-id-5 label.sk-toggleable__label-arrow:hover:before {color: black;}#sk-container-id-5 div.sk-estimator:hover label.sk-toggleable__label-arrow:before {color: black;}#sk-container-id-5 div.sk-toggleable__content {max-height: 0;max-width: 0;overflow: hidden;text-align: left;background-color: #f0f8ff;}#sk-container-id-5 div.sk-toggleable__content pre {margin: 0.2em;color: black;border-radius: 0.25em;background-color: #f0f8ff;}#sk-container-id-5 input.sk-toggleable__control:checked~div.sk-toggleable__content {max-height: 200px;max-width: 100%;overflow: auto;}#sk-container-id-5 input.sk-toggleable__control:checked~label.sk-toggleable__label-arrow:before {content: \"▾\";}#sk-container-id-5 div.sk-estimator input.sk-toggleable__control:checked~label.sk-toggleable__label {background-color: #d4ebff;}#sk-container-id-5 div.sk-label input.sk-toggleable__control:checked~label.sk-toggleable__label {background-color: #d4ebff;}#sk-container-id-5 input.sk-hidden--visually {border: 0;clip: rect(1px 1px 1px 1px);clip: rect(1px, 1px, 1px, 1px);height: 1px;margin: -1px;overflow: hidden;padding: 0;position: absolute;width: 1px;}#sk-container-id-5 div.sk-estimator {font-family: monospace;background-color: #f0f8ff;border: 1px dotted black;border-radius: 0.25em;box-sizing: border-box;margin-bottom: 0.5em;}#sk-container-id-5 div.sk-estimator:hover {background-color: #d4ebff;}#sk-container-id-5 div.sk-parallel-item::after {content: \"\";width: 100%;border-bottom: 1px solid gray;flex-grow: 1;}#sk-container-id-5 div.sk-label:hover label.sk-toggleable__label {background-color: #d4ebff;}#sk-container-id-5 div.sk-serial::before {content: \"\";position: absolute;border-left: 1px solid gray;box-sizing: border-box;top: 0;bottom: 0;left: 50%;z-index: 0;}#sk-container-id-5 div.sk-serial {display: flex;flex-direction: column;align-items: center;background-color: white;padding-right: 0.2em;padding-left: 0.2em;position: relative;}#sk-container-id-5 div.sk-item {position: relative;z-index: 1;}#sk-container-id-5 div.sk-parallel {display: flex;align-items: stretch;justify-content: center;background-color: white;position: relative;}#sk-container-id-5 div.sk-item::before, #sk-container-id-5 div.sk-parallel-item::before {content: \"\";position: absolute;border-left: 1px solid gray;box-sizing: border-box;top: 0;bottom: 0;left: 50%;z-index: -1;}#sk-container-id-5 div.sk-parallel-item {display: flex;flex-direction: column;z-index: 1;position: relative;background-color: white;}#sk-container-id-5 div.sk-parallel-item:first-child::after {align-self: flex-end;width: 50%;}#sk-container-id-5 div.sk-parallel-item:last-child::after {align-self: flex-start;width: 50%;}#sk-container-id-5 div.sk-parallel-item:only-child::after {width: 0;}#sk-container-id-5 div.sk-dashed-wrapped {border: 1px dashed gray;margin: 0 0.4em 0.5em 0.4em;box-sizing: border-box;padding-bottom: 0.4em;background-color: white;}#sk-container-id-5 div.sk-label label {font-family: monospace;font-weight: bold;display: inline-block;line-height: 1.2em;}#sk-container-id-5 div.sk-label-container {text-align: center;}#sk-container-id-5 div.sk-container {/* jupyter's `normalize.less` sets `[hidden] { display: none; }` but bootstrap.min.css set `[hidden] { display: none !important; }` so we also need the `!important` here to be able to override the default hidden behavior on the sphinx rendered scikit-learn.org. See: https://github.com/scikit-learn/scikit-learn/issues/21755 */display: inline-block !important;position: relative;}#sk-container-id-5 div.sk-text-repr-fallback {display: none;}</style><div id=\"sk-container-id-5\" class=\"sk-top-container\"><div class=\"sk-text-repr-fallback\"><pre>KNeighborsClassifier()</pre><b>In a Jupyter environment, please rerun this cell to show the HTML representation or trust the notebook. <br />On GitHub, the HTML representation is unable to render, please try loading this page with nbviewer.org.</b></div><div class=\"sk-container\" hidden><div class=\"sk-item\"><div class=\"sk-estimator sk-toggleable\"><input class=\"sk-toggleable__control sk-hidden--visually\" id=\"sk-estimator-id-5\" type=\"checkbox\" checked><label for=\"sk-estimator-id-5\" class=\"sk-toggleable__label sk-toggleable__label-arrow\">KNeighborsClassifier</label><div class=\"sk-toggleable__content\"><pre>KNeighborsClassifier()</pre></div></div></div></div></div>"
      ],
      "text/plain": [
       "KNeighborsClassifier()"
      ]
     },
     "execution_count": 81,
     "metadata": {},
     "output_type": "execute_result"
    }
   ],
   "source": [
    "knn_model.fit(X_train_final, y_train)"
   ]
  },
  {
   "cell_type": "markdown",
   "metadata": {},
   "source": [
    "### VI.5.c. MODEL EVALUATION"
   ]
  },
  {
   "cell_type": "code",
   "execution_count": 82,
   "metadata": {},
   "outputs": [
    {
     "name": "stdout",
     "output_type": "stream",
     "text": [
      "Train Mean Accuracy: 0.811 | Train Std Accuracy: 0.008\n",
      "Test Mean Accuracy: 0.842  | Test Std Accuracy: 0.058\n"
     ]
    }
   ],
   "source": [
    "skfold = StratifiedKFold(n_splits=10)\n",
    "knn_train_cross_val = cross_val_score(knn_model, X_train_final, y_train, cv=skfold, scoring='accuracy')\n",
    "knn_test_cross_val = cross_val_score(knn_model, X_test_final, y_test, cv=skfold, scoring='accuracy')\n",
    "\n",
    "print(f'Train Mean Accuracy:','{:.3f}'.format(np.mean(knn_train_cross_val)), '| Train Std Accuracy:','{:.3f}'.format(np.std(knn_train_cross_val)))\n",
    "print(f'Test Mean Accuracy:','{:.3f}'.format(np.mean(knn_test_cross_val)), ' | Test Std Accuracy:','{:.3f}'.format(np.std(knn_test_cross_val)))"
   ]
  },
  {
   "cell_type": "code",
   "execution_count": 83,
   "metadata": {},
   "outputs": [
    {
     "name": "stdout",
     "output_type": "stream",
     "text": [
      "========== TRAINING ==========\n",
      "              precision    recall  f1-score   support\n",
      "\n",
      "           0       0.87      0.95      0.91      1977\n",
      "           1       0.73      0.47      0.57       539\n",
      "\n",
      "    accuracy                           0.85      2516\n",
      "   macro avg       0.80      0.71      0.74      2516\n",
      "weighted avg       0.84      0.85      0.84      2516\n",
      "\n",
      "\n",
      "\n",
      "========== TEST ==========\n",
      "              precision    recall  f1-score   support\n",
      "\n",
      "           0       0.86      0.94      0.89       349\n",
      "           1       0.65      0.42      0.51        95\n",
      "\n",
      "    accuracy                           0.83       444\n",
      "   macro avg       0.75      0.68      0.70       444\n",
      "weighted avg       0.81      0.83      0.81       444\n",
      "\n"
     ]
    },
    {
     "data": {
      "image/png": "[encoded data removed]",
      "text/plain": [
       "<Figure size 432x288 with 2 Axes>"
      ]
     },
     "metadata": {
      "needs_background": "light"
     },
     "output_type": "display_data"
    }
   ],
   "source": [
    "y_pred_train_knn = knn_model.predict(X_train_final)\n",
    "y_pred_test_knn = knn_model.predict(X_test_final)\n",
    "\n",
    "print(\"=\"*10,\"TRAINING\",\"=\"*10)\n",
    "print(classification_report(y_train, y_pred_train_knn, zero_division=0))\n",
    "print(\"\\n\")\n",
    "print(\"=\"*10,\"TEST\",\"=\"*10)\n",
    "print(classification_report(y_test, y_pred_test_knn, zero_division=0))\n",
    "\n",
    "cm = confusion_matrix(y_test, y_pred_test_knn, labels=knn_model.classes_)\n",
    "disp = ConfusionMatrixDisplay(confusion_matrix=cm, display_labels=knn_model.classes_)\n",
    "\n",
    "disp.plot(cmap='magma')\n",
    "plt.show()"
   ]
  },
  {
   "cell_type": "markdown",
   "metadata": {},
   "source": [
    "Dari model KNN, didapatkan nilai recall sebesar 0.94 untuk label 0 (non-default) dan 0.42 untuk label 1 (default). Nilai recall ini bisa diinterpretasikan sebagai:\n",
    "- Dari seluruh nasabah non-default, model berhasil melakukan klasifikasi dengan tepat untuk 94% nasabah dan ada 6% nasabah non-default yang salah klasifikasi menjadi nasabah default.\n",
    "- Dari seluruh nasabah default, model hanya berhasil melakukan klasifikasi dengan tepat untuk 42% nasabah saja. Berarti ada 58% nasabah default yang diklasifikasi model sebagai nasabah non-default.\n",
    "\n",
    "Secara umum performa model KNN masih dibawah performa model SVM."
   ]
  },
  {
   "cell_type": "markdown",
   "metadata": {},
   "source": [
    "## VI.6. NAIVE BAYES"
   ]
  },
  {
   "cell_type": "markdown",
   "metadata": {},
   "source": [
    "### VI.6.a. MODEL DEFINITION\n",
    "\n",
    "Untuk pembuatan model awal ini digunakan hyperparameter default."
   ]
  },
  {
   "cell_type": "code",
   "execution_count": 84,
   "metadata": {},
   "outputs": [],
   "source": [
    "nb_model = GaussianNB()"
   ]
  },
  {
   "cell_type": "markdown",
   "metadata": {},
   "source": [
    "### VI.6.b. MODEL TRAINING"
   ]
  },
  {
   "cell_type": "code",
   "execution_count": 85,
   "metadata": {},
   "outputs": [
    {
     "data": {
      "text/html": [
       "<style>#sk-container-id-6 {color: black;background-color: white;}#sk-container-id-6 pre{padding: 0;}#sk-container-id-6 div.sk-toggleable {background-color: white;}#sk-container-id-6 label.sk-toggleable__label {cursor: pointer;display: block;width: 100%;margin-bottom: 0;padding: 0.3em;box-sizing: border-box;text-align: center;}#sk-container-id-6 label.sk-toggleable__label-arrow:before {content: \"▸\";float: left;margin-right: 0.25em;color: #696969;}#sk-container-id-6 label.sk-toggleable__label-arrow:hover:before {color: black;}#sk-container-id-6 div.sk-estimator:hover label.sk-toggleable__label-arrow:before {color: black;}#sk-container-id-6 div.sk-toggleable__content {max-height: 0;max-width: 0;overflow: hidden;text-align: left;background-color: #f0f8ff;}#sk-container-id-6 div.sk-toggleable__content pre {margin: 0.2em;color: black;border-radius: 0.25em;background-color: #f0f8ff;}#sk-container-id-6 input.sk-toggleable__control:checked~div.sk-toggleable__content {max-height: 200px;max-width: 100%;overflow: auto;}#sk-container-id-6 input.sk-toggleable__control:checked~label.sk-toggleable__label-arrow:before {content: \"▾\";}#sk-container-id-6 div.sk-estimator input.sk-toggleable__control:checked~label.sk-toggleable__label {background-color: #d4ebff;}#sk-container-id-6 div.sk-label input.sk-toggleable__control:checked~label.sk-toggleable__label {background-color: #d4ebff;}#sk-container-id-6 input.sk-hidden--visually {border: 0;clip: rect(1px 1px 1px 1px);clip: rect(1px, 1px, 1px, 1px);height: 1px;margin: -1px;overflow: hidden;padding: 0;position: absolute;width: 1px;}#sk-container-id-6 div.sk-estimator {font-family: monospace;background-color: #f0f8ff;border: 1px dotted black;border-radius: 0.25em;box-sizing: border-box;margin-bottom: 0.5em;}#sk-container-id-6 div.sk-estimator:hover {background-color: #d4ebff;}#sk-container-id-6 div.sk-parallel-item::after {content: \"\";width: 100%;border-bottom: 1px solid gray;flex-grow: 1;}#sk-container-id-6 div.sk-label:hover label.sk-toggleable__label {background-color: #d4ebff;}#sk-container-id-6 div.sk-serial::before {content: \"\";position: absolute;border-left: 1px solid gray;box-sizing: border-box;top: 0;bottom: 0;left: 50%;z-index: 0;}#sk-container-id-6 div.sk-serial {display: flex;flex-direction: column;align-items: center;background-color: white;padding-right: 0.2em;padding-left: 0.2em;position: relative;}#sk-container-id-6 div.sk-item {position: relative;z-index: 1;}#sk-container-id-6 div.sk-parallel {display: flex;align-items: stretch;justify-content: center;background-color: white;position: relative;}#sk-container-id-6 div.sk-item::before, #sk-container-id-6 div.sk-parallel-item::before {content: \"\";position: absolute;border-left: 1px solid gray;box-sizing: border-box;top: 0;bottom: 0;left: 50%;z-index: -1;}#sk-container-id-6 div.sk-parallel-item {display: flex;flex-direction: column;z-index: 1;position: relative;background-color: white;}#sk-container-id-6 div.sk-parallel-item:first-child::after {align-self: flex-end;width: 50%;}#sk-container-id-6 div.sk-parallel-item:last-child::after {align-self: flex-start;width: 50%;}#sk-container-id-6 div.sk-parallel-item:only-child::after {width: 0;}#sk-container-id-6 div.sk-dashed-wrapped {border: 1px dashed gray;margin: 0 0.4em 0.5em 0.4em;box-sizing: border-box;padding-bottom: 0.4em;background-color: white;}#sk-container-id-6 div.sk-label label {font-family: monospace;font-weight: bold;display: inline-block;line-height: 1.2em;}#sk-container-id-6 div.sk-label-container {text-align: center;}#sk-container-id-6 div.sk-container {/* jupyter's `normalize.less` sets `[hidden] { display: none; }` but bootstrap.min.css set `[hidden] { display: none !important; }` so we also need the `!important` here to be able to override the default hidden behavior on the sphinx rendered scikit-learn.org. See: https://github.com/scikit-learn/scikit-learn/issues/21755 */display: inline-block !important;position: relative;}#sk-container-id-6 div.sk-text-repr-fallback {display: none;}</style><div id=\"sk-container-id-6\" class=\"sk-top-container\"><div class=\"sk-text-repr-fallback\"><pre>GaussianNB()</pre><b>In a Jupyter environment, please rerun this cell to show the HTML representation or trust the notebook. <br />On GitHub, the HTML representation is unable to render, please try loading this page with nbviewer.org.</b></div><div class=\"sk-container\" hidden><div class=\"sk-item\"><div class=\"sk-estimator sk-toggleable\"><input class=\"sk-toggleable__control sk-hidden--visually\" id=\"sk-estimator-id-6\" type=\"checkbox\" checked><label for=\"sk-estimator-id-6\" class=\"sk-toggleable__label sk-toggleable__label-arrow\">GaussianNB</label><div class=\"sk-toggleable__content\"><pre>GaussianNB()</pre></div></div></div></div></div>"
      ],
      "text/plain": [
       "GaussianNB()"
      ]
     },
     "execution_count": 85,
     "metadata": {},
     "output_type": "execute_result"
    }
   ],
   "source": [
    "nb_model.fit(X_train_final, y_train)"
   ]
  },
  {
   "cell_type": "markdown",
   "metadata": {},
   "source": [
    "### VI.6.c. MODEL EVALUATION"
   ]
  },
  {
   "cell_type": "code",
   "execution_count": 86,
   "metadata": {},
   "outputs": [
    {
     "name": "stdout",
     "output_type": "stream",
     "text": [
      "Train Mean Accuracy: 0.808 | Train Std Accuracy: 0.029\n",
      "Test Mean Accuracy: 0.822  | Test Std Accuracy: 0.056\n"
     ]
    }
   ],
   "source": [
    "skfold = StratifiedKFold(n_splits=10)\n",
    "nb_train_cross_val = cross_val_score(nb_model, X_train_final, y_train, cv=skfold, scoring='accuracy')\n",
    "nb_test_cross_val = cross_val_score(nb_model, X_test_final, y_test, cv=skfold, scoring='accuracy')\n",
    "\n",
    "print(f'Train Mean Accuracy:','{:.3f}'.format(np.mean(nb_train_cross_val)), '| Train Std Accuracy:','{:.3f}'.format(np.std(nb_train_cross_val)))\n",
    "print(f'Test Mean Accuracy:','{:.3f}'.format(np.mean(nb_test_cross_val)), ' | Test Std Accuracy:','{:.3f}'.format(np.std(nb_test_cross_val)))"
   ]
  },
  {
   "cell_type": "code",
   "execution_count": 87,
   "metadata": {},
   "outputs": [
    {
     "name": "stdout",
     "output_type": "stream",
     "text": [
      "========== TRAINING ==========\n",
      "              precision    recall  f1-score   support\n",
      "\n",
      "           0       0.86      0.91      0.88      1977\n",
      "           1       0.57      0.44      0.50       539\n",
      "\n",
      "    accuracy                           0.81      2516\n",
      "   macro avg       0.71      0.68      0.69      2516\n",
      "weighted avg       0.80      0.81      0.80      2516\n",
      "\n",
      "\n",
      "\n",
      "========== TEST ==========\n",
      "              precision    recall  f1-score   support\n",
      "\n",
      "           0       0.87      0.91      0.89       349\n",
      "           1       0.59      0.49      0.54        95\n",
      "\n",
      "    accuracy                           0.82       444\n",
      "   macro avg       0.73      0.70      0.71       444\n",
      "weighted avg       0.81      0.82      0.81       444\n",
      "\n"
     ]
    },
    {
     "data": {
      "image/png": "[encoded data removed]",
      "text/plain": [
       "<Figure size 432x288 with 2 Axes>"
      ]
     },
     "metadata": {
      "needs_background": "light"
     },
     "output_type": "display_data"
    }
   ],
   "source": [
    "y_pred_train_nb = nb_model.predict(X_train_final)\n",
    "y_pred_test_nb = nb_model.predict(X_test_final)\n",
    "\n",
    "print(\"=\"*10,\"TRAINING\",\"=\"*10)\n",
    "print(classification_report(y_train, y_pred_train_nb, zero_division=0))\n",
    "print(\"\\n\")\n",
    "print(\"=\"*10,\"TEST\",\"=\"*10)\n",
    "print(classification_report(y_test, y_pred_test_nb, zero_division=0))\n",
    "\n",
    "cm = confusion_matrix(y_test, y_pred_test_nb, labels=nb_model.classes_)\n",
    "disp = ConfusionMatrixDisplay(confusion_matrix=cm, display_labels=nb_model.classes_)\n",
    "\n",
    "disp.plot(cmap='magma')\n",
    "plt.show()"
   ]
  },
  {
   "cell_type": "markdown",
   "metadata": {},
   "source": [
    "Dari model Naive Bayes, didapatkan nilai recall sebesar 0.91 untuk label 0 (non-default) dan 0.49 untuk label 1 (default). Nilai recall ini bisa diinterpretasikan sebagai:\n",
    "- Dari seluruh nasabah non-default, model berhasil melakukan klasifikasi dengan tepat untuk 91% nasabah dan ada 9% nasabah non-default yang salah klasifikasi menjadi nasabah default.\n",
    "- Dari seluruh nasabah default, model hanya berhasil melakukan klasifikasi dengan tepat untuk 49% nasabah saja. Berarti ada 51% nasabah default yang diklasifikasi model sebagai nasabah non-default.\n",
    "\n",
    "Nilai recall untuk nasabah default pada model Naive Bayes sejauh ini memiliki nilai yang paling tinggi jika dibandingkan dengan model lainnya."
   ]
  },
  {
   "cell_type": "markdown",
   "metadata": {},
   "source": [
    "## VI.7. GRADIENT BOOSTING"
   ]
  },
  {
   "cell_type": "markdown",
   "metadata": {},
   "source": [
    "### VI.7.a. MODEL DEFINITION\n",
    "\n",
    "Untuk pembuatan model awal ini digunakan hyperparameter default."
   ]
  },
  {
   "cell_type": "code",
   "execution_count": 88,
   "metadata": {},
   "outputs": [],
   "source": [
    "gb_model = GradientBoostingClassifier(random_state=39)"
   ]
  },
  {
   "cell_type": "markdown",
   "metadata": {},
   "source": [
    "### VI.7.b. MODEL TRAINING"
   ]
  },
  {
   "cell_type": "code",
   "execution_count": 89,
   "metadata": {},
   "outputs": [
    {
     "data": {
      "text/html": [
       "<style>#sk-container-id-7 {color: black;background-color: white;}#sk-container-id-7 pre{padding: 0;}#sk-container-id-7 div.sk-toggleable {background-color: white;}#sk-container-id-7 label.sk-toggleable__label {cursor: pointer;display: block;width: 100%;margin-bottom: 0;padding: 0.3em;box-sizing: border-box;text-align: center;}#sk-container-id-7 label.sk-toggleable__label-arrow:before {content: \"▸\";float: left;margin-right: 0.25em;color: #696969;}#sk-container-id-7 label.sk-toggleable__label-arrow:hover:before {color: black;}#sk-container-id-7 div.sk-estimator:hover label.sk-toggleable__label-arrow:before {color: black;}#sk-container-id-7 div.sk-toggleable__content {max-height: 0;max-width: 0;overflow: hidden;text-align: left;background-color: #f0f8ff;}#sk-container-id-7 div.sk-toggleable__content pre {margin: 0.2em;color: black;border-radius: 0.25em;background-color: #f0f8ff;}#sk-container-id-7 input.sk-toggleable__control:checked~div.sk-toggleable__content {max-height: 200px;max-width: 100%;overflow: auto;}#sk-container-id-7 input.sk-toggleable__control:checked~label.sk-toggleable__label-arrow:before {content: \"▾\";}#sk-container-id-7 div.sk-estimator input.sk-toggleable__control:checked~label.sk-toggleable__label {background-color: #d4ebff;}#sk-container-id-7 div.sk-label input.sk-toggleable__control:checked~label.sk-toggleable__label {background-color: #d4ebff;}#sk-container-id-7 input.sk-hidden--visually {border: 0;clip: rect(1px 1px 1px 1px);clip: rect(1px, 1px, 1px, 1px);height: 1px;margin: -1px;overflow: hidden;padding: 0;position: absolute;width: 1px;}#sk-container-id-7 div.sk-estimator {font-family: monospace;background-color: #f0f8ff;border: 1px dotted black;border-radius: 0.25em;box-sizing: border-box;margin-bottom: 0.5em;}#sk-container-id-7 div.sk-estimator:hover {background-color: #d4ebff;}#sk-container-id-7 div.sk-parallel-item::after {content: \"\";width: 100%;border-bottom: 1px solid gray;flex-grow: 1;}#sk-container-id-7 div.sk-label:hover label.sk-toggleable__label {background-color: #d4ebff;}#sk-container-id-7 div.sk-serial::before {content: \"\";position: absolute;border-left: 1px solid gray;box-sizing: border-box;top: 0;bottom: 0;left: 50%;z-index: 0;}#sk-container-id-7 div.sk-serial {display: flex;flex-direction: column;align-items: center;background-color: white;padding-right: 0.2em;padding-left: 0.2em;position: relative;}#sk-container-id-7 div.sk-item {position: relative;z-index: 1;}#sk-container-id-7 div.sk-parallel {display: flex;align-items: stretch;justify-content: center;background-color: white;position: relative;}#sk-container-id-7 div.sk-item::before, #sk-container-id-7 div.sk-parallel-item::before {content: \"\";position: absolute;border-left: 1px solid gray;box-sizing: border-box;top: 0;bottom: 0;left: 50%;z-index: -1;}#sk-container-id-7 div.sk-parallel-item {display: flex;flex-direction: column;z-index: 1;position: relative;background-color: white;}#sk-container-id-7 div.sk-parallel-item:first-child::after {align-self: flex-end;width: 50%;}#sk-container-id-7 div.sk-parallel-item:last-child::after {align-self: flex-start;width: 50%;}#sk-container-id-7 div.sk-parallel-item:only-child::after {width: 0;}#sk-container-id-7 div.sk-dashed-wrapped {border: 1px dashed gray;margin: 0 0.4em 0.5em 0.4em;box-sizing: border-box;padding-bottom: 0.4em;background-color: white;}#sk-container-id-7 div.sk-label label {font-family: monospace;font-weight: bold;display: inline-block;line-height: 1.2em;}#sk-container-id-7 div.sk-label-container {text-align: center;}#sk-container-id-7 div.sk-container {/* jupyter's `normalize.less` sets `[hidden] { display: none; }` but bootstrap.min.css set `[hidden] { display: none !important; }` so we also need the `!important` here to be able to override the default hidden behavior on the sphinx rendered scikit-learn.org. See: https://github.com/scikit-learn/scikit-learn/issues/21755 */display: inline-block !important;position: relative;}#sk-container-id-7 div.sk-text-repr-fallback {display: none;}</style><div id=\"sk-container-id-7\" class=\"sk-top-container\"><div class=\"sk-text-repr-fallback\"><pre>GradientBoostingClassifier(random_state=39)</pre><b>In a Jupyter environment, please rerun this cell to show the HTML representation or trust the notebook. <br />On GitHub, the HTML representation is unable to render, please try loading this page with nbviewer.org.</b></div><div class=\"sk-container\" hidden><div class=\"sk-item\"><div class=\"sk-estimator sk-toggleable\"><input class=\"sk-toggleable__control sk-hidden--visually\" id=\"sk-estimator-id-7\" type=\"checkbox\" checked><label for=\"sk-estimator-id-7\" class=\"sk-toggleable__label sk-toggleable__label-arrow\">GradientBoostingClassifier</label><div class=\"sk-toggleable__content\"><pre>GradientBoostingClassifier(random_state=39)</pre></div></div></div></div></div>"
      ],
      "text/plain": [
       "GradientBoostingClassifier(random_state=39)"
      ]
     },
     "execution_count": 89,
     "metadata": {},
     "output_type": "execute_result"
    }
   ],
   "source": [
    "gb_model.fit(X_train_final, y_train)"
   ]
  },
  {
   "cell_type": "markdown",
   "metadata": {},
   "source": [
    "### VI.7.c. MODEL EVALUATION"
   ]
  },
  {
   "cell_type": "code",
   "execution_count": 90,
   "metadata": {},
   "outputs": [
    {
     "name": "stdout",
     "output_type": "stream",
     "text": [
      "Train Mean Accuracy: 0.833 | Train Std Accuracy: 0.016\n",
      "Test Mean Accuracy: 0.829  | Test Std Accuracy: 0.043\n"
     ]
    }
   ],
   "source": [
    "skfold = StratifiedKFold(n_splits=10)\n",
    "gb_train_cross_val = cross_val_score(gb_model, X_train_final, y_train, cv=skfold, scoring='accuracy')\n",
    "gb_test_cross_val = cross_val_score(gb_model, X_test_final, y_test, cv=skfold, scoring='accuracy')\n",
    "\n",
    "print(f'Train Mean Accuracy:','{:.3f}'.format(np.mean(gb_train_cross_val)), '| Train Std Accuracy:','{:.3f}'.format(np.std(gb_train_cross_val)))\n",
    "print(f'Test Mean Accuracy:','{:.3f}'.format(np.mean(gb_test_cross_val)), ' | Test Std Accuracy:','{:.3f}'.format(np.std(gb_test_cross_val)))"
   ]
  },
  {
   "cell_type": "code",
   "execution_count": 91,
   "metadata": {},
   "outputs": [
    {
     "name": "stdout",
     "output_type": "stream",
     "text": [
      "========== TRAINING ==========\n",
      "              precision    recall  f1-score   support\n",
      "\n",
      "           0       0.87      0.97      0.91      1977\n",
      "           1       0.79      0.45      0.58       539\n",
      "\n",
      "    accuracy                           0.86      2516\n",
      "   macro avg       0.83      0.71      0.75      2516\n",
      "weighted avg       0.85      0.86      0.84      2516\n",
      "\n",
      "\n",
      "\n",
      "========== TEST ==========\n",
      "              precision    recall  f1-score   support\n",
      "\n",
      "           0       0.86      0.95      0.91       349\n",
      "           1       0.73      0.45      0.56        95\n",
      "\n",
      "    accuracy                           0.85       444\n",
      "   macro avg       0.80      0.70      0.73       444\n",
      "weighted avg       0.84      0.85      0.83       444\n",
      "\n"
     ]
    },
    {
     "data": {
      "image/png": "[encoded data removed]",
      "text/plain": [
       "<Figure size 432x288 with 2 Axes>"
      ]
     },
     "metadata": {
      "needs_background": "light"
     },
     "output_type": "display_data"
    }
   ],
   "source": [
    "y_pred_train_gb = gb_model.predict(X_train_final)\n",
    "y_pred_test_gb = gb_model.predict(X_test_final)\n",
    "\n",
    "print(\"=\"*10,\"TRAINING\",\"=\"*10)\n",
    "print(classification_report(y_train, y_pred_train_gb, zero_division=0))\n",
    "print(\"\\n\")\n",
    "print(\"=\"*10,\"TEST\",\"=\"*10)\n",
    "print(classification_report(y_test, y_pred_test_gb, zero_division=0))\n",
    "\n",
    "cm = confusion_matrix(y_test, y_pred_test_gb, labels=gb_model.classes_)\n",
    "disp = ConfusionMatrixDisplay(confusion_matrix=cm, display_labels=gb_model.classes_)\n",
    "\n",
    "disp.plot(cmap='magma')\n",
    "plt.show()"
   ]
  },
  {
   "cell_type": "markdown",
   "metadata": {},
   "source": [
    "Dari model Gradient Boosting, didapatkan nilai recall sebesar 0.95 untuk label 0 (non-default) dan 0.45 untuk label 1 (default). Nilai recall ini bisa diinterpretasikan sebagai:\n",
    "- Dari seluruh nasabah non-default, model berhasil melakukan klasifikasi dengan tepat untuk 95% nasabah dan ada 5% nasabah non-default yang salah klasifikasi menjadi nasabah default.\n",
    "- Dari seluruh nasabah default, model hanya berhasil melakukan klasifikasi dengan tepat untuk 45% nasabah saja. Berarti ada 55% nasabah default yang diklasifikasi model sebagai nasabah non-default.\n",
    "\n",
    "Secara umum model Gradient Boosting memiliki nilai recall yang baik untuk kedua labelnya. Walaupun jika dilihat secara masing-masing nilai recallnya bukan yang paling tinggi jika dibandingkan dengan model lain, namun jika dilihat secara kesatuan, model Gradient Boosting inilah yang memiliki nilai recall yang paling baik."
   ]
  },
  {
   "cell_type": "markdown",
   "metadata": {},
   "source": [
    "## VI.8. MODEL OVERALL ANALYSIS\n",
    "\n",
    "Disini penulis membuat sebanyak tujuh buah model dengan tujuan untuk mencari model mana yang performanya paling baik dalam melakukan prediksi nasabah yang akan menunggak/default. Metric yang akan menjadi patokan untuk pemilihan model terbaiknya adalah accuracy dan recall. Nilai accuracy disini digunakan bukan sebagai ukuran ketepatan sebuah model namun digunakan untuk melihat apakah model yang dibuat sudah fit atau ada kecenderungan untuk overfit atau underfit. Nilai recall menjadi metric yang penting dalam analisis kali ini, karena metric ini menunjukkan tingkat kesalahan klasifikasi atau yang sering disebut sebagai False Positive dan False Negative pada model.\n",
    "\n",
    "Pada kasus kali ini sebagai pihak bank tentu saja kita tidak ingin sampai terjadi salah klasifikasi nasabah. Ketika ada nasabah yang default namun kita klasifikasi sebagai non-default (False Negatif), bank akan mengalami kerugian karena uang yang sudah dipinjamkan ke nasabah tidak akan kembali. Begitu juga sebaliknya, ketika ada nasabah non-default namun kita prediksi sebagai nasabah default (False Positive) kemudian kartu kreditnya kita bekukan/blokir, nasabah akan kecewa dan berhenti menggunakan produk kita yang artinya bank akan kehilangan customer.\n",
    "\n",
    "Kembali ke model yang sudah dibuat, berikut adalah nilai accuracy dan recall dari tujuh model:\n",
    "\n",
    "| Model                  | Train Accuracy | Test Accuaracy | Recall 0 Test | Recall 1 Test |\n",
    "| :---                   |    :---:       |      :---:     |     :---:     |    :---:      |\n",
    "| Logistic Regression    | 0.83 ± 0.02    | 0.86 ± 0.06    | 0.97          | 0.40          |\n",
    "| Support Vector Machine | 0.84 ± 0.02    | 0.82 ± 0.04    | 0.96          | 0.46          |\n",
    "| Decision Tree          | 0.75 ± 0.02    | 0.77 ± 0.10    | 0.82          | 0.45          |\n",
    "| Random Forest          | 0.81 ± 0.02    | 0.82 ± 0.06    | 0.92          | 0.42          |\n",
    "| K-Nearest Neighbours   | 0.81 ± 0.01    | 0.84 ± 0.06    | 0.94          | 0.42          |\n",
    "| Naive Bayes            | 0.81 ± 0.03    | 0.82 ± 0.06    | 0.91          | 0.49          |\n",
    "| Gradient Boosting      | 0.83 ± 0.02    | 0.83 ± 0.04    | 0.95          | 0.45          |\n",
    "\n",
    "Secara umum semua model yang dibuat memiliki nilai accuracy data train dan test yang mirip atau bisa dikatakan model yang dibuat sudah fit, tidak cenderung overfit atau underfit. Lalu akibat pengaruh kolom target yang imbalance dimana porsi label 0 (non-default) jauh lebih besar dibandingkan label 1 (default), maka semua model memiliki nilai recall label non-default yang lebih tinggi dibandingkan dengan nilai recall label default.\n",
    "\n",
    "Penulis memilih model **Gradient Boosting** sebagai model terbaik dibandingkan dengan model lainnya. Pemilihan model ini berdasarkan dari nilai recall untuk label non-default dan default yang cukup tinggi dibantu dengan nilai accuracy yang paling mirip antara data train dan test sebagai indikasi model ini fit, tidak cenderung overfit atau underfit.\n",
    "\n",
    "Selanjutnya model yang sudah dipilih ini akan dilakukan improvement dengan mencari hyperparameter yang tepat menggunakan bantuan fungsi GridSearchCV. Harapannya setelah dilakukan improvement performa model akan semakin baik dibandingkan dengan model dengan parameter default."
   ]
  },
  {
   "cell_type": "markdown",
   "metadata": {},
   "source": [
    "# **VII. MODEL IMPROVEMENT**"
   ]
  },
  {
   "cell_type": "markdown",
   "metadata": {},
   "source": [
    "## HYPERPARAMETER TUNING WITH GRIDSEARCH\n",
    "\n",
    "Hyperparameter tuning bertujuan untuk mencari hyperparameter apa saja yang paling optimal untuk model yang digunakan. Untuk membantu mencari hyperparameter yang paling optimal digunakan bantuan dari fungsi GridSearchCV. GridSearchCV merupakan salah satu metode hyperparameter yang cukup sering digunakan, pada dasarnya cara kerja GridSearchCV ini adalah menjalankan semua kemungkinan kombinasi hyperparameter ke dalam model yang dibuat. Oleh karena itu salah satu kelemahan dari GridSearchCV ini adalah running timenya cenderung lebih lama jika dibandingkan dengan metode hyperparameter yang lain."
   ]
  },
  {
   "cell_type": "code",
   "execution_count": 1,
   "metadata": {},
   "outputs": [
    {
     "data": {
      "text/plain": [
       "{'n_estimators': [80, 90, 100, 110],\n",
       " 'learning_rate': [0.15, 0.2, 0.25],\n",
       " 'max_depth': [2, 3, 4],\n",
       " 'max_features': ['sqrt', 'log2'],\n",
       " 'min_samples_split': [2, 3, 4],\n",
       " 'min_samples_leaf': [5, 6, 7],\n",
       " 'random_state': [39]}"
      ]
     },
     "execution_count": 1,
     "metadata": {},
     "output_type": "execute_result"
    }
   ],
   "source": [
    "n_estimators = [80, 90, 100, 110]\n",
    "learning_rate = [0.15, 0.2, 0.25]\n",
    "max_depth = [1, 2, 3]\n",
    "max_features = ['auto', 'sqrt', 'log2']\n",
    "min_samples_split = [2, 3, 4]\n",
    "min_samples_leaf = [7, 8, 9]\n",
    "gb_param_grid = {'n_estimators': n_estimators,\n",
    "               'learning_rate': learning_rate,\n",
    "               'max_depth': max_depth,\n",
    "               'max_features': max_features,\n",
    "               'min_samples_split': min_samples_split,\n",
    "               'min_samples_leaf': min_samples_leaf,\n",
    "               'random_state': [39]}\n",
    "gb_param_grid"
   ]
  },
  {
   "cell_type": "code",
   "execution_count": 2,
   "metadata": {},
   "outputs": [
    {
     "ename": "NameError",
     "evalue": "name 'GridSearchCV' is not defined",
     "output_type": "error",
     "traceback": [
      "\u001b[1;31m---------------------------------------------------------------------------\u001b[0m",
      "\u001b[1;31mNameError\u001b[0m                                 Traceback (most recent call last)",
      "\u001b[1;32md:\\Hacktiv8-Asta\\Assignment\\Phase_1\\p1---ftds-001-hck--ml1-dimitriasta\\h8dsft_P1M1_Asta_Dimitri.ipynb Cell 174\u001b[0m in \u001b[0;36m<cell line: 1>\u001b[1;34m()\u001b[0m\n\u001b[1;32m----> <a href='vscode-notebook-cell:/d%3A/Hacktiv8-Asta/Assignment/Phase_1/p1---ftds-001-hck--ml1-dimitriasta/h8dsft_P1M1_Asta_Dimitri.ipynb#Y335sZmlsZQ%3D%3D?line=0'>1</a>\u001b[0m gb_gridcv \u001b[39m=\u001b[39m GridSearchCV(estimator\u001b[39m=\u001b[39mGradientBoostingClassifier(), \n\u001b[0;32m      <a href='vscode-notebook-cell:/d%3A/Hacktiv8-Asta/Assignment/Phase_1/p1---ftds-001-hck--ml1-dimitriasta/h8dsft_P1M1_Asta_Dimitri.ipynb#Y335sZmlsZQ%3D%3D?line=1'>2</a>\u001b[0m                          param_grid\u001b[39m=\u001b[39mgb_param_grid,\n\u001b[0;32m      <a href='vscode-notebook-cell:/d%3A/Hacktiv8-Asta/Assignment/Phase_1/p1---ftds-001-hck--ml1-dimitriasta/h8dsft_P1M1_Asta_Dimitri.ipynb#Y335sZmlsZQ%3D%3D?line=2'>3</a>\u001b[0m                          cv\u001b[39m=\u001b[39m\u001b[39m5\u001b[39m,  \n\u001b[0;32m      <a href='vscode-notebook-cell:/d%3A/Hacktiv8-Asta/Assignment/Phase_1/p1---ftds-001-hck--ml1-dimitriasta/h8dsft_P1M1_Asta_Dimitri.ipynb#Y335sZmlsZQ%3D%3D?line=3'>4</a>\u001b[0m                          n_jobs\u001b[39m=\u001b[39m\u001b[39m-\u001b[39m\u001b[39m1\u001b[39m)\n\u001b[0;32m      <a href='vscode-notebook-cell:/d%3A/Hacktiv8-Asta/Assignment/Phase_1/p1---ftds-001-hck--ml1-dimitriasta/h8dsft_P1M1_Asta_Dimitri.ipynb#Y335sZmlsZQ%3D%3D?line=4'>5</a>\u001b[0m gb_gridcv\u001b[39m.\u001b[39mfit(X_train_final, y_train)\n",
      "\u001b[1;31mNameError\u001b[0m: name 'GridSearchCV' is not defined"
     ]
    }
   ],
   "source": [
    "gb_gridcv = GridSearchCV(estimator=GradientBoostingClassifier(), \n",
    "                         param_grid=gb_param_grid,\n",
    "                         cv=5,  \n",
    "                         n_jobs=-1)\n",
    "gb_gridcv.fit(X_train_final, y_train)"
   ]
  },
  {
   "cell_type": "code",
   "execution_count": null,
   "metadata": {},
   "outputs": [
    {
     "data": {
      "text/plain": [
       "{'learning_rate': 0.2,\n",
       " 'max_depth': 3,\n",
       " 'max_features': 'sqrt',\n",
       " 'min_samples_leaf': 7,\n",
       " 'min_samples_split': 2,\n",
       " 'n_estimators': 90,\n",
       " 'random_state': 39}"
      ]
     },
     "execution_count": 94,
     "metadata": {},
     "output_type": "execute_result"
    }
   ],
   "source": [
    "gb_gridcv.best_params_"
   ]
  },
  {
   "cell_type": "code",
   "execution_count": null,
   "metadata": {},
   "outputs": [],
   "source": [
    "gb_gridcv_best = gb_gridcv.best_estimator_"
   ]
  },
  {
   "cell_type": "code",
   "execution_count": null,
   "metadata": {},
   "outputs": [
    {
     "name": "stdout",
     "output_type": "stream",
     "text": [
      "Accuracy - Before: 0.8468468468468469\n",
      "Accuracy - After: 0.8513513513513513\n",
      "========== TEST-BEFORE ==========\n",
      "              precision    recall  f1-score   support\n",
      "\n",
      "           0       0.86      0.95      0.91       349\n",
      "           1       0.73      0.45      0.56        95\n",
      "\n",
      "    accuracy                           0.85       444\n",
      "   macro avg       0.80      0.70      0.73       444\n",
      "weighted avg       0.84      0.85      0.83       444\n",
      "\n",
      "========== TEST-AFTER ==========\n",
      "              precision    recall  f1-score   support\n",
      "\n",
      "           0       0.87      0.95      0.91       349\n",
      "           1       0.74      0.47      0.58        95\n",
      "\n",
      "    accuracy                           0.85       444\n",
      "   macro avg       0.80      0.71      0.74       444\n",
      "weighted avg       0.84      0.85      0.84       444\n",
      "\n"
     ]
    },
    {
     "data": {
      "image/png": "[encoded data removed]",
      "text/plain": [
       "<Figure size 432x288 with 2 Axes>"
      ]
     },
     "metadata": {
      "needs_background": "light"
     },
     "output_type": "display_data"
    }
   ],
   "source": [
    "y_pred_test_best = gb_gridcv_best.predict(X_test_final)\n",
    "print('Accuracy - Before:', accuracy_score(y_test, y_pred_test_gb))\n",
    "print('Accuracy - After:', accuracy_score(y_test, y_pred_test_best))\n",
    "\n",
    "print(\"=\"*10,\"TEST-BEFORE\",\"=\"*10)\n",
    "print(classification_report(y_test, y_pred_test_gb, zero_division=0))\n",
    "print(\"=\"*10,\"TEST-AFTER\",\"=\"*10)\n",
    "print(classification_report(y_test, y_pred_test_best, zero_division=0))\n",
    "\n",
    "cm = confusion_matrix(y_test, y_pred_test_best, labels=gb_gridcv_best.classes_)\n",
    "disp = ConfusionMatrixDisplay(confusion_matrix=cm, display_labels=gb_gridcv_best.classes_)\n",
    "\n",
    "disp.plot(cmap='magma')\n",
    "plt.show()"
   ]
  },
  {
   "cell_type": "markdown",
   "metadata": {},
   "source": [
    "Setelah dilakukan improvement dengan melakukan hyperparameter tuning menggunakan GridSearchCV terlihat adanya kenaikan performa walaupun tidak signifikan terutama untuk label 1 atau nasabah default. Bisa dilihat adanya kenaikan nilai precision, recall, dan f1 score. Untuk peningkatannya akan ditampilkan pada tabel di bawah.\n",
    "\n",
    "| Metric    | Before      | After       |\n",
    "|  :---     |  :----:     |    :----:   |\n",
    "| Accuracy  |    0.846    |    0.851    |\n",
    "| Precision | 0.86 & 0.73 | 0.87 & 0.74 |\n",
    "| Recall    | 0.95 & 0.45 | 0.95 & 0.47 |\n",
    "| F1 Score  | 0.91 & 0.56 | 0.91 & 0.58 |"
   ]
  },
  {
   "cell_type": "markdown",
   "metadata": {},
   "source": [
    "# **VIII. MODEL INFERENCE**\n",
    "\n",
    "Pada section ini akan dicoba untuk model memprediksi data inference atau data baru yang belum pernah dilihat sebelumnya."
   ]
  },
  {
   "cell_type": "code",
   "execution_count": null,
   "metadata": {},
   "outputs": [
    {
     "data": {
      "text/html": [
       "<div>\n",
       "<style scoped>\n",
       "    .dataframe tbody tr th:only-of-type {\n",
       "        vertical-align: middle;\n",
       "    }\n",
       "\n",
       "    .dataframe tbody tr th {\n",
       "        vertical-align: top;\n",
       "    }\n",
       "\n",
       "    .dataframe thead th {\n",
       "        text-align: right;\n",
       "    }\n",
       "</style>\n",
       "<table border=\"1\" class=\"dataframe\">\n",
       "  <thead>\n",
       "    <tr style=\"text-align: right;\">\n",
       "      <th></th>\n",
       "      <th>limit</th>\n",
       "      <th>sex</th>\n",
       "      <th>education</th>\n",
       "      <th>marriage</th>\n",
       "      <th>age</th>\n",
       "      <th>pay_1</th>\n",
       "      <th>pay_2</th>\n",
       "      <th>pay_3</th>\n",
       "      <th>pay_4</th>\n",
       "      <th>pay_5</th>\n",
       "      <th>pay_6</th>\n",
       "      <th>bill_amt_1</th>\n",
       "      <th>bill_amt_2</th>\n",
       "      <th>bill_amt_3</th>\n",
       "      <th>bill_amt_4</th>\n",
       "      <th>bill_amt_5</th>\n",
       "      <th>bill_amt_6</th>\n",
       "      <th>pay_amt_1</th>\n",
       "      <th>pay_amt_2</th>\n",
       "      <th>pay_amt_3</th>\n",
       "      <th>pay_amt_4</th>\n",
       "      <th>pay_amt_5</th>\n",
       "      <th>pay_amt_6</th>\n",
       "      <th>default</th>\n",
       "    </tr>\n",
       "  </thead>\n",
       "  <tbody>\n",
       "    <tr>\n",
       "      <th>0</th>\n",
       "      <td>300000</td>\n",
       "      <td>2</td>\n",
       "      <td>2</td>\n",
       "      <td>1</td>\n",
       "      <td>46</td>\n",
       "      <td>0</td>\n",
       "      <td>0</td>\n",
       "      <td>0</td>\n",
       "      <td>0</td>\n",
       "      <td>0</td>\n",
       "      <td>0</td>\n",
       "      <td>5287</td>\n",
       "      <td>5750</td>\n",
       "      <td>2977</td>\n",
       "      <td>4796</td>\n",
       "      <td>2367</td>\n",
       "      <td>7367</td>\n",
       "      <td>3000</td>\n",
       "      <td>3000</td>\n",
       "      <td>2500</td>\n",
       "      <td>2367</td>\n",
       "      <td>5000</td>\n",
       "      <td>3000</td>\n",
       "      <td>0</td>\n",
       "    </tr>\n",
       "    <tr>\n",
       "      <th>1</th>\n",
       "      <td>50000</td>\n",
       "      <td>1</td>\n",
       "      <td>2</td>\n",
       "      <td>1</td>\n",
       "      <td>50</td>\n",
       "      <td>1</td>\n",
       "      <td>1</td>\n",
       "      <td>0</td>\n",
       "      <td>0</td>\n",
       "      <td>0</td>\n",
       "      <td>0</td>\n",
       "      <td>36750</td>\n",
       "      <td>0</td>\n",
       "      <td>0</td>\n",
       "      <td>0</td>\n",
       "      <td>0</td>\n",
       "      <td>0</td>\n",
       "      <td>5000</td>\n",
       "      <td>0</td>\n",
       "      <td>0</td>\n",
       "      <td>0</td>\n",
       "      <td>0</td>\n",
       "      <td>0</td>\n",
       "      <td>0</td>\n",
       "    </tr>\n",
       "    <tr>\n",
       "      <th>2</th>\n",
       "      <td>30000</td>\n",
       "      <td>2</td>\n",
       "      <td>2</td>\n",
       "      <td>2</td>\n",
       "      <td>24</td>\n",
       "      <td>0</td>\n",
       "      <td>0</td>\n",
       "      <td>0</td>\n",
       "      <td>0</td>\n",
       "      <td>0</td>\n",
       "      <td>0</td>\n",
       "      <td>23729</td>\n",
       "      <td>27889</td>\n",
       "      <td>29500</td>\n",
       "      <td>29639</td>\n",
       "      <td>27546</td>\n",
       "      <td>6718</td>\n",
       "      <td>10000</td>\n",
       "      <td>2061</td>\n",
       "      <td>1200</td>\n",
       "      <td>551</td>\n",
       "      <td>0</td>\n",
       "      <td>0</td>\n",
       "      <td>1</td>\n",
       "    </tr>\n",
       "    <tr>\n",
       "      <th>3</th>\n",
       "      <td>60000</td>\n",
       "      <td>2</td>\n",
       "      <td>2</td>\n",
       "      <td>1</td>\n",
       "      <td>37</td>\n",
       "      <td>0</td>\n",
       "      <td>0</td>\n",
       "      <td>0</td>\n",
       "      <td>0</td>\n",
       "      <td>0</td>\n",
       "      <td>0</td>\n",
       "      <td>38670</td>\n",
       "      <td>37606</td>\n",
       "      <td>35189</td>\n",
       "      <td>31373</td>\n",
       "      <td>28455</td>\n",
       "      <td>26598</td>\n",
       "      <td>1606</td>\n",
       "      <td>1674</td>\n",
       "      <td>1420</td>\n",
       "      <td>937</td>\n",
       "      <td>1006</td>\n",
       "      <td>1039</td>\n",
       "      <td>0</td>\n",
       "    </tr>\n",
       "    <tr>\n",
       "      <th>4</th>\n",
       "      <td>20000</td>\n",
       "      <td>1</td>\n",
       "      <td>4</td>\n",
       "      <td>2</td>\n",
       "      <td>21</td>\n",
       "      <td>0</td>\n",
       "      <td>0</td>\n",
       "      <td>0</td>\n",
       "      <td>0</td>\n",
       "      <td>0</td>\n",
       "      <td>0</td>\n",
       "      <td>13203</td>\n",
       "      <td>4443</td>\n",
       "      <td>3259</td>\n",
       "      <td>2969</td>\n",
       "      <td>0</td>\n",
       "      <td>0</td>\n",
       "      <td>1036</td>\n",
       "      <td>1132</td>\n",
       "      <td>2000</td>\n",
       "      <td>0</td>\n",
       "      <td>0</td>\n",
       "      <td>0</td>\n",
       "      <td>0</td>\n",
       "    </tr>\n",
       "  </tbody>\n",
       "</table>\n",
       "</div>"
      ],
      "text/plain": [
       "    limit sex education marriage  age pay_1 pay_2 pay_3 pay_4 pay_5 pay_6  \\\n",
       "0  300000   2         2        1   46     0     0     0     0     0     0   \n",
       "1   50000   1         2        1   50     1     1     0     0     0     0   \n",
       "2   30000   2         2        2   24     0     0     0     0     0     0   \n",
       "3   60000   2         2        1   37     0     0     0     0     0     0   \n",
       "4   20000   1         4        2   21     0     0     0     0     0     0   \n",
       "\n",
       "   bill_amt_1  bill_amt_2  bill_amt_3  bill_amt_4  bill_amt_5  bill_amt_6  \\\n",
       "0        5287        5750        2977        4796        2367        7367   \n",
       "1       36750           0           0           0           0           0   \n",
       "2       23729       27889       29500       29639       27546        6718   \n",
       "3       38670       37606       35189       31373       28455       26598   \n",
       "4       13203        4443        3259        2969           0           0   \n",
       "\n",
       "   pay_amt_1  pay_amt_2  pay_amt_3  pay_amt_4  pay_amt_5  pay_amt_6  default  \n",
       "0       3000       3000       2500       2367       5000       3000        0  \n",
       "1       5000          0          0          0          0          0        0  \n",
       "2      10000       2061       1200        551          0          0        1  \n",
       "3       1606       1674       1420        937       1006       1039        0  \n",
       "4       1036       1132       2000          0          0          0        0  "
      ]
     },
     "execution_count": 97,
     "metadata": {},
     "output_type": "execute_result"
    }
   ],
   "source": [
    "data_inf"
   ]
  },
  {
   "cell_type": "code",
   "execution_count": null,
   "metadata": {},
   "outputs": [],
   "source": [
    "data_inf_num = data_inf[num_columns]\n",
    "data_inf_cat = data_inf[cat_columns]"
   ]
  },
  {
   "cell_type": "code",
   "execution_count": null,
   "metadata": {},
   "outputs": [
    {
     "data": {
      "text/plain": [
       "array([[0.59183673, 0.63291139],\n",
       "       [0.08163265, 0.73417722],\n",
       "       [0.04081633, 0.07594937],\n",
       "       [0.10204082, 0.40506329],\n",
       "       [0.02040816, 0.        ]])"
      ]
     },
     "execution_count": 99,
     "metadata": {},
     "output_type": "execute_result"
    }
   ],
   "source": [
    "data_inf_num_scaled = scaler.transform(data_inf_num)\n",
    "data_inf_num_scaled"
   ]
  },
  {
   "cell_type": "code",
   "execution_count": null,
   "metadata": {},
   "outputs": [
    {
     "data": {
      "text/plain": [
       "array([[0.5918367346938774, 0.6329113924050633, '2', '2', '1', '0', '0',\n",
       "        '0', '0', '0', '0'],\n",
       "       [0.08163265306122448, 0.7341772151898736, '1', '2', '1', '1', '1',\n",
       "        '0', '0', '0', '0'],\n",
       "       [0.04081632653061225, 0.07594936708860767, '2', '2', '2', '0',\n",
       "        '0', '0', '0', '0', '0'],\n",
       "       [0.10204081632653061, 0.40506329113924056, '2', '2', '1', '0',\n",
       "        '0', '0', '0', '0', '0'],\n",
       "       [0.02040816326530612, 0.0, '1', '4', '2', '0', '0', '0', '0', '0',\n",
       "        '0']], dtype=object)"
      ]
     },
     "execution_count": 100,
     "metadata": {},
     "output_type": "execute_result"
    }
   ],
   "source": [
    "data_inf_final = np.concatenate([data_inf_num_scaled, data_inf_cat], axis=1)\n",
    "data_inf_final"
   ]
  },
  {
   "cell_type": "code",
   "execution_count": null,
   "metadata": {},
   "outputs": [
    {
     "data": {
      "text/html": [
       "<div>\n",
       "<style scoped>\n",
       "    .dataframe tbody tr th:only-of-type {\n",
       "        vertical-align: middle;\n",
       "    }\n",
       "\n",
       "    .dataframe tbody tr th {\n",
       "        vertical-align: top;\n",
       "    }\n",
       "\n",
       "    .dataframe thead th {\n",
       "        text-align: right;\n",
       "    }\n",
       "</style>\n",
       "<table border=\"1\" class=\"dataframe\">\n",
       "  <thead>\n",
       "    <tr style=\"text-align: right;\">\n",
       "      <th></th>\n",
       "      <th>Predicted Default</th>\n",
       "    </tr>\n",
       "  </thead>\n",
       "  <tbody>\n",
       "    <tr>\n",
       "      <th>0</th>\n",
       "      <td>0</td>\n",
       "    </tr>\n",
       "    <tr>\n",
       "      <th>1</th>\n",
       "      <td>0</td>\n",
       "    </tr>\n",
       "    <tr>\n",
       "      <th>2</th>\n",
       "      <td>0</td>\n",
       "    </tr>\n",
       "    <tr>\n",
       "      <th>3</th>\n",
       "      <td>0</td>\n",
       "    </tr>\n",
       "    <tr>\n",
       "      <th>4</th>\n",
       "      <td>0</td>\n",
       "    </tr>\n",
       "  </tbody>\n",
       "</table>\n",
       "</div>"
      ],
      "text/plain": [
       "   Predicted Default\n",
       "0                  0\n",
       "1                  0\n",
       "2                  0\n",
       "3                  0\n",
       "4                  0"
      ]
     },
     "execution_count": 101,
     "metadata": {},
     "output_type": "execute_result"
    }
   ],
   "source": [
    "y_pred_inf = gb_gridcv_best.predict(data_inf_final)\n",
    "y_pred_inf_df = pd.DataFrame(y_pred_inf, columns=['Predicted Default'])\n",
    "y_pred_inf_df"
   ]
  },
  {
   "cell_type": "code",
   "execution_count": null,
   "metadata": {},
   "outputs": [
    {
     "data": {
      "text/html": [
       "<div>\n",
       "<style scoped>\n",
       "    .dataframe tbody tr th:only-of-type {\n",
       "        vertical-align: middle;\n",
       "    }\n",
       "\n",
       "    .dataframe tbody tr th {\n",
       "        vertical-align: top;\n",
       "    }\n",
       "\n",
       "    .dataframe thead th {\n",
       "        text-align: right;\n",
       "    }\n",
       "</style>\n",
       "<table border=\"1\" class=\"dataframe\">\n",
       "  <thead>\n",
       "    <tr style=\"text-align: right;\">\n",
       "      <th></th>\n",
       "      <th>limit</th>\n",
       "      <th>sex</th>\n",
       "      <th>education</th>\n",
       "      <th>marriage</th>\n",
       "      <th>age</th>\n",
       "      <th>pay_1</th>\n",
       "      <th>pay_2</th>\n",
       "      <th>pay_3</th>\n",
       "      <th>pay_4</th>\n",
       "      <th>pay_5</th>\n",
       "      <th>pay_6</th>\n",
       "      <th>bill_amt_1</th>\n",
       "      <th>bill_amt_2</th>\n",
       "      <th>bill_amt_3</th>\n",
       "      <th>bill_amt_4</th>\n",
       "      <th>bill_amt_5</th>\n",
       "      <th>bill_amt_6</th>\n",
       "      <th>pay_amt_1</th>\n",
       "      <th>pay_amt_2</th>\n",
       "      <th>pay_amt_3</th>\n",
       "      <th>pay_amt_4</th>\n",
       "      <th>pay_amt_5</th>\n",
       "      <th>pay_amt_6</th>\n",
       "      <th>default</th>\n",
       "      <th>Predicted Default</th>\n",
       "    </tr>\n",
       "  </thead>\n",
       "  <tbody>\n",
       "    <tr>\n",
       "      <th>0</th>\n",
       "      <td>300000</td>\n",
       "      <td>2</td>\n",
       "      <td>2</td>\n",
       "      <td>1</td>\n",
       "      <td>46</td>\n",
       "      <td>0</td>\n",
       "      <td>0</td>\n",
       "      <td>0</td>\n",
       "      <td>0</td>\n",
       "      <td>0</td>\n",
       "      <td>0</td>\n",
       "      <td>5287</td>\n",
       "      <td>5750</td>\n",
       "      <td>2977</td>\n",
       "      <td>4796</td>\n",
       "      <td>2367</td>\n",
       "      <td>7367</td>\n",
       "      <td>3000</td>\n",
       "      <td>3000</td>\n",
       "      <td>2500</td>\n",
       "      <td>2367</td>\n",
       "      <td>5000</td>\n",
       "      <td>3000</td>\n",
       "      <td>0</td>\n",
       "      <td>0</td>\n",
       "    </tr>\n",
       "    <tr>\n",
       "      <th>1</th>\n",
       "      <td>50000</td>\n",
       "      <td>1</td>\n",
       "      <td>2</td>\n",
       "      <td>1</td>\n",
       "      <td>50</td>\n",
       "      <td>1</td>\n",
       "      <td>1</td>\n",
       "      <td>0</td>\n",
       "      <td>0</td>\n",
       "      <td>0</td>\n",
       "      <td>0</td>\n",
       "      <td>36750</td>\n",
       "      <td>0</td>\n",
       "      <td>0</td>\n",
       "      <td>0</td>\n",
       "      <td>0</td>\n",
       "      <td>0</td>\n",
       "      <td>5000</td>\n",
       "      <td>0</td>\n",
       "      <td>0</td>\n",
       "      <td>0</td>\n",
       "      <td>0</td>\n",
       "      <td>0</td>\n",
       "      <td>0</td>\n",
       "      <td>0</td>\n",
       "    </tr>\n",
       "    <tr>\n",
       "      <th>2</th>\n",
       "      <td>30000</td>\n",
       "      <td>2</td>\n",
       "      <td>2</td>\n",
       "      <td>2</td>\n",
       "      <td>24</td>\n",
       "      <td>0</td>\n",
       "      <td>0</td>\n",
       "      <td>0</td>\n",
       "      <td>0</td>\n",
       "      <td>0</td>\n",
       "      <td>0</td>\n",
       "      <td>23729</td>\n",
       "      <td>27889</td>\n",
       "      <td>29500</td>\n",
       "      <td>29639</td>\n",
       "      <td>27546</td>\n",
       "      <td>6718</td>\n",
       "      <td>10000</td>\n",
       "      <td>2061</td>\n",
       "      <td>1200</td>\n",
       "      <td>551</td>\n",
       "      <td>0</td>\n",
       "      <td>0</td>\n",
       "      <td>1</td>\n",
       "      <td>0</td>\n",
       "    </tr>\n",
       "    <tr>\n",
       "      <th>3</th>\n",
       "      <td>60000</td>\n",
       "      <td>2</td>\n",
       "      <td>2</td>\n",
       "      <td>1</td>\n",
       "      <td>37</td>\n",
       "      <td>0</td>\n",
       "      <td>0</td>\n",
       "      <td>0</td>\n",
       "      <td>0</td>\n",
       "      <td>0</td>\n",
       "      <td>0</td>\n",
       "      <td>38670</td>\n",
       "      <td>37606</td>\n",
       "      <td>35189</td>\n",
       "      <td>31373</td>\n",
       "      <td>28455</td>\n",
       "      <td>26598</td>\n",
       "      <td>1606</td>\n",
       "      <td>1674</td>\n",
       "      <td>1420</td>\n",
       "      <td>937</td>\n",
       "      <td>1006</td>\n",
       "      <td>1039</td>\n",
       "      <td>0</td>\n",
       "      <td>0</td>\n",
       "    </tr>\n",
       "    <tr>\n",
       "      <th>4</th>\n",
       "      <td>20000</td>\n",
       "      <td>1</td>\n",
       "      <td>4</td>\n",
       "      <td>2</td>\n",
       "      <td>21</td>\n",
       "      <td>0</td>\n",
       "      <td>0</td>\n",
       "      <td>0</td>\n",
       "      <td>0</td>\n",
       "      <td>0</td>\n",
       "      <td>0</td>\n",
       "      <td>13203</td>\n",
       "      <td>4443</td>\n",
       "      <td>3259</td>\n",
       "      <td>2969</td>\n",
       "      <td>0</td>\n",
       "      <td>0</td>\n",
       "      <td>1036</td>\n",
       "      <td>1132</td>\n",
       "      <td>2000</td>\n",
       "      <td>0</td>\n",
       "      <td>0</td>\n",
       "      <td>0</td>\n",
       "      <td>0</td>\n",
       "      <td>0</td>\n",
       "    </tr>\n",
       "  </tbody>\n",
       "</table>\n",
       "</div>"
      ],
      "text/plain": [
       "    limit sex education marriage  age pay_1 pay_2 pay_3 pay_4 pay_5 pay_6  \\\n",
       "0  300000   2         2        1   46     0     0     0     0     0     0   \n",
       "1   50000   1         2        1   50     1     1     0     0     0     0   \n",
       "2   30000   2         2        2   24     0     0     0     0     0     0   \n",
       "3   60000   2         2        1   37     0     0     0     0     0     0   \n",
       "4   20000   1         4        2   21     0     0     0     0     0     0   \n",
       "\n",
       "   bill_amt_1  bill_amt_2  bill_amt_3  bill_amt_4  bill_amt_5  bill_amt_6  \\\n",
       "0        5287        5750        2977        4796        2367        7367   \n",
       "1       36750           0           0           0           0           0   \n",
       "2       23729       27889       29500       29639       27546        6718   \n",
       "3       38670       37606       35189       31373       28455       26598   \n",
       "4       13203        4443        3259        2969           0           0   \n",
       "\n",
       "   pay_amt_1  pay_amt_2  pay_amt_3  pay_amt_4  pay_amt_5  pay_amt_6  default  \\\n",
       "0       3000       3000       2500       2367       5000       3000        0   \n",
       "1       5000          0          0          0          0          0        0   \n",
       "2      10000       2061       1200        551          0          0        1   \n",
       "3       1606       1674       1420        937       1006       1039        0   \n",
       "4       1036       1132       2000          0          0          0        0   \n",
       "\n",
       "   Predicted Default  \n",
       "0                  0  \n",
       "1                  0  \n",
       "2                  0  \n",
       "3                  0  \n",
       "4                  0  "
      ]
     },
     "execution_count": 102,
     "metadata": {},
     "output_type": "execute_result"
    }
   ],
   "source": [
    "pd.concat([data_inf, y_pred_inf_df], axis=1)"
   ]
  },
  {
   "cell_type": "markdown",
   "metadata": {},
   "source": [
    "Dilakukan pengujian ulang pada model menggunakan data inference/data baru yang belum pernah dilihat oleh model sebelumnya. Kita ingin melihat apakah model mampu melakukan klasifikasi untuk data baru ini. Disini model berhasil melakukan klasifikasi pada data baru, namun dari lima data yang diuji ditemukan adanya kesalahan dalam klasifikasi untuk label/kelas 1 (default). Hal ini wajar terjadi karena melihat dari performa model yang dibuat, model masih belum bisa mengklasifikasi label/kelas 1 (default) dengan baik."
   ]
  },
  {
   "cell_type": "markdown",
   "metadata": {},
   "source": [
    "# **IX. CONCLUSIONS**\n",
    "\n",
    "Penulis sudah berhasil membuat beberapa model machine learning yang bertujuan untuk membantu perusahaan dalam melakukan klasifikasi nasabah default dan non-default. Dari beberapa model ini ingin dilihat model mana yang paling bagus ketepatannya dalam melakukan klasifikasi nasabah, karena dari sisi perusahaan setiap ada kesalahan dalam klasifikasi maka ada kerugian yang harus ditanggung oleh perusahaan. Ketika ada nasabah default yang diklasifikasi menjadi nasabah non-default, maka perusahaan akan kehilangan uang yang sudah dipinjamkan karena nasabah tidak membayar. Dan ketika ada nasabah non-default yang diklasifikasi menjadi nasabah default, maka akan timbul mistreatment/mishandling ke nasabah tersebut, hal ini bisa menyebabkan nasabah kecewa dan berhenti menggunakan produk kita atau perusahaan akan merugi karena kehilangan nasabah non-default.\n",
    "\n",
    "Penulis memilih model Gradient Boosting sebagai model yang paling baik performanya/ketepatannya dalam melakukan klasifikasi nasabah. Keputusan ini didasarkan oleh nilai accuracy dan recall dari setiap model. Nilai accuracy sebagai acuan apakah model yang dibuat sudah fit atau ada kecenderungan untuk overfit atau underfit. Nilai recall digunakan sebagai acuan dari ketepatan model dalam melakukan klasifikasi nasabah, dimana jika nilainya mendekati satu maka akan semakin tepat klasifikasinya. Model Gradient Boosting ini memiliki nilai recall untuk nasabah non-default sebesar 0.95 dan nilai recall untuk nasabah default sebesar 0.47. Atau bisa diartikan sebagai:\n",
    "- Dari seluruh nasabah non-default, model berhasil melakukan klasifikasi dengan tepat untuk 95% nasabah dan ada 5% nasabah non-default yang salah klasifikasi menjadi nasabah default.\n",
    "- Dari seluruh nasabah default, model hanya berhasil melakukan klasifikasi dengan tepat untuk 47% nasabah saja. Berarti ada 53% nasabah default yang diklasifikasi model sebagai nasabah non-default.\n",
    "\n",
    "Dari hasil diatas sebenarnya bisa dilihat bahwa model yang dibuat masih kurang bisa mengklasifikasi nasabah default dengan tepat. Resiko salah klasifikasinya sangat besar bahkan sampai di angka 53%. Berbeda dengan hasil untuk nasabah non-default dimana ketepatan klasifikasinya sudah baik yaitu di angka 95%, resiko kesalahan klasifikasi nasabah hanya di angka 5% saja. Jadi model ini akan lebih tepat guna jika perusahaan ingin menggunakannya untuk mengklasifikasi nasabah non-default saja. Model ini akan membantu jika perusahaan ingin menawarkan kartu kredit tambahan, pinjaman untuk kendaraan, pinjaman untuk tempat tinggal, dan pinjaman lainnya karena kita tahu bahwa nasabah akan membayar kembali pinjaman tersebut.\n",
    "\n",
    "Dari analisis kali ini kita juga bisa mengetahui karakteristik dari nasabah-nasabah yang kita miliki. Hal ini akan membantu perusahaan dalam pengambilan strategi promosi ataupun risk prevention untuk kedepannya. Beberapa karakteristik nasabah kita adalah:\n",
    "- Nasabah laki-laki lebih cenderung melakukan default dibandingkan dengan nasabah perempuan.\n",
    "- Nasabah dengan latar pendidikan Graduate School lebih kecil kecenderungan defaultnya dibandingkan dengan nasabah dengan latar pendidikan University atau High School.\n",
    "- Nasabah yang sudah menikah lebih cenderung melakukan default dibandingkan dengan nasabah yang masih sendiri baik lajang maupun sudah bercerai.\n",
    "- Nasabah dengan rentang usia 41-50 tahun memiliki kecenderungan default yang paling tinggi jika dibandingkan dengan rentang usia lainnya\n",
    "- Nasabah dengan limit pinjaman kecil (kurang dari 100.000) lebih cenderung melakukan default dibandingkan dengan nasabah dengan limit pinjaman yang besar.\n",
    "\n",
    "Tentu saja dalam analisis pembuatan model kali ini masih jauh dari kata sempurna, apalagi jika melihat performa model yang masih kurang baik dalam melakukan klasifikasi nasabah default atau dengan kata lain kurang bisa membantu perusahaan dalam upaya pencegahan kredit macet/tunggakan yang dilakukan nasabah. Ada beberapa saran yang mungkin dapat dilakukan kedepannya yaitu:\n",
    "- Mencoba melakukan handling untuk kolom target kita, karena kolom target kita disini bisa dikatakan imbalance. Handling data imbalance bisa dicoba menggunakan resampling (over dan under) ataupun metode handling imbalance yang lain. Mungkin bisa memperbaiki ketepatan model dalam mengklasifikasi nasabah default.\n",
    "- Mencoba melakukan hyperparameter tuning untuk model yang lainnya. Mungkin ada model yang peningkatan performanya signifikan dibandingkan dengan model Gradient Boosting ini.\n"
   ]
  },
  {
   "cell_type": "markdown",
   "metadata": {},
   "source": [
    "# **X. CONCEPTUAL PROBLEMS**"
   ]
  },
  {
   "cell_type": "markdown",
   "metadata": {},
   "source": [
    "## 1. Apakah fungsi parameter criterion pada Decision Tree? Jelaskan salah satu criterion yang kalian pahami!\n",
    "\n",
    "Jawaban : Criterion adalah sebuah parameter untuk menentukan pemisahan atributnya, dimana untuk pemisahan atribut disini berdasarkan perhitungan impuritas dari atributnya. Salah satu parameter Criterion adalah Gini Index, Gini Index adalah suatu nilai yang menunjukkan kemurnian dari sebuah atribut. Jika Gini Index bernilai nol maka atribut tersebut dapat dikatakan murni, atau atribut tersebut hanya mengandung satu kelas/label saja. Tetapi jika Gini Index lebih dari nol, maka atribut tersebut dapat dikatakan tidak murni, atau atribut tersebut mengandung kelas/label yang harusnya milik atribut lain.\n",
    "\n",
    "source : `https://towardsdatascience.com/scikit-learn-decision-trees-explained-803f3812290d`"
   ]
  },
  {
   "cell_type": "markdown",
   "metadata": {},
   "source": [
    "## 2. Apakah fungsi dari pruning pada Tree model?\n",
    "\n",
    "Jawaban : Pruning adalah salah satu metode untuk mengatasi over-fitting pada tree-based model. Pruning bertujuan untuk mengurangi kompleksitas dari Tree yang dibuat dengan cara menghapus/menghilangkan leafs/nodes yang tidak memiliki kekuatan/signifikansi dalam klasifikasi label (weakest link). Cara mengetahui leaf/nodes mana yang merupakan weakest link adalah dengan menghitung nilai alpha-nya, nilai alpha yang kecil menunjukkan weakest link dan bagian inilah yang akan di-pruning duluan.\n",
    "\n",
    "source : `https://towardsdatascience.com/build-better-decision-trees-with-pruning-8f467e73b107`"
   ]
  },
  {
   "cell_type": "markdown",
   "metadata": {},
   "source": [
    "## 3. Bagaimana cara memilih K yang optimal pada KNN?\n",
    "\n",
    "Jawaban : Secara umum tidak ada metode atau fungsi yang bertujuan untuk mendapatkan nilai K yang paling optimal. Namun ada beberapa tahapan yang bisa dilakukan untuk mendapatkan nilai K yang paling optimal yaitu dengan cara try and error. Jadi awalnya masukkan angka random untuk nilai K nya lalu lakukan pemodelannya, angka ini tidak boleh terlalu kecil karena model akan cenderung tidak stabil dalam penentuan batasannya. Setelah didapatkan nilai accuracy dari angka pertama, masukkan kembali angka lainnya dan jalankan pemodelannya kembali. Setelah beberapa percobaan bisa kita plot grafik antara nilai K vs accuracynya, dan dari grafik ini kita bisa melihat nilai K mana yang paling optimal untuk digunakan dalam mode KNN.\n",
    "\n",
    "source : `https://towardsdatascience.com/how-to-find-the-optimal-value-of-k-in-knn-35d936e554eb`"
   ]
  },
  {
   "cell_type": "markdown",
   "metadata": {},
   "source": [
    "## 4. Jelaskan apa yang kalian ketahui tentang Cross Validation!\n",
    "\n",
    "Jawaban : Cross Validation adalah salah satu metode yang digunakan untuk mengevaluasi performa model yang dibuat. Yang biasa dilakukan adalah kita memecah/split data yang kita punya menjadi beberapa bagian kecil secara acak/random untuk selanjutnya dihitung performa yang didapatkan dari data yang sudah kita pecah itu. Harapannya model yang kita buat memiliki performa yang konsisten ketika melakukan prediksi/klasifikasi menggunakan data yang sudah displit menjadi beberapa bagian tadi. Salah satu metode cross validation yang sering kita gunakan adalah pemisahan data menjadi data train dan test yang kita lakukan pengetesan secara terpisah namun diharapkan hasil yang didapatkan sama bagusnya. Metode - metode cross validation yang lain ada K-Fold, Stratified K-Fold, Leave-One-Out Cross Validation, dan lainnya.\n",
    "\n",
    "source : `https://towardsdatascience.com/what-is-cross-validation-60c01f9d9e75`"
   ]
  },
  {
   "cell_type": "markdown",
   "metadata": {},
   "source": [
    "## 5. Jelaskan apa yang kalian ketahui tentang Accuracy, Precision, Recall, F1 Score!\n",
    "\n",
    "Jawaban :\n",
    "\n",
    "- Accuracy : Proporsi/rasio dari hasil yang benar dibandingkan dengan jumlah total datanya. Secara rumus dapat ditulis *accuracy = (TP+TN)/(TP+FP+FN+TN)*\n",
    "- Precision : Precision menjelaskan berapa proporsi dari yang diklasifikasikan sebagai positif yang memang aktual positif. Secara rumus dapat ditulis *precision = TP/(TP+FP)*\n",
    "- Recall : Recall menjelaskan berapa proporsi dari semua aktual positif yang dapat diklasifikasi secara tepat. Secara rumus dapat ditulis *recall = TP/(TP+FN)*\n",
    "- F1 Score : F1 Score merupakan rata-rata harmonic/harmonic mean dari nilai recall dan precision. Jadi nilainya akan berhubungan dengan recall ataupun precision, jika nilai precision kecil maka F1 score akan kecil juga begitu pula jika nilai recall kecil maka nilai F1 score juga akan kecil. Secara rumus dapat ditulis *F1 score = 2 x ((precision x recall)/(precision + recall))*\n",
    "\n",
    "source : `https://towardsdatascience.com/the-5-classification-evaluation-metrics-you-must-know-aa97784ff226`"
   ]
  }
 ],
 "metadata": {
  "kernelspec": {
   "display_name": "Python 3.9.12 ('base')",
   "language": "python",
   "name": "python3"
  },
  "language_info": {
   "codemirror_mode": {
    "name": "ipython",
    "version": 3
   },
   "file_extension": ".py",
   "mimetype": "text/x-python",
   "name": "python",
   "nbconvert_exporter": "python",
   "pygments_lexer": "ipython3",
   "version": "3.9.12"
  },
  "orig_nbformat": 4,
  "vscode": {
   "interpreter": {
    "hash": "cf222b8a245eb29bee3b460393575987629655e73ab8896d67c96c1e560c9ea9"
   }
  }
 },
 "nbformat": 4,
 "nbformat_minor": 2
}
